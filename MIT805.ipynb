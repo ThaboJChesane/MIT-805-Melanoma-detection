{
 "cells": [
  {
   "cell_type": "markdown",
   "id": "62155bbb",
   "metadata": {},
   "source": [
    "# MIT 805: Assignment part 2\n",
    "## Thabo Chesane\n",
    "## u20507102"
   ]
  },
  {
   "cell_type": "markdown",
   "id": "1cb321ed",
   "metadata": {},
   "source": [
    "### Packages required"
   ]
  },
  {
   "cell_type": "code",
   "execution_count": 2,
   "id": "71600145",
   "metadata": {},
   "outputs": [],
   "source": [
    "# %pip install pillow numpy pandas scikit-learn plotly tqdm\n"
   ]
  },
  {
   "cell_type": "markdown",
   "id": "2ce83a4d",
   "metadata": {},
   "source": [
    "### imports & config"
   ]
  },
  {
   "cell_type": "code",
   "execution_count": 3,
   "id": "50912c28",
   "metadata": {},
   "outputs": [],
   "source": [
    "from pathlib import Path\n",
    "import os, io, math, json, itertools\n",
    "from collections import defaultdict, Counter\n",
    "from dataclasses import dataclass\n",
    "from typing import List, Tuple, Dict\n",
    "\n",
    "import numpy as np\n",
    "import pandas as pd\n",
    "from PIL import Image\n",
    "from tqdm import tqdm\n",
    "\n",
    "from sklearn.model_selection import train_test_split\n",
    "from sklearn.decomposition import PCA\n",
    "from sklearn.preprocessing import LabelEncoder, StandardScaler\n",
    "from sklearn.linear_model import LogisticRegression\n",
    "from sklearn.metrics import classification_report, confusion_matrix\n",
    "\n",
    "import plotly.express as px\n",
    "import plotly.graph_objects as go"
   ]
  },
  {
   "cell_type": "markdown",
   "id": "edc4acf9",
   "metadata": {},
   "source": [
    "### Check folders exist"
   ]
  },
  {
   "cell_type": "code",
   "execution_count": null,
   "id": "9795b11d",
   "metadata": {},
   "outputs": [],
   "source": [
    "DATA_ROOT = Path(\"skin-lesions\")   \n",
    "\n",
    "\n",
    "assert (DATA_ROOT / \"train\").exists(), \"Missing 'train' folder under DATA_ROOT\"\n",
    "assert (DATA_ROOT / \"valid\").exists(), \"Missing 'valid' folder under DATA_ROOT\"\n",
    "assert (DATA_ROOT / \"test\").exists(),  \"Missing 'test' folder under DATA_ROOT\""
   ]
  },
  {
   "cell_type": "code",
   "execution_count": 5,
   "id": "65e916ee",
   "metadata": {},
   "outputs": [
    {
     "data": {
      "text/plain": [
       "['melanoma', 'nevus', 'seborrheic_keratosis']"
      ]
     },
     "execution_count": 5,
     "metadata": {},
     "output_type": "execute_result"
    }
   ],
   "source": [
    "CLASSES = sorted([p.name for p in (DATA_ROOT/\"train\").iterdir() if p.is_dir()])\n",
    "CLASSES"
   ]
  },
  {
   "cell_type": "code",
   "execution_count": 6,
   "id": "801e06e0",
   "metadata": {},
   "outputs": [
    {
     "data": {
      "text/plain": [
       "(2000, 150, 600)"
      ]
     },
     "execution_count": 6,
     "metadata": {},
     "output_type": "execute_result"
    }
   ],
   "source": [
    "def list_images_with_labels(split: str) -> List[Tuple[Path, str]]:\n",
    "    base = DATA_ROOT / split\n",
    "    items = []\n",
    "    for cls in CLASSES:\n",
    "        for p in (base / cls).glob(\"*.jpg\"):\n",
    "            items.append((p, cls))\n",
    "        for p in (base / cls).glob(\"*.png\"):\n",
    "            items.append((p, cls))\n",
    "        for p in (base / cls).glob(\"*.jpeg\"):\n",
    "            items.append((p, cls))\n",
    "    return items\n",
    "\n",
    "train_files = list_images_with_labels(\"train\")\n",
    "valid_files = list_images_with_labels(\"valid\")\n",
    "test_files  = list_images_with_labels(\"test\")\n",
    "\n",
    "len(train_files), len(valid_files), len(test_files)"
   ]
  },
  {
   "cell_type": "code",
   "execution_count": 7,
   "id": "d7f4c452",
   "metadata": {},
   "outputs": [
    {
     "data": {
      "text/html": [
       "<div>\n",
       "<style scoped>\n",
       "    .dataframe tbody tr th:only-of-type {\n",
       "        vertical-align: middle;\n",
       "    }\n",
       "\n",
       "    .dataframe tbody tr th {\n",
       "        vertical-align: top;\n",
       "    }\n",
       "\n",
       "    .dataframe thead th {\n",
       "        text-align: right;\n",
       "    }\n",
       "</style>\n",
       "<table border=\"1\" class=\"dataframe\">\n",
       "  <thead>\n",
       "    <tr style=\"text-align: right;\">\n",
       "      <th></th>\n",
       "      <th>label</th>\n",
       "      <th>count</th>\n",
       "    </tr>\n",
       "  </thead>\n",
       "  <tbody>\n",
       "    <tr>\n",
       "      <th>1</th>\n",
       "      <td>nevus</td>\n",
       "      <td>1372</td>\n",
       "    </tr>\n",
       "    <tr>\n",
       "      <th>0</th>\n",
       "      <td>melanoma</td>\n",
       "      <td>374</td>\n",
       "    </tr>\n",
       "    <tr>\n",
       "      <th>2</th>\n",
       "      <td>seborrheic_keratosis</td>\n",
       "      <td>254</td>\n",
       "    </tr>\n",
       "  </tbody>\n",
       "</table>\n",
       "</div>"
      ],
      "text/plain": [
       "                  label  count\n",
       "1                 nevus   1372\n",
       "0              melanoma    374\n",
       "2  seborrheic_keratosis    254"
      ]
     },
     "execution_count": 7,
     "metadata": {},
     "output_type": "execute_result"
    }
   ],
   "source": [
    "def split_counts(files):\n",
    "    c = Counter([lbl for _, lbl in files])\n",
    "    return pd.DataFrame({\"label\": list(c.keys()), \"count\": list(c.values())}).sort_values(\"count\", ascending=False)\n",
    "\n",
    "split_summary = {\n",
    "    \"train\": split_counts(train_files),\n",
    "    \"valid\": split_counts(valid_files),\n",
    "    \"test\":  split_counts(test_files)\n",
    "}\n",
    "split_summary[\"train\"]"
   ]
  },
  {
   "cell_type": "code",
   "execution_count": null,
   "id": "5fff829b",
   "metadata": {},
   "outputs": [],
   "source": [
    "def _image_to_array(path: Path, target_size=(256, 256)):\n",
    "    \n",
    "    with Image.open(path) as im:\n",
    "        im = im.convert(\"RGB\").resize(target_size, Image.BILINEAR)\n",
    "        return np.asarray(im, dtype=np.uint8)\n",
    "\n",
    "def _gradient_magnitude(gray: np.ndarray) -> np.ndarray:\n",
    "    \n",
    "    gx = np.array([[-1,0,1],[-2,0,2],[-1,0,1]], dtype=np.int32)\n",
    "    gy = gx.T\n",
    "    \n",
    "    g = gray.astype(np.int32)\n",
    "    pad = np.pad(g, ((1,1),(1,1)), mode=\"edge\")\n",
    "\n",
    "    mx = np.zeros_like(g, dtype=np.float32)\n",
    "    my = np.zeros_like(g, dtype=np.float32)\n",
    "    for i in range(g.shape[0]):\n",
    "        for j in range(g.shape[1]):\n",
    "            roi = pad[i:i+3, j:j+3]\n",
    "            mx[i,j] = (roi * gx).sum()\n",
    "            my[i,j] = (roi * gy).sum()\n",
    "    mag = np.sqrt(mx*mx + my*my)\n",
    "    \n",
    "    mag = mag / (mag.max() + 1e-9) * 255.0\n",
    "    return mag.astype(np.float32)\n",
    "\n",
    "def extract_features(img_rgb: np.ndarray) -> np.ndarray:\n",
    "    \n",
    "    feat = []\n",
    "    for ch in range(3):\n",
    "        h, _ = np.histogram(img_rgb[..., ch], bins=32, range=(0,256), density=True)\n",
    "        feat.append(h.astype(np.float32))\n",
    "    \n",
    "    gray = (0.299*img_rgb[...,0] + 0.587*img_rgb[...,1] + 0.114*img_rgb[...,2]).astype(np.uint8)\n",
    "    mag = _gradient_magnitude(gray)\n",
    "    th, _ = np.histogram(mag, bins=32, range=(0,255), density=True)\n",
    "    feat.append(th.astype(np.float32))\n",
    "    return np.concatenate(feat)  \n",
    "\n",
    "def map_image_to_kv(path: Path, label: str) -> Tuple[str, np.ndarray]:\n",
    "    arr = _image_to_array(path)\n",
    "    feat = extract_features(arr)\n",
    "    return (label, feat)"
   ]
  },
  {
   "cell_type": "markdown",
   "id": "56cb90a3",
   "metadata": {},
   "source": [
    "### MapReduce Implementation"
   ]
  },
  {
   "cell_type": "markdown",
   "id": "0a932ea3",
   "metadata": {},
   "source": [
    "#### Map"
   ]
  },
  {
   "cell_type": "code",
   "execution_count": 9,
   "id": "4adc4678",
   "metadata": {},
   "outputs": [
    {
     "name": "stderr",
     "output_type": "stream",
     "text": [
      "Mapping images: 100%|██████████| 2000/2000 [09:13<00:00,  3.61it/s]\n",
      "Mapping images: 100%|██████████| 150/150 [00:48<00:00,  3.11it/s]\n",
      "Mapping images: 100%|██████████| 600/600 [03:39<00:00,  2.73it/s]\n"
     ]
    },
    {
     "data": {
      "text/plain": [
       "(2000, 150, 600)"
      ]
     },
     "execution_count": 9,
     "metadata": {},
     "output_type": "execute_result"
    }
   ],
   "source": [
    "SAMPLE = None  \n",
    "\n",
    "def map_split(files: List[Tuple[Path, str]], sample=SAMPLE):\n",
    "    if sample is not None and len(files) > sample:\n",
    "        files = list(itertools.islice(files, sample))\n",
    "    out = []\n",
    "    for p, lbl in tqdm(files, desc=\"Mapping images\"):\n",
    "        try:\n",
    "            out.append(map_image_to_kv(p, lbl))\n",
    "        except Exception as e:\n",
    "            # skip unreadable/corrupt files\n",
    "            continue\n",
    "    return out\n",
    "\n",
    "mapped_train = map_split(train_files)\n",
    "mapped_valid = map_split(valid_files)\n",
    "mapped_test  = map_split(test_files)\n",
    "\n",
    "len(mapped_train), len(mapped_valid), len(mapped_test)"
   ]
  },
  {
   "cell_type": "markdown",
   "id": "c5b0a79d",
   "metadata": {},
   "source": [
    "#### Shuffle"
   ]
  },
  {
   "cell_type": "code",
   "execution_count": 10,
   "id": "69b0e955",
   "metadata": {},
   "outputs": [
    {
     "data": {
      "text/plain": [
       "{'melanoma': 374, 'nevus': 1372, 'seborrheic_keratosis': 254}"
      ]
     },
     "execution_count": 10,
     "metadata": {},
     "output_type": "execute_result"
    }
   ],
   "source": [
    "def shuffle_group_by_label(mapped_records: List[Tuple[str, np.ndarray]]) -> Dict[str, List[np.ndarray]]:\n",
    "    grouped = defaultdict(list)\n",
    "    for lbl, feat in mapped_records:\n",
    "        grouped[lbl].append(feat)\n",
    "    return grouped\n",
    "\n",
    "grouped_train = shuffle_group_by_label(mapped_train)\n",
    "{k: len(v) for k, v in grouped_train.items()}\n"
   ]
  },
  {
   "cell_type": "markdown",
   "id": "ffe4ed7d",
   "metadata": {},
   "source": [
    "#### Reduce"
   ]
  },
  {
   "cell_type": "code",
   "execution_count": null,
   "id": "78547943",
   "metadata": {},
   "outputs": [
    {
     "data": {
      "text/plain": [
       "{'melanoma': 374, 'nevus': 1372, 'seborrheic_keratosis': 254}"
      ]
     },
     "execution_count": 11,
     "metadata": {},
     "output_type": "execute_result"
    }
   ],
   "source": [
    "def reduce_class_stats(grouped: Dict[str, List[np.ndarray]]):\n",
    "    stats = {}\n",
    "    for lbl, feats in grouped.items():\n",
    "        M = np.stack(feats, axis=0).astype(np.float64)\n",
    "        cnt = M.shape[0]\n",
    "        mean = M.mean(axis=0)\n",
    "        var  = M.var(axis=0)\n",
    "        stats[lbl] = {\"count\": int(cnt), \"mean\": mean.astype(np.float32), \"var\": var.astype(np.float32)}\n",
    "    return stats\n",
    "\n",
    "class_stats = reduce_class_stats(grouped_train)\n",
    "{lbl: v[\"count\"] for lbl, v in class_stats.items()}"
   ]
  },
  {
   "cell_type": "code",
   "execution_count": 12,
   "id": "3e1a0fca",
   "metadata": {},
   "outputs": [
    {
     "data": {
      "text/plain": [
       "((2000, 129), (150, 129), (600, 129))"
      ]
     },
     "execution_count": 12,
     "metadata": {},
     "output_type": "execute_result"
    }
   ],
   "source": [
    "def records_to_dataframe(mapped_records: List[Tuple[str, np.ndarray]]) -> pd.DataFrame:\n",
    "    labels = [lbl for lbl, _ in mapped_records]\n",
    "    feats  = [feat for _, feat in mapped_records]\n",
    "    X = np.vstack(feats)\n",
    "    df = pd.DataFrame(X, columns=[f\"f{i:03d}\" for i in range(X.shape[1])])\n",
    "    df[\"label\"] = labels\n",
    "    return df\n",
    "\n",
    "df_train = records_to_dataframe(mapped_train)\n",
    "df_valid = records_to_dataframe(mapped_valid)\n",
    "df_test  = records_to_dataframe(mapped_test)\n",
    "\n",
    "df_train.shape, df_valid.shape, df_test.shape"
   ]
  },
  {
   "cell_type": "markdown",
   "id": "ae6e598c",
   "metadata": {},
   "source": [
    "### Visualisations"
   ]
  },
  {
   "cell_type": "code",
   "execution_count": 13,
   "id": "528e43a3",
   "metadata": {},
   "outputs": [
    {
     "name": "stderr",
     "output_type": "stream",
     "text": [
      "/opt/anaconda3/lib/python3.12/site-packages/kaleido/__init__.py:14: UserWarning:\n",
      "\n",
      "\n",
      "\n",
      "Warning: You have Plotly version 5.24.1, which is not compatible with this version of Kaleido (1.0.0).\n",
      "\n",
      "This means that static image generation (e.g. `fig.write_image()`) will not work.\n",
      "\n",
      "Please upgrade Plotly to version 6.1.1 or greater, or downgrade Kaleido to version 0.2.1.\n",
      "\n",
      "\n"
     ]
    },
    {
     "data": {
      "application/vnd.plotly.v1+json": {
       "config": {
        "plotlyServerURL": "https://plot.ly"
       },
       "data": [
        {
         "alignmentgroup": "True",
         "hovertemplate": "label=%{x}<br>count=%{text}<extra></extra>",
         "legendgroup": "",
         "marker": {
          "color": "#636efa",
          "pattern": {
           "shape": ""
          }
         },
         "name": "",
         "offsetgroup": "",
         "orientation": "v",
         "showlegend": false,
         "text": [
          1372,
          374,
          254
         ],
         "textposition": "outside",
         "type": "bar",
         "x": [
          "nevus",
          "melanoma",
          "seborrheic_keratosis"
         ],
         "xaxis": "x",
         "y": [
          1372,
          374,
          254
         ],
         "yaxis": "y"
        }
       ],
       "layout": {
        "barmode": "relative",
        "legend": {
         "tracegroupgap": 0
        },
        "template": {
         "data": {
          "bar": [
           {
            "error_x": {
             "color": "#2a3f5f"
            },
            "error_y": {
             "color": "#2a3f5f"
            },
            "marker": {
             "line": {
              "color": "#E5ECF6",
              "width": 0.5
             },
             "pattern": {
              "fillmode": "overlay",
              "size": 10,
              "solidity": 0.2
             }
            },
            "type": "bar"
           }
          ],
          "barpolar": [
           {
            "marker": {
             "line": {
              "color": "#E5ECF6",
              "width": 0.5
             },
             "pattern": {
              "fillmode": "overlay",
              "size": 10,
              "solidity": 0.2
             }
            },
            "type": "barpolar"
           }
          ],
          "carpet": [
           {
            "aaxis": {
             "endlinecolor": "#2a3f5f",
             "gridcolor": "white",
             "linecolor": "white",
             "minorgridcolor": "white",
             "startlinecolor": "#2a3f5f"
            },
            "baxis": {
             "endlinecolor": "#2a3f5f",
             "gridcolor": "white",
             "linecolor": "white",
             "minorgridcolor": "white",
             "startlinecolor": "#2a3f5f"
            },
            "type": "carpet"
           }
          ],
          "choropleth": [
           {
            "colorbar": {
             "outlinewidth": 0,
             "ticks": ""
            },
            "type": "choropleth"
           }
          ],
          "contour": [
           {
            "colorbar": {
             "outlinewidth": 0,
             "ticks": ""
            },
            "colorscale": [
             [
              0,
              "#0d0887"
             ],
             [
              0.1111111111111111,
              "#46039f"
             ],
             [
              0.2222222222222222,
              "#7201a8"
             ],
             [
              0.3333333333333333,
              "#9c179e"
             ],
             [
              0.4444444444444444,
              "#bd3786"
             ],
             [
              0.5555555555555556,
              "#d8576b"
             ],
             [
              0.6666666666666666,
              "#ed7953"
             ],
             [
              0.7777777777777778,
              "#fb9f3a"
             ],
             [
              0.8888888888888888,
              "#fdca26"
             ],
             [
              1,
              "#f0f921"
             ]
            ],
            "type": "contour"
           }
          ],
          "contourcarpet": [
           {
            "colorbar": {
             "outlinewidth": 0,
             "ticks": ""
            },
            "type": "contourcarpet"
           }
          ],
          "heatmap": [
           {
            "colorbar": {
             "outlinewidth": 0,
             "ticks": ""
            },
            "colorscale": [
             [
              0,
              "#0d0887"
             ],
             [
              0.1111111111111111,
              "#46039f"
             ],
             [
              0.2222222222222222,
              "#7201a8"
             ],
             [
              0.3333333333333333,
              "#9c179e"
             ],
             [
              0.4444444444444444,
              "#bd3786"
             ],
             [
              0.5555555555555556,
              "#d8576b"
             ],
             [
              0.6666666666666666,
              "#ed7953"
             ],
             [
              0.7777777777777778,
              "#fb9f3a"
             ],
             [
              0.8888888888888888,
              "#fdca26"
             ],
             [
              1,
              "#f0f921"
             ]
            ],
            "type": "heatmap"
           }
          ],
          "heatmapgl": [
           {
            "colorbar": {
             "outlinewidth": 0,
             "ticks": ""
            },
            "colorscale": [
             [
              0,
              "#0d0887"
             ],
             [
              0.1111111111111111,
              "#46039f"
             ],
             [
              0.2222222222222222,
              "#7201a8"
             ],
             [
              0.3333333333333333,
              "#9c179e"
             ],
             [
              0.4444444444444444,
              "#bd3786"
             ],
             [
              0.5555555555555556,
              "#d8576b"
             ],
             [
              0.6666666666666666,
              "#ed7953"
             ],
             [
              0.7777777777777778,
              "#fb9f3a"
             ],
             [
              0.8888888888888888,
              "#fdca26"
             ],
             [
              1,
              "#f0f921"
             ]
            ],
            "type": "heatmapgl"
           }
          ],
          "histogram": [
           {
            "marker": {
             "pattern": {
              "fillmode": "overlay",
              "size": 10,
              "solidity": 0.2
             }
            },
            "type": "histogram"
           }
          ],
          "histogram2d": [
           {
            "colorbar": {
             "outlinewidth": 0,
             "ticks": ""
            },
            "colorscale": [
             [
              0,
              "#0d0887"
             ],
             [
              0.1111111111111111,
              "#46039f"
             ],
             [
              0.2222222222222222,
              "#7201a8"
             ],
             [
              0.3333333333333333,
              "#9c179e"
             ],
             [
              0.4444444444444444,
              "#bd3786"
             ],
             [
              0.5555555555555556,
              "#d8576b"
             ],
             [
              0.6666666666666666,
              "#ed7953"
             ],
             [
              0.7777777777777778,
              "#fb9f3a"
             ],
             [
              0.8888888888888888,
              "#fdca26"
             ],
             [
              1,
              "#f0f921"
             ]
            ],
            "type": "histogram2d"
           }
          ],
          "histogram2dcontour": [
           {
            "colorbar": {
             "outlinewidth": 0,
             "ticks": ""
            },
            "colorscale": [
             [
              0,
              "#0d0887"
             ],
             [
              0.1111111111111111,
              "#46039f"
             ],
             [
              0.2222222222222222,
              "#7201a8"
             ],
             [
              0.3333333333333333,
              "#9c179e"
             ],
             [
              0.4444444444444444,
              "#bd3786"
             ],
             [
              0.5555555555555556,
              "#d8576b"
             ],
             [
              0.6666666666666666,
              "#ed7953"
             ],
             [
              0.7777777777777778,
              "#fb9f3a"
             ],
             [
              0.8888888888888888,
              "#fdca26"
             ],
             [
              1,
              "#f0f921"
             ]
            ],
            "type": "histogram2dcontour"
           }
          ],
          "mesh3d": [
           {
            "colorbar": {
             "outlinewidth": 0,
             "ticks": ""
            },
            "type": "mesh3d"
           }
          ],
          "parcoords": [
           {
            "line": {
             "colorbar": {
              "outlinewidth": 0,
              "ticks": ""
             }
            },
            "type": "parcoords"
           }
          ],
          "pie": [
           {
            "automargin": true,
            "type": "pie"
           }
          ],
          "scatter": [
           {
            "fillpattern": {
             "fillmode": "overlay",
             "size": 10,
             "solidity": 0.2
            },
            "type": "scatter"
           }
          ],
          "scatter3d": [
           {
            "line": {
             "colorbar": {
              "outlinewidth": 0,
              "ticks": ""
             }
            },
            "marker": {
             "colorbar": {
              "outlinewidth": 0,
              "ticks": ""
             }
            },
            "type": "scatter3d"
           }
          ],
          "scattercarpet": [
           {
            "marker": {
             "colorbar": {
              "outlinewidth": 0,
              "ticks": ""
             }
            },
            "type": "scattercarpet"
           }
          ],
          "scattergeo": [
           {
            "marker": {
             "colorbar": {
              "outlinewidth": 0,
              "ticks": ""
             }
            },
            "type": "scattergeo"
           }
          ],
          "scattergl": [
           {
            "marker": {
             "colorbar": {
              "outlinewidth": 0,
              "ticks": ""
             }
            },
            "type": "scattergl"
           }
          ],
          "scattermapbox": [
           {
            "marker": {
             "colorbar": {
              "outlinewidth": 0,
              "ticks": ""
             }
            },
            "type": "scattermapbox"
           }
          ],
          "scatterpolar": [
           {
            "marker": {
             "colorbar": {
              "outlinewidth": 0,
              "ticks": ""
             }
            },
            "type": "scatterpolar"
           }
          ],
          "scatterpolargl": [
           {
            "marker": {
             "colorbar": {
              "outlinewidth": 0,
              "ticks": ""
             }
            },
            "type": "scatterpolargl"
           }
          ],
          "scatterternary": [
           {
            "marker": {
             "colorbar": {
              "outlinewidth": 0,
              "ticks": ""
             }
            },
            "type": "scatterternary"
           }
          ],
          "surface": [
           {
            "colorbar": {
             "outlinewidth": 0,
             "ticks": ""
            },
            "colorscale": [
             [
              0,
              "#0d0887"
             ],
             [
              0.1111111111111111,
              "#46039f"
             ],
             [
              0.2222222222222222,
              "#7201a8"
             ],
             [
              0.3333333333333333,
              "#9c179e"
             ],
             [
              0.4444444444444444,
              "#bd3786"
             ],
             [
              0.5555555555555556,
              "#d8576b"
             ],
             [
              0.6666666666666666,
              "#ed7953"
             ],
             [
              0.7777777777777778,
              "#fb9f3a"
             ],
             [
              0.8888888888888888,
              "#fdca26"
             ],
             [
              1,
              "#f0f921"
             ]
            ],
            "type": "surface"
           }
          ],
          "table": [
           {
            "cells": {
             "fill": {
              "color": "#EBF0F8"
             },
             "line": {
              "color": "white"
             }
            },
            "header": {
             "fill": {
              "color": "#C8D4E3"
             },
             "line": {
              "color": "white"
             }
            },
            "type": "table"
           }
          ]
         },
         "layout": {
          "annotationdefaults": {
           "arrowcolor": "#2a3f5f",
           "arrowhead": 0,
           "arrowwidth": 1
          },
          "autotypenumbers": "strict",
          "coloraxis": {
           "colorbar": {
            "outlinewidth": 0,
            "ticks": ""
           }
          },
          "colorscale": {
           "diverging": [
            [
             0,
             "#8e0152"
            ],
            [
             0.1,
             "#c51b7d"
            ],
            [
             0.2,
             "#de77ae"
            ],
            [
             0.3,
             "#f1b6da"
            ],
            [
             0.4,
             "#fde0ef"
            ],
            [
             0.5,
             "#f7f7f7"
            ],
            [
             0.6,
             "#e6f5d0"
            ],
            [
             0.7,
             "#b8e186"
            ],
            [
             0.8,
             "#7fbc41"
            ],
            [
             0.9,
             "#4d9221"
            ],
            [
             1,
             "#276419"
            ]
           ],
           "sequential": [
            [
             0,
             "#0d0887"
            ],
            [
             0.1111111111111111,
             "#46039f"
            ],
            [
             0.2222222222222222,
             "#7201a8"
            ],
            [
             0.3333333333333333,
             "#9c179e"
            ],
            [
             0.4444444444444444,
             "#bd3786"
            ],
            [
             0.5555555555555556,
             "#d8576b"
            ],
            [
             0.6666666666666666,
             "#ed7953"
            ],
            [
             0.7777777777777778,
             "#fb9f3a"
            ],
            [
             0.8888888888888888,
             "#fdca26"
            ],
            [
             1,
             "#f0f921"
            ]
           ],
           "sequentialminus": [
            [
             0,
             "#0d0887"
            ],
            [
             0.1111111111111111,
             "#46039f"
            ],
            [
             0.2222222222222222,
             "#7201a8"
            ],
            [
             0.3333333333333333,
             "#9c179e"
            ],
            [
             0.4444444444444444,
             "#bd3786"
            ],
            [
             0.5555555555555556,
             "#d8576b"
            ],
            [
             0.6666666666666666,
             "#ed7953"
            ],
            [
             0.7777777777777778,
             "#fb9f3a"
            ],
            [
             0.8888888888888888,
             "#fdca26"
            ],
            [
             1,
             "#f0f921"
            ]
           ]
          },
          "colorway": [
           "#636efa",
           "#EF553B",
           "#00cc96",
           "#ab63fa",
           "#FFA15A",
           "#19d3f3",
           "#FF6692",
           "#B6E880",
           "#FF97FF",
           "#FECB52"
          ],
          "font": {
           "color": "#2a3f5f"
          },
          "geo": {
           "bgcolor": "white",
           "lakecolor": "white",
           "landcolor": "#E5ECF6",
           "showlakes": true,
           "showland": true,
           "subunitcolor": "white"
          },
          "hoverlabel": {
           "align": "left"
          },
          "hovermode": "closest",
          "mapbox": {
           "style": "light"
          },
          "paper_bgcolor": "white",
          "plot_bgcolor": "#E5ECF6",
          "polar": {
           "angularaxis": {
            "gridcolor": "white",
            "linecolor": "white",
            "ticks": ""
           },
           "bgcolor": "#E5ECF6",
           "radialaxis": {
            "gridcolor": "white",
            "linecolor": "white",
            "ticks": ""
           }
          },
          "scene": {
           "xaxis": {
            "backgroundcolor": "#E5ECF6",
            "gridcolor": "white",
            "gridwidth": 2,
            "linecolor": "white",
            "showbackground": true,
            "ticks": "",
            "zerolinecolor": "white"
           },
           "yaxis": {
            "backgroundcolor": "#E5ECF6",
            "gridcolor": "white",
            "gridwidth": 2,
            "linecolor": "white",
            "showbackground": true,
            "ticks": "",
            "zerolinecolor": "white"
           },
           "zaxis": {
            "backgroundcolor": "#E5ECF6",
            "gridcolor": "white",
            "gridwidth": 2,
            "linecolor": "white",
            "showbackground": true,
            "ticks": "",
            "zerolinecolor": "white"
           }
          },
          "shapedefaults": {
           "line": {
            "color": "#2a3f5f"
           }
          },
          "ternary": {
           "aaxis": {
            "gridcolor": "white",
            "linecolor": "white",
            "ticks": ""
           },
           "baxis": {
            "gridcolor": "white",
            "linecolor": "white",
            "ticks": ""
           },
           "bgcolor": "#E5ECF6",
           "caxis": {
            "gridcolor": "white",
            "linecolor": "white",
            "ticks": ""
           }
          },
          "title": {
           "x": 0.05
          },
          "xaxis": {
           "automargin": true,
           "gridcolor": "white",
           "linecolor": "white",
           "ticks": "",
           "title": {
            "standoff": 15
           },
           "zerolinecolor": "white",
           "zerolinewidth": 2
          },
          "yaxis": {
           "automargin": true,
           "gridcolor": "white",
           "linecolor": "white",
           "ticks": "",
           "title": {
            "standoff": 15
           },
           "zerolinecolor": "white",
           "zerolinewidth": 2
          }
         }
        },
        "title": {
         "text": "Class Distribution — Train"
        },
        "uniformtext": {
         "minsize": 12,
         "mode": "hide"
        },
        "xaxis": {
         "anchor": "y",
         "domain": [
          0,
          1
         ],
         "title": {
          "text": "Class"
         }
        },
        "yaxis": {
         "anchor": "x",
         "domain": [
          0,
          1
         ],
         "title": {
          "text": "Images"
         }
        }
       }
      }
     },
     "metadata": {},
     "output_type": "display_data"
    },
    {
     "data": {
      "application/vnd.plotly.v1+json": {
       "config": {
        "plotlyServerURL": "https://plot.ly"
       },
       "data": [
        {
         "alignmentgroup": "True",
         "hovertemplate": "label=%{x}<br>count=%{text}<extra></extra>",
         "legendgroup": "",
         "marker": {
          "color": "#636efa",
          "pattern": {
           "shape": ""
          }
         },
         "name": "",
         "offsetgroup": "",
         "orientation": "v",
         "showlegend": false,
         "text": [
          78,
          42,
          30
         ],
         "textposition": "outside",
         "type": "bar",
         "x": [
          "nevus",
          "seborrheic_keratosis",
          "melanoma"
         ],
         "xaxis": "x",
         "y": [
          78,
          42,
          30
         ],
         "yaxis": "y"
        }
       ],
       "layout": {
        "barmode": "relative",
        "legend": {
         "tracegroupgap": 0
        },
        "template": {
         "data": {
          "bar": [
           {
            "error_x": {
             "color": "#2a3f5f"
            },
            "error_y": {
             "color": "#2a3f5f"
            },
            "marker": {
             "line": {
              "color": "#E5ECF6",
              "width": 0.5
             },
             "pattern": {
              "fillmode": "overlay",
              "size": 10,
              "solidity": 0.2
             }
            },
            "type": "bar"
           }
          ],
          "barpolar": [
           {
            "marker": {
             "line": {
              "color": "#E5ECF6",
              "width": 0.5
             },
             "pattern": {
              "fillmode": "overlay",
              "size": 10,
              "solidity": 0.2
             }
            },
            "type": "barpolar"
           }
          ],
          "carpet": [
           {
            "aaxis": {
             "endlinecolor": "#2a3f5f",
             "gridcolor": "white",
             "linecolor": "white",
             "minorgridcolor": "white",
             "startlinecolor": "#2a3f5f"
            },
            "baxis": {
             "endlinecolor": "#2a3f5f",
             "gridcolor": "white",
             "linecolor": "white",
             "minorgridcolor": "white",
             "startlinecolor": "#2a3f5f"
            },
            "type": "carpet"
           }
          ],
          "choropleth": [
           {
            "colorbar": {
             "outlinewidth": 0,
             "ticks": ""
            },
            "type": "choropleth"
           }
          ],
          "contour": [
           {
            "colorbar": {
             "outlinewidth": 0,
             "ticks": ""
            },
            "colorscale": [
             [
              0,
              "#0d0887"
             ],
             [
              0.1111111111111111,
              "#46039f"
             ],
             [
              0.2222222222222222,
              "#7201a8"
             ],
             [
              0.3333333333333333,
              "#9c179e"
             ],
             [
              0.4444444444444444,
              "#bd3786"
             ],
             [
              0.5555555555555556,
              "#d8576b"
             ],
             [
              0.6666666666666666,
              "#ed7953"
             ],
             [
              0.7777777777777778,
              "#fb9f3a"
             ],
             [
              0.8888888888888888,
              "#fdca26"
             ],
             [
              1,
              "#f0f921"
             ]
            ],
            "type": "contour"
           }
          ],
          "contourcarpet": [
           {
            "colorbar": {
             "outlinewidth": 0,
             "ticks": ""
            },
            "type": "contourcarpet"
           }
          ],
          "heatmap": [
           {
            "colorbar": {
             "outlinewidth": 0,
             "ticks": ""
            },
            "colorscale": [
             [
              0,
              "#0d0887"
             ],
             [
              0.1111111111111111,
              "#46039f"
             ],
             [
              0.2222222222222222,
              "#7201a8"
             ],
             [
              0.3333333333333333,
              "#9c179e"
             ],
             [
              0.4444444444444444,
              "#bd3786"
             ],
             [
              0.5555555555555556,
              "#d8576b"
             ],
             [
              0.6666666666666666,
              "#ed7953"
             ],
             [
              0.7777777777777778,
              "#fb9f3a"
             ],
             [
              0.8888888888888888,
              "#fdca26"
             ],
             [
              1,
              "#f0f921"
             ]
            ],
            "type": "heatmap"
           }
          ],
          "heatmapgl": [
           {
            "colorbar": {
             "outlinewidth": 0,
             "ticks": ""
            },
            "colorscale": [
             [
              0,
              "#0d0887"
             ],
             [
              0.1111111111111111,
              "#46039f"
             ],
             [
              0.2222222222222222,
              "#7201a8"
             ],
             [
              0.3333333333333333,
              "#9c179e"
             ],
             [
              0.4444444444444444,
              "#bd3786"
             ],
             [
              0.5555555555555556,
              "#d8576b"
             ],
             [
              0.6666666666666666,
              "#ed7953"
             ],
             [
              0.7777777777777778,
              "#fb9f3a"
             ],
             [
              0.8888888888888888,
              "#fdca26"
             ],
             [
              1,
              "#f0f921"
             ]
            ],
            "type": "heatmapgl"
           }
          ],
          "histogram": [
           {
            "marker": {
             "pattern": {
              "fillmode": "overlay",
              "size": 10,
              "solidity": 0.2
             }
            },
            "type": "histogram"
           }
          ],
          "histogram2d": [
           {
            "colorbar": {
             "outlinewidth": 0,
             "ticks": ""
            },
            "colorscale": [
             [
              0,
              "#0d0887"
             ],
             [
              0.1111111111111111,
              "#46039f"
             ],
             [
              0.2222222222222222,
              "#7201a8"
             ],
             [
              0.3333333333333333,
              "#9c179e"
             ],
             [
              0.4444444444444444,
              "#bd3786"
             ],
             [
              0.5555555555555556,
              "#d8576b"
             ],
             [
              0.6666666666666666,
              "#ed7953"
             ],
             [
              0.7777777777777778,
              "#fb9f3a"
             ],
             [
              0.8888888888888888,
              "#fdca26"
             ],
             [
              1,
              "#f0f921"
             ]
            ],
            "type": "histogram2d"
           }
          ],
          "histogram2dcontour": [
           {
            "colorbar": {
             "outlinewidth": 0,
             "ticks": ""
            },
            "colorscale": [
             [
              0,
              "#0d0887"
             ],
             [
              0.1111111111111111,
              "#46039f"
             ],
             [
              0.2222222222222222,
              "#7201a8"
             ],
             [
              0.3333333333333333,
              "#9c179e"
             ],
             [
              0.4444444444444444,
              "#bd3786"
             ],
             [
              0.5555555555555556,
              "#d8576b"
             ],
             [
              0.6666666666666666,
              "#ed7953"
             ],
             [
              0.7777777777777778,
              "#fb9f3a"
             ],
             [
              0.8888888888888888,
              "#fdca26"
             ],
             [
              1,
              "#f0f921"
             ]
            ],
            "type": "histogram2dcontour"
           }
          ],
          "mesh3d": [
           {
            "colorbar": {
             "outlinewidth": 0,
             "ticks": ""
            },
            "type": "mesh3d"
           }
          ],
          "parcoords": [
           {
            "line": {
             "colorbar": {
              "outlinewidth": 0,
              "ticks": ""
             }
            },
            "type": "parcoords"
           }
          ],
          "pie": [
           {
            "automargin": true,
            "type": "pie"
           }
          ],
          "scatter": [
           {
            "fillpattern": {
             "fillmode": "overlay",
             "size": 10,
             "solidity": 0.2
            },
            "type": "scatter"
           }
          ],
          "scatter3d": [
           {
            "line": {
             "colorbar": {
              "outlinewidth": 0,
              "ticks": ""
             }
            },
            "marker": {
             "colorbar": {
              "outlinewidth": 0,
              "ticks": ""
             }
            },
            "type": "scatter3d"
           }
          ],
          "scattercarpet": [
           {
            "marker": {
             "colorbar": {
              "outlinewidth": 0,
              "ticks": ""
             }
            },
            "type": "scattercarpet"
           }
          ],
          "scattergeo": [
           {
            "marker": {
             "colorbar": {
              "outlinewidth": 0,
              "ticks": ""
             }
            },
            "type": "scattergeo"
           }
          ],
          "scattergl": [
           {
            "marker": {
             "colorbar": {
              "outlinewidth": 0,
              "ticks": ""
             }
            },
            "type": "scattergl"
           }
          ],
          "scattermapbox": [
           {
            "marker": {
             "colorbar": {
              "outlinewidth": 0,
              "ticks": ""
             }
            },
            "type": "scattermapbox"
           }
          ],
          "scatterpolar": [
           {
            "marker": {
             "colorbar": {
              "outlinewidth": 0,
              "ticks": ""
             }
            },
            "type": "scatterpolar"
           }
          ],
          "scatterpolargl": [
           {
            "marker": {
             "colorbar": {
              "outlinewidth": 0,
              "ticks": ""
             }
            },
            "type": "scatterpolargl"
           }
          ],
          "scatterternary": [
           {
            "marker": {
             "colorbar": {
              "outlinewidth": 0,
              "ticks": ""
             }
            },
            "type": "scatterternary"
           }
          ],
          "surface": [
           {
            "colorbar": {
             "outlinewidth": 0,
             "ticks": ""
            },
            "colorscale": [
             [
              0,
              "#0d0887"
             ],
             [
              0.1111111111111111,
              "#46039f"
             ],
             [
              0.2222222222222222,
              "#7201a8"
             ],
             [
              0.3333333333333333,
              "#9c179e"
             ],
             [
              0.4444444444444444,
              "#bd3786"
             ],
             [
              0.5555555555555556,
              "#d8576b"
             ],
             [
              0.6666666666666666,
              "#ed7953"
             ],
             [
              0.7777777777777778,
              "#fb9f3a"
             ],
             [
              0.8888888888888888,
              "#fdca26"
             ],
             [
              1,
              "#f0f921"
             ]
            ],
            "type": "surface"
           }
          ],
          "table": [
           {
            "cells": {
             "fill": {
              "color": "#EBF0F8"
             },
             "line": {
              "color": "white"
             }
            },
            "header": {
             "fill": {
              "color": "#C8D4E3"
             },
             "line": {
              "color": "white"
             }
            },
            "type": "table"
           }
          ]
         },
         "layout": {
          "annotationdefaults": {
           "arrowcolor": "#2a3f5f",
           "arrowhead": 0,
           "arrowwidth": 1
          },
          "autotypenumbers": "strict",
          "coloraxis": {
           "colorbar": {
            "outlinewidth": 0,
            "ticks": ""
           }
          },
          "colorscale": {
           "diverging": [
            [
             0,
             "#8e0152"
            ],
            [
             0.1,
             "#c51b7d"
            ],
            [
             0.2,
             "#de77ae"
            ],
            [
             0.3,
             "#f1b6da"
            ],
            [
             0.4,
             "#fde0ef"
            ],
            [
             0.5,
             "#f7f7f7"
            ],
            [
             0.6,
             "#e6f5d0"
            ],
            [
             0.7,
             "#b8e186"
            ],
            [
             0.8,
             "#7fbc41"
            ],
            [
             0.9,
             "#4d9221"
            ],
            [
             1,
             "#276419"
            ]
           ],
           "sequential": [
            [
             0,
             "#0d0887"
            ],
            [
             0.1111111111111111,
             "#46039f"
            ],
            [
             0.2222222222222222,
             "#7201a8"
            ],
            [
             0.3333333333333333,
             "#9c179e"
            ],
            [
             0.4444444444444444,
             "#bd3786"
            ],
            [
             0.5555555555555556,
             "#d8576b"
            ],
            [
             0.6666666666666666,
             "#ed7953"
            ],
            [
             0.7777777777777778,
             "#fb9f3a"
            ],
            [
             0.8888888888888888,
             "#fdca26"
            ],
            [
             1,
             "#f0f921"
            ]
           ],
           "sequentialminus": [
            [
             0,
             "#0d0887"
            ],
            [
             0.1111111111111111,
             "#46039f"
            ],
            [
             0.2222222222222222,
             "#7201a8"
            ],
            [
             0.3333333333333333,
             "#9c179e"
            ],
            [
             0.4444444444444444,
             "#bd3786"
            ],
            [
             0.5555555555555556,
             "#d8576b"
            ],
            [
             0.6666666666666666,
             "#ed7953"
            ],
            [
             0.7777777777777778,
             "#fb9f3a"
            ],
            [
             0.8888888888888888,
             "#fdca26"
            ],
            [
             1,
             "#f0f921"
            ]
           ]
          },
          "colorway": [
           "#636efa",
           "#EF553B",
           "#00cc96",
           "#ab63fa",
           "#FFA15A",
           "#19d3f3",
           "#FF6692",
           "#B6E880",
           "#FF97FF",
           "#FECB52"
          ],
          "font": {
           "color": "#2a3f5f"
          },
          "geo": {
           "bgcolor": "white",
           "lakecolor": "white",
           "landcolor": "#E5ECF6",
           "showlakes": true,
           "showland": true,
           "subunitcolor": "white"
          },
          "hoverlabel": {
           "align": "left"
          },
          "hovermode": "closest",
          "mapbox": {
           "style": "light"
          },
          "paper_bgcolor": "white",
          "plot_bgcolor": "#E5ECF6",
          "polar": {
           "angularaxis": {
            "gridcolor": "white",
            "linecolor": "white",
            "ticks": ""
           },
           "bgcolor": "#E5ECF6",
           "radialaxis": {
            "gridcolor": "white",
            "linecolor": "white",
            "ticks": ""
           }
          },
          "scene": {
           "xaxis": {
            "backgroundcolor": "#E5ECF6",
            "gridcolor": "white",
            "gridwidth": 2,
            "linecolor": "white",
            "showbackground": true,
            "ticks": "",
            "zerolinecolor": "white"
           },
           "yaxis": {
            "backgroundcolor": "#E5ECF6",
            "gridcolor": "white",
            "gridwidth": 2,
            "linecolor": "white",
            "showbackground": true,
            "ticks": "",
            "zerolinecolor": "white"
           },
           "zaxis": {
            "backgroundcolor": "#E5ECF6",
            "gridcolor": "white",
            "gridwidth": 2,
            "linecolor": "white",
            "showbackground": true,
            "ticks": "",
            "zerolinecolor": "white"
           }
          },
          "shapedefaults": {
           "line": {
            "color": "#2a3f5f"
           }
          },
          "ternary": {
           "aaxis": {
            "gridcolor": "white",
            "linecolor": "white",
            "ticks": ""
           },
           "baxis": {
            "gridcolor": "white",
            "linecolor": "white",
            "ticks": ""
           },
           "bgcolor": "#E5ECF6",
           "caxis": {
            "gridcolor": "white",
            "linecolor": "white",
            "ticks": ""
           }
          },
          "title": {
           "x": 0.05
          },
          "xaxis": {
           "automargin": true,
           "gridcolor": "white",
           "linecolor": "white",
           "ticks": "",
           "title": {
            "standoff": 15
           },
           "zerolinecolor": "white",
           "zerolinewidth": 2
          },
          "yaxis": {
           "automargin": true,
           "gridcolor": "white",
           "linecolor": "white",
           "ticks": "",
           "title": {
            "standoff": 15
           },
           "zerolinecolor": "white",
           "zerolinewidth": 2
          }
         }
        },
        "title": {
         "text": "Class Distribution — Valid"
        },
        "uniformtext": {
         "minsize": 12,
         "mode": "hide"
        },
        "xaxis": {
         "anchor": "y",
         "domain": [
          0,
          1
         ],
         "title": {
          "text": "Class"
         }
        },
        "yaxis": {
         "anchor": "x",
         "domain": [
          0,
          1
         ],
         "title": {
          "text": "Images"
         }
        }
       }
      }
     },
     "metadata": {},
     "output_type": "display_data"
    },
    {
     "data": {
      "application/vnd.plotly.v1+json": {
       "config": {
        "plotlyServerURL": "https://plot.ly"
       },
       "data": [
        {
         "alignmentgroup": "True",
         "hovertemplate": "label=%{x}<br>count=%{text}<extra></extra>",
         "legendgroup": "",
         "marker": {
          "color": "#636efa",
          "pattern": {
           "shape": ""
          }
         },
         "name": "",
         "offsetgroup": "",
         "orientation": "v",
         "showlegend": false,
         "text": [
          393,
          117,
          90
         ],
         "textposition": "outside",
         "type": "bar",
         "x": [
          "nevus",
          "melanoma",
          "seborrheic_keratosis"
         ],
         "xaxis": "x",
         "y": [
          393,
          117,
          90
         ],
         "yaxis": "y"
        }
       ],
       "layout": {
        "barmode": "relative",
        "legend": {
         "tracegroupgap": 0
        },
        "template": {
         "data": {
          "bar": [
           {
            "error_x": {
             "color": "#2a3f5f"
            },
            "error_y": {
             "color": "#2a3f5f"
            },
            "marker": {
             "line": {
              "color": "#E5ECF6",
              "width": 0.5
             },
             "pattern": {
              "fillmode": "overlay",
              "size": 10,
              "solidity": 0.2
             }
            },
            "type": "bar"
           }
          ],
          "barpolar": [
           {
            "marker": {
             "line": {
              "color": "#E5ECF6",
              "width": 0.5
             },
             "pattern": {
              "fillmode": "overlay",
              "size": 10,
              "solidity": 0.2
             }
            },
            "type": "barpolar"
           }
          ],
          "carpet": [
           {
            "aaxis": {
             "endlinecolor": "#2a3f5f",
             "gridcolor": "white",
             "linecolor": "white",
             "minorgridcolor": "white",
             "startlinecolor": "#2a3f5f"
            },
            "baxis": {
             "endlinecolor": "#2a3f5f",
             "gridcolor": "white",
             "linecolor": "white",
             "minorgridcolor": "white",
             "startlinecolor": "#2a3f5f"
            },
            "type": "carpet"
           }
          ],
          "choropleth": [
           {
            "colorbar": {
             "outlinewidth": 0,
             "ticks": ""
            },
            "type": "choropleth"
           }
          ],
          "contour": [
           {
            "colorbar": {
             "outlinewidth": 0,
             "ticks": ""
            },
            "colorscale": [
             [
              0,
              "#0d0887"
             ],
             [
              0.1111111111111111,
              "#46039f"
             ],
             [
              0.2222222222222222,
              "#7201a8"
             ],
             [
              0.3333333333333333,
              "#9c179e"
             ],
             [
              0.4444444444444444,
              "#bd3786"
             ],
             [
              0.5555555555555556,
              "#d8576b"
             ],
             [
              0.6666666666666666,
              "#ed7953"
             ],
             [
              0.7777777777777778,
              "#fb9f3a"
             ],
             [
              0.8888888888888888,
              "#fdca26"
             ],
             [
              1,
              "#f0f921"
             ]
            ],
            "type": "contour"
           }
          ],
          "contourcarpet": [
           {
            "colorbar": {
             "outlinewidth": 0,
             "ticks": ""
            },
            "type": "contourcarpet"
           }
          ],
          "heatmap": [
           {
            "colorbar": {
             "outlinewidth": 0,
             "ticks": ""
            },
            "colorscale": [
             [
              0,
              "#0d0887"
             ],
             [
              0.1111111111111111,
              "#46039f"
             ],
             [
              0.2222222222222222,
              "#7201a8"
             ],
             [
              0.3333333333333333,
              "#9c179e"
             ],
             [
              0.4444444444444444,
              "#bd3786"
             ],
             [
              0.5555555555555556,
              "#d8576b"
             ],
             [
              0.6666666666666666,
              "#ed7953"
             ],
             [
              0.7777777777777778,
              "#fb9f3a"
             ],
             [
              0.8888888888888888,
              "#fdca26"
             ],
             [
              1,
              "#f0f921"
             ]
            ],
            "type": "heatmap"
           }
          ],
          "heatmapgl": [
           {
            "colorbar": {
             "outlinewidth": 0,
             "ticks": ""
            },
            "colorscale": [
             [
              0,
              "#0d0887"
             ],
             [
              0.1111111111111111,
              "#46039f"
             ],
             [
              0.2222222222222222,
              "#7201a8"
             ],
             [
              0.3333333333333333,
              "#9c179e"
             ],
             [
              0.4444444444444444,
              "#bd3786"
             ],
             [
              0.5555555555555556,
              "#d8576b"
             ],
             [
              0.6666666666666666,
              "#ed7953"
             ],
             [
              0.7777777777777778,
              "#fb9f3a"
             ],
             [
              0.8888888888888888,
              "#fdca26"
             ],
             [
              1,
              "#f0f921"
             ]
            ],
            "type": "heatmapgl"
           }
          ],
          "histogram": [
           {
            "marker": {
             "pattern": {
              "fillmode": "overlay",
              "size": 10,
              "solidity": 0.2
             }
            },
            "type": "histogram"
           }
          ],
          "histogram2d": [
           {
            "colorbar": {
             "outlinewidth": 0,
             "ticks": ""
            },
            "colorscale": [
             [
              0,
              "#0d0887"
             ],
             [
              0.1111111111111111,
              "#46039f"
             ],
             [
              0.2222222222222222,
              "#7201a8"
             ],
             [
              0.3333333333333333,
              "#9c179e"
             ],
             [
              0.4444444444444444,
              "#bd3786"
             ],
             [
              0.5555555555555556,
              "#d8576b"
             ],
             [
              0.6666666666666666,
              "#ed7953"
             ],
             [
              0.7777777777777778,
              "#fb9f3a"
             ],
             [
              0.8888888888888888,
              "#fdca26"
             ],
             [
              1,
              "#f0f921"
             ]
            ],
            "type": "histogram2d"
           }
          ],
          "histogram2dcontour": [
           {
            "colorbar": {
             "outlinewidth": 0,
             "ticks": ""
            },
            "colorscale": [
             [
              0,
              "#0d0887"
             ],
             [
              0.1111111111111111,
              "#46039f"
             ],
             [
              0.2222222222222222,
              "#7201a8"
             ],
             [
              0.3333333333333333,
              "#9c179e"
             ],
             [
              0.4444444444444444,
              "#bd3786"
             ],
             [
              0.5555555555555556,
              "#d8576b"
             ],
             [
              0.6666666666666666,
              "#ed7953"
             ],
             [
              0.7777777777777778,
              "#fb9f3a"
             ],
             [
              0.8888888888888888,
              "#fdca26"
             ],
             [
              1,
              "#f0f921"
             ]
            ],
            "type": "histogram2dcontour"
           }
          ],
          "mesh3d": [
           {
            "colorbar": {
             "outlinewidth": 0,
             "ticks": ""
            },
            "type": "mesh3d"
           }
          ],
          "parcoords": [
           {
            "line": {
             "colorbar": {
              "outlinewidth": 0,
              "ticks": ""
             }
            },
            "type": "parcoords"
           }
          ],
          "pie": [
           {
            "automargin": true,
            "type": "pie"
           }
          ],
          "scatter": [
           {
            "fillpattern": {
             "fillmode": "overlay",
             "size": 10,
             "solidity": 0.2
            },
            "type": "scatter"
           }
          ],
          "scatter3d": [
           {
            "line": {
             "colorbar": {
              "outlinewidth": 0,
              "ticks": ""
             }
            },
            "marker": {
             "colorbar": {
              "outlinewidth": 0,
              "ticks": ""
             }
            },
            "type": "scatter3d"
           }
          ],
          "scattercarpet": [
           {
            "marker": {
             "colorbar": {
              "outlinewidth": 0,
              "ticks": ""
             }
            },
            "type": "scattercarpet"
           }
          ],
          "scattergeo": [
           {
            "marker": {
             "colorbar": {
              "outlinewidth": 0,
              "ticks": ""
             }
            },
            "type": "scattergeo"
           }
          ],
          "scattergl": [
           {
            "marker": {
             "colorbar": {
              "outlinewidth": 0,
              "ticks": ""
             }
            },
            "type": "scattergl"
           }
          ],
          "scattermapbox": [
           {
            "marker": {
             "colorbar": {
              "outlinewidth": 0,
              "ticks": ""
             }
            },
            "type": "scattermapbox"
           }
          ],
          "scatterpolar": [
           {
            "marker": {
             "colorbar": {
              "outlinewidth": 0,
              "ticks": ""
             }
            },
            "type": "scatterpolar"
           }
          ],
          "scatterpolargl": [
           {
            "marker": {
             "colorbar": {
              "outlinewidth": 0,
              "ticks": ""
             }
            },
            "type": "scatterpolargl"
           }
          ],
          "scatterternary": [
           {
            "marker": {
             "colorbar": {
              "outlinewidth": 0,
              "ticks": ""
             }
            },
            "type": "scatterternary"
           }
          ],
          "surface": [
           {
            "colorbar": {
             "outlinewidth": 0,
             "ticks": ""
            },
            "colorscale": [
             [
              0,
              "#0d0887"
             ],
             [
              0.1111111111111111,
              "#46039f"
             ],
             [
              0.2222222222222222,
              "#7201a8"
             ],
             [
              0.3333333333333333,
              "#9c179e"
             ],
             [
              0.4444444444444444,
              "#bd3786"
             ],
             [
              0.5555555555555556,
              "#d8576b"
             ],
             [
              0.6666666666666666,
              "#ed7953"
             ],
             [
              0.7777777777777778,
              "#fb9f3a"
             ],
             [
              0.8888888888888888,
              "#fdca26"
             ],
             [
              1,
              "#f0f921"
             ]
            ],
            "type": "surface"
           }
          ],
          "table": [
           {
            "cells": {
             "fill": {
              "color": "#EBF0F8"
             },
             "line": {
              "color": "white"
             }
            },
            "header": {
             "fill": {
              "color": "#C8D4E3"
             },
             "line": {
              "color": "white"
             }
            },
            "type": "table"
           }
          ]
         },
         "layout": {
          "annotationdefaults": {
           "arrowcolor": "#2a3f5f",
           "arrowhead": 0,
           "arrowwidth": 1
          },
          "autotypenumbers": "strict",
          "coloraxis": {
           "colorbar": {
            "outlinewidth": 0,
            "ticks": ""
           }
          },
          "colorscale": {
           "diverging": [
            [
             0,
             "#8e0152"
            ],
            [
             0.1,
             "#c51b7d"
            ],
            [
             0.2,
             "#de77ae"
            ],
            [
             0.3,
             "#f1b6da"
            ],
            [
             0.4,
             "#fde0ef"
            ],
            [
             0.5,
             "#f7f7f7"
            ],
            [
             0.6,
             "#e6f5d0"
            ],
            [
             0.7,
             "#b8e186"
            ],
            [
             0.8,
             "#7fbc41"
            ],
            [
             0.9,
             "#4d9221"
            ],
            [
             1,
             "#276419"
            ]
           ],
           "sequential": [
            [
             0,
             "#0d0887"
            ],
            [
             0.1111111111111111,
             "#46039f"
            ],
            [
             0.2222222222222222,
             "#7201a8"
            ],
            [
             0.3333333333333333,
             "#9c179e"
            ],
            [
             0.4444444444444444,
             "#bd3786"
            ],
            [
             0.5555555555555556,
             "#d8576b"
            ],
            [
             0.6666666666666666,
             "#ed7953"
            ],
            [
             0.7777777777777778,
             "#fb9f3a"
            ],
            [
             0.8888888888888888,
             "#fdca26"
            ],
            [
             1,
             "#f0f921"
            ]
           ],
           "sequentialminus": [
            [
             0,
             "#0d0887"
            ],
            [
             0.1111111111111111,
             "#46039f"
            ],
            [
             0.2222222222222222,
             "#7201a8"
            ],
            [
             0.3333333333333333,
             "#9c179e"
            ],
            [
             0.4444444444444444,
             "#bd3786"
            ],
            [
             0.5555555555555556,
             "#d8576b"
            ],
            [
             0.6666666666666666,
             "#ed7953"
            ],
            [
             0.7777777777777778,
             "#fb9f3a"
            ],
            [
             0.8888888888888888,
             "#fdca26"
            ],
            [
             1,
             "#f0f921"
            ]
           ]
          },
          "colorway": [
           "#636efa",
           "#EF553B",
           "#00cc96",
           "#ab63fa",
           "#FFA15A",
           "#19d3f3",
           "#FF6692",
           "#B6E880",
           "#FF97FF",
           "#FECB52"
          ],
          "font": {
           "color": "#2a3f5f"
          },
          "geo": {
           "bgcolor": "white",
           "lakecolor": "white",
           "landcolor": "#E5ECF6",
           "showlakes": true,
           "showland": true,
           "subunitcolor": "white"
          },
          "hoverlabel": {
           "align": "left"
          },
          "hovermode": "closest",
          "mapbox": {
           "style": "light"
          },
          "paper_bgcolor": "white",
          "plot_bgcolor": "#E5ECF6",
          "polar": {
           "angularaxis": {
            "gridcolor": "white",
            "linecolor": "white",
            "ticks": ""
           },
           "bgcolor": "#E5ECF6",
           "radialaxis": {
            "gridcolor": "white",
            "linecolor": "white",
            "ticks": ""
           }
          },
          "scene": {
           "xaxis": {
            "backgroundcolor": "#E5ECF6",
            "gridcolor": "white",
            "gridwidth": 2,
            "linecolor": "white",
            "showbackground": true,
            "ticks": "",
            "zerolinecolor": "white"
           },
           "yaxis": {
            "backgroundcolor": "#E5ECF6",
            "gridcolor": "white",
            "gridwidth": 2,
            "linecolor": "white",
            "showbackground": true,
            "ticks": "",
            "zerolinecolor": "white"
           },
           "zaxis": {
            "backgroundcolor": "#E5ECF6",
            "gridcolor": "white",
            "gridwidth": 2,
            "linecolor": "white",
            "showbackground": true,
            "ticks": "",
            "zerolinecolor": "white"
           }
          },
          "shapedefaults": {
           "line": {
            "color": "#2a3f5f"
           }
          },
          "ternary": {
           "aaxis": {
            "gridcolor": "white",
            "linecolor": "white",
            "ticks": ""
           },
           "baxis": {
            "gridcolor": "white",
            "linecolor": "white",
            "ticks": ""
           },
           "bgcolor": "#E5ECF6",
           "caxis": {
            "gridcolor": "white",
            "linecolor": "white",
            "ticks": ""
           }
          },
          "title": {
           "x": 0.05
          },
          "xaxis": {
           "automargin": true,
           "gridcolor": "white",
           "linecolor": "white",
           "ticks": "",
           "title": {
            "standoff": 15
           },
           "zerolinecolor": "white",
           "zerolinewidth": 2
          },
          "yaxis": {
           "automargin": true,
           "gridcolor": "white",
           "linecolor": "white",
           "ticks": "",
           "title": {
            "standoff": 15
           },
           "zerolinecolor": "white",
           "zerolinewidth": 2
          }
         }
        },
        "title": {
         "text": "Class Distribution — Test"
        },
        "uniformtext": {
         "minsize": 12,
         "mode": "hide"
        },
        "xaxis": {
         "anchor": "y",
         "domain": [
          0,
          1
         ],
         "title": {
          "text": "Class"
         }
        },
        "yaxis": {
         "anchor": "x",
         "domain": [
          0,
          1
         ],
         "title": {
          "text": "Images"
         }
        }
       }
      }
     },
     "metadata": {},
     "output_type": "display_data"
    }
   ],
   "source": [
    "def plot_class_distribution(df: pd.DataFrame, title: str):\n",
    "    counts = df[\"label\"].value_counts().reset_index()\n",
    "    counts.columns = [\"label\", \"count\"]\n",
    "    fig = px.bar(counts, x=\"label\", y=\"count\", title=title, text=\"count\")\n",
    "    fig.update_traces(textposition=\"outside\")\n",
    "    fig.update_layout(yaxis_title=\"Images\", xaxis_title=\"Class\", uniformtext_minsize=12, uniformtext_mode='hide')\n",
    "    fig.show()\n",
    "\n",
    "plot_class_distribution(df_train, \"Class Distribution — Train\")\n",
    "plot_class_distribution(df_valid, \"Class Distribution — Valid\")\n",
    "plot_class_distribution(df_test,  \"Class Distribution — Test\")"
   ]
  },
  {
   "cell_type": "code",
   "execution_count": null,
   "id": "c5a9a409",
   "metadata": {},
   "outputs": [
    {
     "data": {
      "application/vnd.plotly.v1+json": {
       "config": {
        "plotlyServerURL": "https://plot.ly"
       },
       "data": [
        {
         "hovertemplate": "label=melanoma<br>pc1=%{x}<br>pc2=%{y}<extra></extra>",
         "legendgroup": "melanoma",
         "marker": {
          "color": "#636efa",
          "opacity": 0.8,
          "symbol": "circle"
         },
         "mode": "markers",
         "name": "melanoma",
         "showlegend": true,
         "type": "scattergl",
         "x": [
          7.7511735,
          -3.693646,
          1.6552829,
          -1.9193465,
          -0.75298387,
          1.4530407,
          -1.5628837,
          -1.0301728,
          -4.0736294,
          1.1340394,
          -0.21946059,
          2.8615444,
          -2.187144,
          -3.820192,
          1.5418923,
          7.337324,
          -0.4174959,
          -3.7565184,
          -3.6548638,
          0.27998582,
          -3.1955717,
          -3.8311524,
          -2.6135068,
          -3.2359807,
          -1.9402848,
          -3.3927147,
          -0.23889813,
          8.687729,
          -0.22350626,
          3.11915,
          1.773853,
          0.08790483,
          -2.5501277,
          -3.73278,
          -0.40380794,
          -2.8988984,
          -3.9781637,
          3.311569,
          5.4155707,
          -2.681826,
          2.6704266,
          -2.085107,
          0.8048659,
          3.2742996,
          -2.8596501,
          0.871909,
          -2.5203974,
          11.2607975,
          -0.5188195,
          -3.2109857,
          12.484738,
          -3.1247334,
          5.2936816,
          -1.6046045,
          -4.261119,
          -3.1554794,
          -4.5803704,
          -2.4916897,
          5.748008,
          2.1388502,
          -1.379842,
          1.6529342,
          2.022628,
          -0.75842154,
          4.8552885,
          6.0578694,
          -3.0806673,
          0.78442776,
          -3.8923845,
          -2.7660282,
          -2.6306093,
          5.6817107,
          9.588689,
          0.7869139,
          3.5922854,
          -3.3591735,
          11.256932,
          -0.9629016,
          -1.0694984,
          -3.733665,
          2.9365857,
          0.011932647,
          1.6181235,
          -3.8408024,
          -2.3931103,
          -3.6797354,
          -1.6704934,
          -1.8307073,
          2.792036,
          14.134745,
          -2.951672,
          1.7317905,
          15.223592,
          -3.1269503,
          5.684026,
          -3.0717819,
          -4.5730033,
          3.5776756,
          0.6520361,
          -2.0921266,
          2.141228,
          -1.5888864,
          1.6001353,
          1.1526095,
          -4.026299,
          0.29827216,
          -2.8496518,
          -4.0946712,
          0.9546772,
          -4.424721,
          1.4595712,
          3.2657933,
          5.3130813,
          8.5774765,
          -2.6139636,
          -2.6865191,
          2.175693,
          -4.544739,
          2.9841592,
          -2.326861,
          0.33029613,
          -4.2705655,
          3.2335403,
          -1.6281911,
          2.3003583,
          -2.5463455,
          -1.5603095,
          -1.8247102,
          -2.8193004,
          4.943064,
          -0.7480921,
          -0.01584473,
          5.5611033,
          8.328909,
          -1.4069781,
          -1.3025203,
          3.3566585,
          -4.6519923,
          -3.7411537,
          8.976227,
          -4.0089383,
          -3.586892,
          0.27048177,
          -3.0621452,
          1.857049,
          -2.7903738,
          -1.5549359,
          -4.672995,
          5.316656,
          -1.5989755,
          2.5699441,
          -3.5404956,
          -3.5321076,
          -2.9082594,
          7.7353683,
          1.2711453,
          3.0996828,
          -4.3894887,
          0.7624839,
          -1.7725538,
          -4.072832,
          11.05425,
          8.6725235,
          -3.653971,
          -3.946697,
          -4.136241,
          -3.5381494,
          -1.7371086,
          -2.8816664,
          -2.5173323,
          -4.692545,
          -2.9262369,
          6.2586336,
          4.2058067,
          -1.5196855,
          -2.2080681,
          -3.934791,
          10.1534605,
          6.488816,
          -2.9064913,
          -1.3017632,
          -3.8886032,
          19.728968,
          2.5540462,
          -1.8285996,
          -0.08549961,
          -0.79401743,
          1.7116957,
          1.5644188,
          0.8083184,
          1.9068598,
          -3.5412214,
          -2.1050918,
          -4.678893,
          -2.2662637,
          0.788221,
          7.798408,
          -1.4431548,
          -2.2653608,
          0.6888459,
          -3.6805885,
          -4.134357,
          2.820449,
          -3.9586017,
          -3.5982945,
          -4.015752,
          1.0789747,
          -3.1120813,
          -2.5468135,
          3.479693,
          -4.0295215,
          -3.5144017,
          2.1961544,
          10.999309,
          -3.9660869,
          -1.6376075,
          16.404835,
          -3.7941644,
          5.4775324,
          -2.0044992,
          1.7010479,
          -3.3656447,
          -1.9156835,
          1.1099948,
          -2.2741208,
          2.0187929,
          16.906206,
          5.225704,
          1.3630841,
          1.474167,
          -3.9317274,
          -3.8296723,
          3.7065048,
          -4.178989,
          2.1767633,
          -3.4029787,
          -2.8281553,
          -0.92112094,
          11.708382,
          -4.1342583,
          5.590189,
          -2.549175,
          3.713506,
          -2.1409216,
          4.8921003,
          2.7580144,
          10.281005,
          3.0919633,
          -4.080379,
          7.5250893,
          17.556469,
          3.5715723,
          -3.7542703,
          -3.5537503,
          3.828481,
          7.9975863,
          11.818236,
          4.6551023,
          -3.6721034,
          7.670609,
          10.235282,
          3.0590477,
          -1.100952,
          13.583502,
          -3.0664113,
          2.6083562,
          1.6790462,
          -1.9599147,
          0.60292804,
          -2.9373689,
          2.881458,
          -2.9248836,
          1.1889666,
          3.4455063,
          -3.5389345,
          -0.9995723,
          0.6737428,
          -2.6761417,
          -2.0663126,
          -2.5067837,
          -1.6950428,
          20.147795,
          -3.5763748,
          -2.7727914,
          5.0427914,
          -3.00704,
          -2.393759,
          2.644038,
          13.200265,
          2.569808,
          -1.8167117,
          4.3738117,
          -1.1191788,
          -3.18877,
          -2.526156,
          -3.587069,
          4.7971725,
          -2.6178837,
          3.2444026,
          -0.8259978,
          3.7790818,
          -0.0753121,
          -0.7164229,
          4.9304867,
          11.926805,
          -1.4751118,
          5.4215555,
          -2.4738183,
          2.2677016,
          -3.5177956,
          5.9575377,
          -3.813335,
          -3.026016,
          -1.2500144,
          -3.6571395,
          7.9249907,
          -3.5963893,
          16.623106,
          -0.062291477,
          0.88020766,
          5.68137,
          2.9970167,
          3.3040223,
          5.829539,
          4.682552,
          -1.9231726,
          -0.1256031,
          2.9784408,
          4.923187,
          -3.9312603,
          3.6034162,
          1.1128933,
          -2.0989668,
          -1.5612938,
          -3.260555,
          -2.7246556,
          0.33982706,
          -1.0863204,
          -2.5934691,
          -3.3690963,
          0.73728144,
          -1.9817873,
          -1.2749549,
          -3.292104,
          -1.6704113,
          -4.249133,
          -3.1521912,
          6.6283693,
          -1.6103815,
          13.869136,
          -3.2753026,
          -1.2461458,
          -1.7855161,
          -3.7752264,
          2.0911298,
          8.721963,
          -3.598819,
          -1.7942035,
          -2.392433,
          3.533893,
          1.9491222,
          0.66670024,
          2.0757914,
          -2.2610238,
          -3.822166,
          -2.4092195,
          -4.1063685,
          -1.6667209,
          -3.921532,
          4.508633,
          -4.551275,
          -1.3587561,
          -3.905845,
          -2.8526206
         ],
         "xaxis": "x",
         "y": [
          -1.4657828,
          0.23165695,
          7.8551974,
          0.09707737,
          -3.2912161,
          3.0721617,
          -1.57453,
          4.2868686,
          2.9240966,
          -1.6770381,
          2.391164,
          -1.2345438,
          3.428825,
          1.447805,
          -0.43474,
          1.9839009,
          0.15587287,
          1.6634682,
          -1.4885572,
          -4.7722807,
          3.960321,
          -0.34820956,
          -4.355394,
          -6.4140854,
          -1.8485479,
          3.9153974,
          3.5631993,
          -0.24932078,
          0.18274117,
          2.7188516,
          1.6610221,
          -1.6745256,
          3.3838341,
          1.5539926,
          3.0072608,
          4.2130966,
          1.7111975,
          -2.3029644,
          6.610538,
          5.0313287,
          -1.1128907,
          0.8333307,
          2.9517684,
          -2.4500978,
          3.3391047,
          -0.030443856,
          4.7199984,
          5.878932,
          2.9163084,
          2.1197455,
          2.9076955,
          2.1962225,
          3.3431323,
          2.2868443,
          -1.3901759,
          -0.4873727,
          -0.9355519,
          4.110546,
          -2.04358,
          -2.0506167,
          0.13998711,
          4.1352873,
          -0.13616414,
          2.6831977,
          -0.9291203,
          -0.9290024,
          3.919159,
          4.61177,
          -0.06645243,
          -1.4619228,
          3.1792219,
          4.222165,
          0.99550694,
          -0.55022126,
          -0.08332141,
          -4.128102,
          -0.7844657,
          2.999276,
          1.1305671,
          3.8596773,
          3.0594137,
          3.4985006,
          0.91397744,
          2.8694346,
          3.82867,
          4.02819,
          2.4654949,
          4.5381603,
          -0.6209719,
          -4.0463653,
          3.4969718,
          0.42132834,
          -0.75423646,
          3.7910016,
          0.8355163,
          -2.8943207,
          1.8453946,
          3.847938,
          -1.9398139,
          0.038500328,
          -0.3503195,
          -5.2430897,
          -1.2370409,
          -0.041810326,
          -1.1915718,
          -6.1962805,
          -1.1799275,
          -3.2261174,
          2.2890646,
          1.6856188,
          -0.24017908,
          -4.187772,
          -1.8849329,
          0.63892,
          -4.668554,
          4.146194,
          5.6866746,
          -2.7926962,
          -0.94420856,
          5.5380044,
          4.8320327,
          2.9350185,
          -0.70201683,
          4.501267,
          4.1134596,
          3.4632635,
          -3.110491,
          3.5616105,
          2.1245174,
          2.5260756,
          -3.1122017,
          1.0927651,
          3.6952195,
          -2.2379253,
          4.1284924,
          2.86492,
          -0.4413736,
          -2.2641346,
          2.3802898,
          -2.1292937,
          -4.349405,
          5.177694,
          -0.45569387,
          3.7319713,
          -1.7422059,
          3.659587,
          -0.6302184,
          -0.23289837,
          -1.0738785,
          -1.2083778,
          0.48457068,
          -0.60808665,
          -4.945336,
          3.4928088,
          4.5230856,
          -1.3396939,
          -0.52514076,
          3.8412697,
          3.472774,
          0.7443238,
          -4.258564,
          8.229285,
          -0.8774008,
          -0.2852675,
          1.0357121,
          -1.3560215,
          -0.4394941,
          4.4690394,
          4.6421895,
          0.006950895,
          -0.04561125,
          2.0986142,
          -3.0085435,
          3.570988,
          0.6552502,
          1.8702668,
          -3.3649054,
          5.418609,
          4.979892,
          -1.4019134,
          6.110778,
          -0.3540201,
          -6.1733384,
          5.6400514,
          4.116341,
          1.9781926,
          0.4706562,
          0.8366586,
          0.3280125,
          -0.969061,
          -2.410195,
          -1.6771132,
          3.3676832,
          -1.5729024,
          3.7463408,
          -1.291901,
          -0.7821429,
          1.3261013,
          0.73023736,
          -1.6422601,
          -0.9253998,
          3.1547472,
          3.855892,
          3.4225621,
          0.6190975,
          -4.2804756,
          2.1614227,
          1.7533274,
          0.74679375,
          -2.814601,
          0.5483014,
          -0.7086845,
          2.108535,
          0.7049894,
          2.6746814,
          2.0881648,
          8.1443405,
          4.2351646,
          2.604136,
          -4.3851867,
          3.97855,
          -0.0015957011,
          -0.438717,
          -3.3256037,
          1.1853925,
          -0.35192993,
          8.24298,
          5.786553,
          -0.6236091,
          -1.7397574,
          2.2822804,
          3.6316366,
          4.146165,
          -1.3346504,
          -1.3020295,
          -2.8243048,
          3.3522844,
          -2.2297306,
          6.358815,
          -0.35696122,
          5.6902094,
          -3.0004547,
          3.0424883,
          2.092188,
          -2.5644,
          -6.4835773,
          -3.6135495,
          0.78690714,
          0.3495007,
          -4.090926,
          7.762721,
          -4.976531,
          -1.5037522,
          -3.0595639,
          3.727322,
          5.8675137,
          -0.36521482,
          1.3151938,
          1.8772107,
          -1.3108244,
          -5.3892536,
          5.666681,
          -2.7615864,
          -2.4591022,
          -3.2737713,
          -2.557304,
          -0.23458779,
          4.8997474,
          3.2939377,
          -5.7031674,
          -0.23983523,
          -2.232223,
          -1.2728289,
          1.9826834,
          -0.8058774,
          5.6438346,
          6.326082,
          -6.110335,
          4.4595823,
          4.4593773,
          2.3034484,
          9.619084,
          3.6107032,
          2.3571663,
          1.4705051,
          -2.7945917,
          -6.7683635,
          0.6686136,
          -5.8060217,
          1.193681,
          -2.6143634,
          1.863708,
          5.4335427,
          -6.290759,
          -1.2274978,
          -1.5744333,
          -0.7079694,
          3.3179872,
          -1.9636048,
          -3.6962998,
          -3.7370036,
          0.7989337,
          -2.8020883,
          -2.10567,
          -2.2706015,
          1.6853567,
          1.2761444,
          -6.5996313,
          4.361378,
          -3.182374,
          -4.7021675,
          2.9306085,
          1.0791394,
          3.3745918,
          -2.0233805,
          0.50247353,
          0.9352712,
          2.7815528,
          -4.3755884,
          -3.0934212,
          -3.112445,
          0.011090779,
          1.5835431,
          0.46019745,
          -4.267699,
          3.6534247,
          3.0777392,
          1.4437983,
          -1.7219805,
          -2.377918,
          -0.3512136,
          -3.1493354,
          4.6970525,
          5.023231,
          3.7162046,
          -4.06069,
          -2.7873101,
          -4.1510625,
          -0.42819583,
          0.8701051,
          -1.3497621,
          -1.8855178,
          3.6671214,
          -0.50549966,
          1.0512053,
          3.6882322,
          3.3505208,
          -0.63498116,
          2.01334,
          -3.8317568,
          2.73622,
          5.1339736,
          2.0595248,
          3.3896465,
          -1.4869612,
          -1.1635162,
          4.6929107,
          3.0829046,
          4.3743944,
          1.3078125,
          -4.512781,
          -4.5651674,
          -0.87610734,
          5.393722,
          1.7808734,
          0.94788384,
          -3.2083375,
          4.9364247,
          -4.8284035,
          -5.7296443,
          -1.5842208,
          2.553068,
          3.9635596,
          5.103788
         ],
         "yaxis": "y"
        },
        {
         "hovertemplate": "label=nevus<br>pc1=%{x}<br>pc2=%{y}<extra></extra>",
         "legendgroup": "nevus",
         "marker": {
          "color": "#EF553B",
          "opacity": 0.8,
          "symbol": "circle"
         },
         "mode": "markers",
         "name": "nevus",
         "showlegend": true,
         "type": "scattergl",
         "x": [
          1.6129714,
          -3.0107088,
          4.8721805,
          -4.0037622,
          -3.8417268,
          6.02453,
          2.0383294,
          -4.4664702,
          5.969193,
          -2.075415,
          -1.4794589,
          -2.4250247,
          0.74768996,
          2.1990247,
          1.2801931,
          -3.2931488,
          2.2141824,
          -1.009331,
          0.12728284,
          9.64082,
          3.9991493,
          -2.8212304,
          2.209945,
          -4.6658,
          0.31701136,
          -2.0137591,
          -4.4042735,
          1.7587277,
          0.2082498,
          -2.0437071,
          2.774746,
          -4.5131044,
          0.5359853,
          -3.532689,
          1.902763,
          3.1976762,
          -4.4815526,
          -2.2953446,
          -1.7463645,
          -3.141333,
          -2.8972101,
          -0.7987393,
          -1.6421381,
          2.6157875,
          0.7165468,
          3.8564253,
          3.9259634,
          0.5510076,
          -2.7085717,
          3.2933083,
          -3.3823695,
          -3.0183985,
          -1.7484972,
          -3.4987319,
          4.713796,
          -3.7595007,
          0.29320994,
          -3.1420598,
          -3.7920904,
          4.1103067,
          -4.5801673,
          0.10507013,
          0.032242194,
          -3.6495688,
          0.54226613,
          -3.452211,
          18.747433,
          -3.352857,
          -3.9489677,
          -3.3193383,
          -1.3131875,
          -2.018195,
          -2.2137375,
          5.831656,
          -3.8847394,
          2.9202228,
          -0.091292866,
          -0.25020623,
          1.7380655,
          -3.842324,
          -1.0289277,
          0.6797394,
          -2.7457008,
          0.61667603,
          -2.2588286,
          -1.8671955,
          -3.6081994,
          0.022509776,
          4.6206923,
          2.8005083,
          1.4826078,
          -1.8976804,
          -4.2229486,
          -3.9868357,
          -2.3112955,
          -3.580111,
          -4.623872,
          10.64569,
          -3.0199544,
          2.7949736,
          -3.6855721,
          2.336344,
          -0.9738109,
          -4.323308,
          -2.3268552,
          -2.481342,
          -2.327095,
          -0.029139271,
          3.2341383,
          -2.0915468,
          4.843467,
          -1.2151757,
          -4.0266495,
          0.43666074,
          -3.3831522,
          4.5583487,
          -4.4403996,
          2.8974717,
          3.6245518,
          5.2035995,
          3.2666936,
          -1.1325829,
          -1.4582388,
          7.628163,
          -0.04085876,
          -2.878605,
          0.04694378,
          -3.609023,
          15.951713,
          2.9228022,
          -2.9425163,
          1.9720768,
          -4.695571,
          -4.591152,
          4.323975,
          2.21838,
          11.945434,
          4.3135223,
          -1.8517781,
          -1.8114545,
          -1.7280886,
          -0.25888464,
          -0.8528484,
          1.7123504,
          0.6703407,
          -2.48097,
          -3.4725008,
          7.7846913,
          -4.1345534,
          5.183597,
          -2.848669,
          13.2574215,
          6.2875195,
          2.6682007,
          -4.531532,
          3.0983887,
          4.628246,
          -3.5080094,
          5.7587934,
          3.4122112,
          -3.4416814,
          -1.1742185,
          -2.7254462,
          4.726111,
          2.2902036,
          2.3932834,
          -2.5141342,
          0.52657914,
          -0.99015784,
          -0.4343701,
          2.4005384,
          -2.8075702,
          -2.955418,
          -2.4435716,
          1.5638763,
          7.0651836,
          5.81888,
          -2.589673,
          0.6355083,
          -0.59850746,
          -1.1800365,
          -1.9597375,
          -0.0056960676,
          3.6330903,
          -1.1046109,
          -4.2163973,
          -1.8313011,
          8.446353,
          -1.1310589,
          2.6922097,
          2.3540692,
          5.0325174,
          0.52547204,
          -0.5046425,
          17.518602,
          2.0444987,
          20.99365,
          2.1037405,
          -0.42086133,
          -1.4340081,
          -2.500626,
          5.8532786,
          -3.3137927,
          2.1698074,
          -2.2008572,
          -4.07227,
          -3.7432933,
          -3.2818973,
          7.7542624,
          -4.7694407,
          -2.5392597,
          0.011764589,
          -1.1756476,
          -3.7892346,
          -1.6733192,
          1.9052819,
          -4.813297,
          -2.1729147,
          2.3646367,
          -3.8006856,
          -1.3827704,
          -4.47713,
          -2.6872163,
          -3.1408565,
          -0.20406772,
          -4.0426545,
          3.6130805,
          0.47341532,
          -3.841901,
          9.980791,
          -3.6049957,
          1.6203972,
          -1.7432044,
          -3.9955854,
          -3.7425194,
          2.3438575,
          3.399146,
          -3.3501618,
          16.897463,
          -3.0896854,
          -2.635936,
          -2.8926654,
          -4.5575647,
          5.7686677,
          -1.3635638,
          -4.186019,
          4.3528824,
          -5.01435,
          -3.1872063,
          0.9553504,
          -4.740267,
          7.3714004,
          3.8405821,
          3.7573938,
          -3.3061001,
          -3.815603,
          4.709133,
          0.07300526,
          -3.3587868,
          -1.896361,
          -4.0093675,
          15.220738,
          4.6418414,
          -4.2647557,
          4.458811,
          -0.020343162,
          2.0169573,
          7.050479,
          5.547179,
          1.4411256,
          -3.1871307,
          -0.048027832,
          -1.012838,
          -0.5431277,
          -0.8128095,
          -3.7297144,
          -0.26330584,
          -1.4535146,
          4.906364,
          -0.41964132,
          -2.7831392,
          -2.820171,
          -1.5384392,
          -1.9096993,
          -4.350729,
          -0.15658401,
          7.2030625,
          -4.524876,
          -2.0696495,
          -1.1657894,
          -3.1101382,
          2.543265,
          6.8176274,
          -0.48994154,
          -3.3419049,
          -0.3868283,
          6.6071157,
          -1.9417651,
          3.5431051,
          2.136446,
          -3.811984,
          -0.7890933,
          -1.1671387,
          -0.17039692,
          -4.052188,
          -1.4684145,
          -4.331798,
          -2.2924674,
          3.1384265,
          0.9421734,
          -1.7289597,
          2.881229,
          1.207508,
          1.1373463,
          -2.624815,
          7.444753,
          12.368421,
          2.1771343,
          -3.0728493,
          -0.8993004,
          0.13144624,
          -4.3343925,
          -0.77247477,
          1.9183203,
          4.097749,
          -3.7677472,
          5.700132,
          8.608317,
          -1.2504541,
          2.4688804,
          7.2972345,
          3.7591043,
          -4.747747,
          -4.1435747,
          -2.5203223,
          2.0094655,
          -1.9277275,
          1.7292612,
          -2.0373926,
          -0.073844776,
          -3.561608,
          0.6445668,
          -3.5818703,
          -0.98021924,
          0.25064105,
          -3.7164323,
          4.313107,
          -4.8429413,
          -3.5834105,
          -2.4118402,
          4.5162826,
          -0.14137101,
          -3.6146421,
          -3.6720595,
          2.3430965,
          1.488087,
          -0.76924676,
          -3.5387962,
          -3.5544236,
          -0.429085,
          9.351674,
          -0.56255776,
          -2.4588742,
          -0.2998803,
          2.8972127,
          3.9884589,
          -1.6846039,
          2.2379704,
          -3.2592573,
          -2.5837462,
          -1.4381568,
          -1.6539975,
          -3.0739741,
          -3.4845579,
          -2.894145,
          2.343441,
          -3.2833576,
          3.4905841,
          -2.9135914,
          6.330779,
          2.721662,
          3.7229738,
          2.46254,
          -3.9749017,
          -3.2401998,
          6.5712695,
          5.23735,
          -2.862483,
          -3.3774586,
          -1.2624553,
          -4.418972,
          1.4666251,
          0.28285715,
          0.85889924,
          1.1233964,
          -4.1989822,
          -0.22410928,
          -1.0154517,
          -3.3204784,
          -3.3251696,
          4.1965423,
          -3.6028452,
          -0.97887355,
          3.5542164,
          -4.7281833,
          -3.51523,
          4.487745,
          -0.28228262,
          -3.8055637,
          -2.279858,
          -1.0766016,
          1.4785341,
          2.8276818,
          -2.0042114,
          0.2076554,
          -5.0204678,
          2.9858701,
          -2.3147154,
          8.498376,
          3.915023,
          2.2140188,
          6.52343,
          -3.2225742,
          -2.896865,
          8.543115,
          -3.4391038,
          2.6740746,
          2.5288095,
          -2.508375,
          4.7767687,
          1.9049989,
          -1.4551885,
          -2.6843863,
          1.9806368,
          -4.097004,
          12.565822,
          0.57899034,
          9.729284,
          -3.7539601,
          0.7049021,
          -2.0039423,
          -2.621483,
          0.088639826,
          -4.376233,
          3.8842366,
          3.2370298,
          0.9685567,
          -2.184108,
          -3.0837247,
          4.2355895,
          -0.877513,
          -2.2530203,
          -3.0255053,
          -2.8775508,
          0.7000686,
          -3.802341,
          -4.557599,
          5.2091374,
          0.028864576,
          -0.64274263,
          -3.9570115,
          0.502537,
          6.163176,
          -3.0755422,
          2.0914705,
          -4.709787,
          -0.58534974,
          1.4404287,
          4.8313417,
          -2.774758,
          6.461724,
          6.2057486,
          -1.3226901,
          -4.8470707,
          -2.5746245,
          3.875175,
          13.540445,
          3.1782699,
          3.3106573,
          -3.2585802,
          2.574751,
          -1.3224819,
          -3.3927753,
          -3.3164833,
          -1.7897725,
          -3.4202697,
          3.625592,
          -3.61249,
          -4.346716,
          -2.2158403,
          9.649243,
          -3.2643185,
          -1.5531452,
          -1.0745372,
          -3.5407934,
          1.5762367,
          -2.0495381,
          -3.1520405,
          -3.7446663,
          -2.8647492,
          0.07702377,
          -3.384644,
          -2.2405183,
          -4.526402,
          -1.415023,
          1.2081671,
          -1.344995,
          -0.34662896,
          -4.916426,
          7.4097567,
          14.6125965,
          0.06047389,
          0.6010012,
          9.415173,
          1.1241362,
          -1.6970286,
          -0.7988056,
          5.566311,
          -3.4732711,
          -3.7200024,
          7.0450864,
          0.77194154,
          -4.0451875,
          -3.788688,
          7.856686,
          -1.8500484,
          -2.8501966,
          0.7577114,
          -3.1629937,
          -0.28757668,
          -2.3379586,
          0.23839757,
          2.8928957,
          -3.5979707,
          0.9067935,
          -3.8216944,
          3.3331678,
          2.180406,
          0.56738013,
          -2.1344814,
          -4.3445845,
          -1.8396374,
          -0.37451106,
          1.4455193,
          2.2335603,
          -1.9095436,
          -0.06402005,
          -2.263038,
          6.6777287,
          -2.1415055,
          -0.039164957,
          -0.5619619,
          -2.5145392,
          -2.6450841,
          -3.5725799,
          -2.2317505,
          4.62939,
          -1.3563937,
          -4.6746993,
          3.2847505,
          9.5322895,
          -4.190117,
          -3.7348518,
          -3.4717135,
          0.7620711,
          -3.681623,
          -0.6368654,
          3.8092997,
          -3.246797,
          3.3168812,
          -1.8703811,
          -4.686712,
          2.1005507,
          2.4264956,
          -4.420483,
          2.655865,
          -2.554115,
          0.41557586,
          -1.2218174,
          -3.3074226,
          -1.6839533,
          -1.5388683,
          -1.0678885,
          -1.2683975,
          1.8607401,
          -4.081461,
          -2.7918618,
          -1.8544205,
          1.6645366,
          -1.8735436,
          -1.0224022,
          -0.9901255,
          3.7008371,
          -4.3449106,
          -3.6615784,
          -1.9486228,
          -0.37876865,
          -0.78750455,
          -1.3648866,
          -3.6671133,
          -0.9763089,
          -4.26637,
          6.915013,
          -4.0841355,
          -3.9961271,
          -2.9867244,
          -3.4548943,
          2.9062119,
          3.996247,
          -2.8839767,
          -3.3915915,
          -0.97543865,
          -1.8077055,
          -3.2280774,
          0.20025077,
          9.027369,
          -2.7328022,
          3.6375623,
          -3.9626148,
          6.478041,
          -0.25425956,
          6.810201,
          5.807346,
          -2.801555,
          -4.204589,
          0.41600907,
          -3.1472628,
          2.4997454,
          1.4551977,
          3.913889,
          0.12904313,
          -2.8965445,
          -4.0283866,
          -3.9855237,
          -4.6313486,
          2.1778135,
          -2.807328,
          -4.081069,
          -3.257312,
          -4.4486904,
          1.6667246,
          -0.06372347,
          -2.5389829,
          2.9062514,
          -3.3854775,
          -3.3048701,
          -2.5942154,
          -2.3077774,
          5.1757383,
          8.388775,
          2.9305804,
          -3.1457088,
          -3.0329502,
          3.1606646,
          -0.27021542,
          -0.81418496,
          -0.20686083,
          2.5443423,
          -4.9417267,
          1.2496872,
          -2.3319442,
          -0.43312314,
          -1.2018824,
          2.1994004,
          -3.2953057,
          -3.4579244,
          -3.4726348,
          -3.025436,
          3.581919,
          6.6177187,
          3.4963644,
          1.6898372,
          -1.9543173,
          7.426259,
          -4.03092,
          -4.2220488,
          -2.8957915,
          2.077648,
          -0.14191426,
          -4.0423985,
          -1.3818867,
          2.1570656,
          0.051043276,
          -1.3265687,
          10.164043,
          -2.872024,
          -2.2133596,
          5.593636,
          16.65163,
          -2.5807211,
          -2.45218,
          -0.82072556,
          2.0583754,
          -3.5019488,
          1.8460679,
          -3.9533858,
          -4.741659,
          -2.8476627,
          -3.9015539,
          1.0110338,
          -3.4517496,
          -3.4820077,
          -3.0073411,
          7.081256,
          -2.3094635,
          1.0348771,
          -2.1004314,
          -2.57738,
          10.247803,
          -2.8404741,
          0.916042,
          -2.6641526,
          0.121195294,
          -1.8829827,
          -3.463573,
          11.434027,
          1.6486101,
          0.5710997,
          -3.437991,
          6.267672,
          2.159427,
          -4.5764728,
          11.321775,
          -2.3851297,
          9.072688,
          -1.663851,
          11.270761,
          -3.4871113,
          0.448287,
          0.7264369,
          2.7795708,
          -3.0388594,
          0.3167477,
          1.612416,
          1.8128313,
          -4.570704,
          -1.574544,
          -4.0082817,
          -3.8281162,
          -2.795339,
          -3.3219225,
          -2.8957264,
          -2.79644,
          -3.3716016,
          -2.5512958,
          -2.9420218,
          -3.5055375,
          -2.194261,
          -4.096902,
          4.1062407,
          1.4098812,
          -1.7611907,
          4.526976,
          -2.6570199,
          -3.1623566,
          4.742038,
          6.8771954,
          -4.051465,
          -0.14354113,
          -1.0006695,
          5.203378,
          0.06797914,
          -4.337623,
          0.64374804,
          -4.3428187,
          1.8716204,
          -3.185208,
          0.1588818,
          -3.7171583,
          -3.629968,
          4.06082,
          -3.374639,
          9.001311,
          -3.660917,
          -2.5636275,
          -4.7536016,
          -2.3316736,
          0.87950784,
          1.8356264,
          -3.4093528,
          0.5557312,
          -0.18784487,
          -1.6637977,
          -3.0831404,
          -3.7305844,
          0.19246906,
          -3.740601,
          -3.2945516,
          -3.4402218,
          -0.49238688,
          -1.8969697,
          -0.6825072,
          -3.7113755,
          -0.81315476,
          -3.9330983,
          5.3404512,
          13.909717,
          9.386119,
          3.9617155,
          2.4912708,
          -3.039772,
          7.059683,
          5.844657,
          1.4557791,
          8.5138645,
          -3.9670646,
          -3.4529781,
          -2.8293028,
          2.3282058,
          -3.9902701,
          -3.105384,
          -3.5550234,
          -3.607813,
          -3.131828,
          -2.4190953,
          -3.2997131,
          -3.7511513,
          -3.4255521,
          -4.154308,
          -3.5721314,
          4.026112,
          0.6906823,
          -3.373236,
          -2.226994,
          -1.4316578,
          -2.9925065,
          3.5963275,
          -3.4679508,
          -3.0974247,
          -1.181207,
          -2.3334417,
          -1.3937945,
          -1.962053,
          -1.6200129,
          6.625512,
          -1.3737568,
          -2.4315653,
          2.0440755,
          7.8249536,
          0.8067825,
          3.3345354,
          -1.6245826,
          2.154608,
          -2.2522416,
          0.16520819,
          6.894481,
          2.7311523,
          -0.6579392,
          -4.0034823,
          3.4167695,
          -1.5565755,
          -2.8926184,
          -3.0192084,
          4.987371,
          -3.703829,
          -1.206253,
          9.578388,
          -3.6452086,
          6.49641,
          3.4539979,
          -3.9093997,
          1.5897709,
          -0.09338829,
          -3.0869935,
          4.5616636,
          -3.833034,
          -2.62391,
          -0.6304681,
          -2.2886758,
          0.8276499,
          0.33624914,
          0.46747908,
          -2.655334,
          0.87142915,
          -2.84789,
          -3.8362205,
          -1.7076721,
          -2.0918298,
          -2.0979686,
          -2.2889025,
          4.338999,
          -3.8545065,
          -3.0730572,
          6.027305,
          10.181747,
          -1.6060588,
          8.899884,
          12.587956,
          8.970986,
          0.35251406,
          9.718721,
          3.1731708,
          -2.200685,
          -2.9092515,
          -5.0161867,
          -2.638713,
          -2.4238772,
          -2.082175,
          -3.995227,
          -1.9599936,
          -3.788372,
          -3.8268406,
          -1.8067882,
          -3.7754028,
          1.871946,
          -0.8032215,
          -2.8531811,
          -3.471877,
          -1.3595489,
          -0.8930663,
          -3.7704837,
          11.085083,
          -1.6344174,
          -3.2845862,
          -1.7584401,
          -3.0607576,
          -4.5534706,
          -2.6901193,
          -3.7366607,
          -1.2699146,
          -1.7824955,
          1.24326,
          0.47801048,
          0.046221413,
          1.1355006,
          -4.721466,
          -0.90074366,
          -2.1384697,
          5.1135044,
          -0.28143412,
          -3.420687,
          5.014932,
          -2.856107,
          0.8482674,
          2.7259922,
          -1.2306281,
          4.47152,
          -3.3060098,
          2.5303597,
          -1.176416,
          3.6825995,
          -1.9540106,
          -3.7956495,
          5.9233274,
          3.0951283,
          -3.7450166,
          -0.60168874,
          -1.6294266,
          -0.64735323,
          1.6694862,
          -4.1636786,
          -1.5189999,
          -2.3428833,
          0.052256018,
          -3.177017,
          -1.735638,
          1.7065243,
          -4.04333,
          -2.946218,
          -4.179802,
          -3.051783,
          -2.203127,
          -0.11130045,
          -4.3613334,
          -1.8820515,
          -1.747533,
          -0.72396225,
          -1.9914298,
          -2.323013,
          -3.3675077,
          -2.5062141,
          1.4363236,
          0.063467495,
          -1.4987389,
          -1.3046575,
          -2.6476495,
          4.602498,
          -1.2548224,
          -2.8353102,
          -1.8087238,
          19.580654,
          -2.7157857,
          -1.7235934,
          2.2383285,
          5.0191407,
          -4.216341,
          14.107055,
          -0.8791977,
          2.9270453,
          0.68481666,
          1.6002592,
          -3.5459542,
          -1.1848813,
          -3.0431426,
          -0.54900396,
          7.987901,
          3.0445008,
          -1.5800903,
          -3.8020706,
          -2.40788,
          0.67894685,
          -1.4234062,
          3.2148197,
          8.273301,
          2.4750054,
          1.7893728,
          -3.5620399,
          -1.7637793,
          -0.16308667,
          -3.4488199,
          -2.8875458,
          -4.258159,
          -4.669949,
          -2.0090842,
          -0.27658084,
          -2.8120608,
          -2.1675134,
          -0.2980943,
          1.0861615,
          3.3258443,
          0.5828403,
          -2.0837314,
          -2.5217772,
          -3.6700177,
          0.09847134,
          -4.740806,
          -0.78132474,
          2.778997,
          4.489,
          -4.1658096,
          -2.2877374,
          15.5643635,
          -3.0759113,
          -3.2805214,
          -4.3682394,
          8.24346,
          -3.2764103,
          -3.5044906,
          0.64587724,
          8.868541,
          5.4541316,
          -4.795109,
          6.1854877,
          -0.25852108,
          -2.6864886,
          -2.811043,
          -1.2510437,
          -0.7594233,
          -3.5364776,
          -0.51797736,
          -3.061865,
          -3.8734515,
          -2.8896737,
          3.2373967,
          1.2966304,
          8.231501,
          -4.019663,
          -3.3035333,
          -2.9066193,
          -0.9803234,
          -2.491664,
          -2.9998817,
          3.356948,
          -3.672642,
          -4.244957,
          -2.9286883,
          -3.4835286,
          -4.193217,
          2.0857785,
          -0.6691332,
          -1.3566823,
          6.54589,
          4.3231072,
          -5.073211,
          -3.0993576,
          -4.4295635,
          2.6397624,
          -2.2006705,
          -2.9786425,
          -3.1650815,
          5.692733,
          -0.90674067,
          0.20688052,
          -4.1505475,
          -3.9467967,
          2.8570843,
          -1.8207867,
          1.6525961,
          -4.023348,
          8.844647,
          -3.874236,
          0.33351186,
          -1.0176759,
          -2.1029522,
          -0.6367841,
          -4.308999,
          -1.1862314,
          5.1011806,
          0.61105055,
          0.4635099,
          -3.0572267,
          -4.2257442,
          4.2574177,
          -2.5128984,
          -3.1960092,
          -3.805798,
          -3.7186744,
          2.2545168,
          -4.005202,
          -0.5430616,
          -0.8787051,
          -3.5299025,
          -2.5860991,
          14.991891,
          -0.41777816,
          -2.4980142,
          -1.2233944,
          -2.537809,
          -3.0166006,
          -3.7505565,
          1.2917869,
          -3.3226383,
          -3.720109,
          -0.81359684,
          -0.20586528,
          -2.4762135,
          -1.7641342,
          -2.9740157,
          -2.6423151,
          5.6230745,
          2.1377194,
          1.3535101,
          -1.4598029,
          -3.3886268,
          -3.7607236,
          0.4104929,
          3.518909,
          8.151906,
          8.565913,
          3.2667916,
          -2.6602437,
          -4.19522,
          4.9042144,
          37.2419,
          -0.6437496,
          -2.6792912,
          -3.3278544,
          1.9818563,
          6.0146937,
          -2.8509724,
          -1.0209986,
          -0.57148594,
          -0.9875417,
          -4.2544317,
          -3.5192637,
          0.06248575,
          -1.8566915,
          1.906666,
          -1.0057701,
          2.4712036,
          -4.300727,
          -3.4098423,
          12.382683,
          -2.3233838,
          -4.5805035,
          4.296066,
          15.257977,
          13.140515,
          -0.33275765,
          -3.186927,
          -1.1540494,
          -0.85518056,
          0.6720128,
          6.361423,
          9.342678,
          0.8235429,
          -3.5744367,
          -3.8554053,
          -2.8540547,
          -2.0637918,
          0.18411785,
          -3.6738286,
          -1.223261,
          -2.6166532,
          -1.2659414,
          9.048135,
          5.4689913,
          0.3361213,
          9.027226,
          -3.2419107,
          0.2756193,
          -3.9024363,
          -1.8813889,
          -2.0950081,
          -3.646386,
          -1.366315,
          1.9211048,
          1.017153,
          1.4049394,
          5.29648,
          -4.6605697,
          -3.3197274,
          -0.038092267,
          -1.4495078,
          -1.1330261,
          -1.2206213,
          12.184861,
          -1.7464422,
          -3.544173,
          -3.5380223,
          -4.684187,
          -0.28541908,
          -4.0119576,
          -2.1351426,
          0.5918079,
          0.3156507,
          -3.2196124,
          -2.6462529,
          1.0122099,
          -2.0560334,
          -1.7769281,
          -3.0236619,
          11.47406,
          -0.060342435,
          -1.1182938,
          -0.86765987,
          -1.1783155,
          1.428227,
          6.389522,
          -3.8974588,
          -0.6973073,
          0.80980426,
          2.1309426,
          -2.2643492,
          0.13894947,
          -2.768728,
          -2.9971313,
          7.658618,
          -2.172589,
          -3.1000285,
          -3.5228274,
          3.004117,
          -4.418506,
          -4.303613,
          1.9930093,
          5.5213394,
          -3.4589088,
          -4.3616886,
          -0.5917863,
          1.4502732,
          2.8249216,
          -4.570348,
          -4.484563,
          5.493627,
          -1.145578,
          3.0074036,
          -1.0954945,
          0.2488815,
          -1.0875777,
          0.7541379,
          -2.4958286,
          0.48990208,
          3.7282865,
          2.708622,
          9.552874,
          3.7597604,
          3.0178726,
          0.41851348,
          -3.03359,
          3.786083,
          -0.91642237,
          -4.42576,
          -2.9295635,
          4.6926355,
          6.2578216,
          -4.8091383,
          -4.6804357,
          3.455135,
          7.041984,
          -3.6239018,
          -2.927722,
          9.44759,
          0.47357452,
          -0.70353895,
          0.6368614,
          -3.3732448,
          -3.133596,
          -3.5204768,
          0.17865624,
          -0.8488253,
          -3.0668268,
          4.0033765,
          3.1455138,
          -3.7638094,
          -4.060944,
          -3.5768533,
          1.4280474,
          0.95405006,
          0.25696078,
          -2.4745367,
          -3.5386028,
          -3.3813057,
          0.7875571,
          -0.54236466,
          -3.6836886,
          -1.9975055,
          -1.916632,
          -2.009422,
          -2.587457,
          -3.9942853,
          -2.0661747,
          8.74804,
          1.2768162,
          -4.417593,
          -4.308529,
          -3.6924014,
          1.993356,
          -3.082545,
          4.291407,
          -2.2381246,
          -2.5673141,
          -2.300491,
          1.0456091,
          -3.218098,
          -2.200183,
          -3.9930277,
          -4.1106706,
          -0.49793667,
          0.9369452,
          14.544082,
          0.16657864,
          3.8671017,
          -2.79999,
          2.0182028,
          0.6626878,
          -4.412112,
          -0.8717176,
          -0.5882635,
          -2.8241827,
          11.629023,
          -4.1897783,
          -4.3533144,
          -1.4835207,
          -1.6634989,
          2.1021335,
          -3.58183,
          -3.5527158,
          -3.7251978,
          -4.530342,
          -4.6856365,
          -1.988149,
          3.9328184,
          -4.637722,
          1.4245794,
          3.1739435,
          0.012648251,
          -4.6703663,
          3.3777113,
          12.0237875,
          -3.8036296,
          -1.707452,
          -0.6772627,
          -0.8721442,
          -3.4253385,
          -2.7875218,
          -2.5942357,
          19.16673,
          -0.23975293,
          0.24994835,
          -0.1966125,
          5.721823,
          0.52180326
         ],
         "xaxis": "x",
         "y": [
          -1.5622674,
          -0.7478331,
          -0.36462134,
          -2.6275277,
          2.9018714,
          -2.7929995,
          -1.396169,
          -2.1906095,
          -0.72976387,
          -4.851747,
          4.073223,
          4.0951185,
          0.8308096,
          0.016682895,
          0.42237785,
          -6.343103,
          -3.7058396,
          3.02535,
          -0.47888747,
          0.35462457,
          1.0690875,
          -3.9251509,
          3.6381419,
          -1.3994336,
          2.3937085,
          -3.4253533,
          -0.21305455,
          -3.7289367,
          2.530234,
          1.3836856,
          3.7842288,
          0.884684,
          -5.133456,
          3.8891604,
          -0.65801495,
          -0.07880773,
          0.7021413,
          -4.959512,
          2.216006,
          -0.7021727,
          0.39743543,
          6.709143,
          -5.472015,
          -1.2322813,
          3.6853895,
          8.406103,
          -2.6226764,
          1.8458394,
          0.42576188,
          3.5214677,
          -5.794182,
          3.196567,
          2.9340782,
          0.7159816,
          -1.9127423,
          1.5783367,
          -2.453754,
          -3.1558468,
          1.8755846,
          5.9123497,
          -2.4240413,
          3.7567205,
          -0.05807135,
          3.4831216,
          2.7780519,
          4.771396,
          3.5489852,
          -0.14945208,
          -2.4104533,
          -0.668987,
          -3.1101563,
          -3.592545,
          4.9750123,
          -0.38806748,
          0.63023496,
          4.0308204,
          3.4269202,
          -2.3071015,
          -1.9202503,
          1.1656871,
          -5.1826687,
          -4.849728,
          -2.4019136,
          -2.037893,
          0.60259044,
          3.2841897,
          -0.5151651,
          -3.3213828,
          -0.7561388,
          -0.51757705,
          -1.9121186,
          0.24967864,
          4.3003764,
          -4.1624727,
          2.843431,
          -2.135869,
          -2.3642263,
          -5.7648754,
          0.28328496,
          0.9991388,
          3.7909164,
          -3.2623498,
          5.761002,
          -0.4044717,
          4.984857,
          -0.5789116,
          0.90368557,
          -0.5540591,
          1.8711258,
          2.4133604,
          -1.469207,
          1.4714658,
          0.083207384,
          -0.07151199,
          0.23429619,
          -7.5958996,
          1.2153909,
          -3.332733,
          -6.0065866,
          2.4519002,
          -3.5798252,
          4.3491206,
          -5.255287,
          -2.4879239,
          3.4000986,
          -1.6194088,
          -0.9707177,
          0.24515967,
          -3.8162491,
          2.9965484,
          -2.9254436,
          -0.049891815,
          0.23647547,
          -1.3787345,
          -2.0662737,
          1.7564722,
          0.55326927,
          -4.1924005,
          3.4964697,
          -1.4078285,
          0.057186913,
          0.9127533,
          3.3188572,
          -0.23354799,
          2.684158,
          1.096015,
          -4.553147,
          -1.0812079,
          -5.1038675,
          -5.6119328,
          4.2984605,
          -6.9550896,
          1.9201854,
          -5.9563518,
          -2.5713465,
          -0.6850055,
          -3.1197083,
          2.872741,
          4.2685704,
          2.2348404,
          -2.3799667,
          1.84246,
          0.47773156,
          0.6519856,
          1.8066323,
          2.0722601,
          -5.87396,
          -1.0089365,
          3.343049,
          1.1686347,
          2.6660447,
          0.64800864,
          3.8348815,
          -3.2774708,
          -1.9516743,
          -0.6648869,
          3.5609097,
          -1.3801159,
          -0.92546886,
          0.8875313,
          -1.7578379,
          4.4244227,
          3.7892973,
          -7.006757,
          5.454225,
          1.8187418,
          1.7364751,
          0.4268199,
          -2.8054132,
          6.520262,
          -1.9841381,
          0.16911022,
          -4.751895,
          0.08765258,
          7.6587214,
          1.2587911,
          -1.5654356,
          -2.7225194,
          -2.3973053,
          -4.5656867,
          -1.7278849,
          -3.401571,
          -6.5795536,
          -1.8607234,
          3.264623,
          -1.5753423,
          2.4878664,
          3.3212237,
          3.3612978,
          -0.37087566,
          -6.1388493,
          -0.7431847,
          -3.6748502,
          -4.1914225,
          -2.7450228,
          4.191812,
          1.2105151,
          4.6512694,
          1.5990949,
          -2.1560605,
          5.709706,
          -2.7973874,
          -7.4737673,
          0.4930262,
          -0.4235756,
          2.2576032,
          -1.193869,
          1.2484261,
          3.8412795,
          5.4352803,
          2.9987864,
          -6.049429,
          -1.6639521,
          -0.50071883,
          -0.85515803,
          -4.057611,
          -5.774131,
          1.962159,
          -6.0243106,
          4.4686685,
          4.4421687,
          1.167161,
          -0.8429415,
          -4.1874604,
          3.2707183,
          1.744275,
          -7.412897,
          2.176342,
          4.342956,
          -1.9472287,
          0.2713219,
          -4.518055,
          3.824035,
          -1.5346923,
          -5.911923,
          -1.6917249,
          -1.5060049,
          3.813146,
          1.2658778,
          -6.720115,
          1.1175461,
          1.590279,
          -4.077704,
          3.027444,
          -1.5842234,
          0.2904147,
          3.3180401,
          -1.0986602,
          -2.4360147,
          -3.9655128,
          3.650805,
          -0.32613972,
          4.1804614,
          -1.5935802,
          -3.287467,
          -3.5010624,
          0.7151917,
          -2.9603071,
          -2.7704332,
          -2.139653,
          -2.5023181,
          3.6744065,
          5.3974457,
          2.6414654,
          3.2081647,
          2.9011269,
          -5.8864417,
          -1.9315054,
          -4.9687524,
          -5.73534,
          2.1078255,
          -3.2439215,
          -5.7772403,
          -3.076666,
          0.9658172,
          -3.6808767,
          1.290839,
          -2.3309007,
          -2.2224576,
          3.6681383,
          -1.5002496,
          2.386118,
          -3.674833,
          0.3024103,
          -3.6121974,
          2.2662594,
          1.0273483,
          -4.1938343,
          -1.3500859,
          1.8514986,
          5.765115,
          0.35811508,
          -5.3453283,
          2.142639,
          -3.4020176,
          4.3105254,
          4.149859,
          -0.9801091,
          -6.8347797,
          0.5441441,
          0.20469385,
          3.1031063,
          -4.301778,
          -5.5791683,
          -2.1832662,
          1.2091979,
          -2.1342206,
          2.2490609,
          3.7407823,
          -4.2353888,
          -9.886113,
          5.2890673,
          -1.1865224,
          0.1332347,
          4.9989805,
          0.029048821,
          0.34910887,
          -2.685167,
          5.592552,
          -5.298612,
          0.65979356,
          5.5833316,
          -3.554542,
          2.3746576,
          -0.24195911,
          -5.658757,
          -0.028464142,
          0.5195456,
          -2.233462,
          4.063198,
          -4.541602,
          -1.4618133,
          -3.10768,
          4.0508637,
          -1.9976279,
          3.1272418,
          -4.3988686,
          -1.3818395,
          -3.944359,
          -2.8587816,
          3.8866248,
          3.338992,
          -0.26961315,
          2.1331127,
          1.4091004,
          -0.45804766,
          -0.4717515,
          0.46595544,
          -1.4443215,
          -5.3314323,
          -3.000771,
          -2.6952946,
          4.663996,
          -6.2656326,
          -1.6950588,
          -5.525081,
          -2.1293325,
          -7.4632316,
          1.8709139,
          -3.5196426,
          7.859667,
          0.20530753,
          -1.4102819,
          -2.7821505,
          0.14583956,
          2.8423514,
          1.200137,
          4.04596,
          3.8363874,
          -0.80821157,
          -1.2158557,
          -1.7703865,
          -4.943141,
          1.6446797,
          3.0788708,
          -2.8361704,
          -1.2873131,
          -8.458298,
          3.6707337,
          -6.2584558,
          -0.7695337,
          -2.1664827,
          2.5328996,
          3.3564937,
          -0.7264926,
          1.1465213,
          1.9609268,
          4.8394914,
          -3.8639543,
          1.5972345,
          -2.965907,
          6.6523175,
          -2.0617716,
          2.8230972,
          3.6477075,
          -2.1207695,
          -3.5814335,
          2.8580065,
          11.100659,
          1.3603714,
          -2.1262312,
          -1.4975152,
          -1.1543413,
          -3.9608245,
          -1.1670914,
          1.7147691,
          0.6950274,
          -1.5222387,
          3.5241437,
          -2.0170238,
          -8.128109,
          -2.6531622,
          -5.5158286,
          0.98540366,
          -1.3823981,
          -3.36563,
          -2.5348725,
          0.7096338,
          1.7955109,
          5.42771,
          -7.454392,
          4.204806,
          0.9675889,
          -2.8627865,
          6.7452097,
          1.0635005,
          2.206159,
          4.2920284,
          2.4648447,
          -2.13736,
          5.0229754,
          3.6536384,
          4.5603304,
          -5.8638964,
          -1.3057522,
          -0.40319777,
          1.9961069,
          -2.1498828,
          0.24204524,
          -3.1290858,
          -2.1578627,
          -4.76798,
          -0.42592436,
          -6.8138146,
          2.5834944,
          1.5345855,
          -1.5059668,
          -4.9319196,
          0.6335068,
          3.5369027,
          -0.75240576,
          2.4690254,
          -0.669287,
          1.4389136,
          -5.312921,
          2.072721,
          -5.308104,
          -1.1336638,
          -0.92984295,
          -4.9318943,
          2.1287029,
          3.1180582,
          3.1199918,
          -5.8938384,
          0.36608362,
          -1.6650721,
          1.399277,
          -0.51772,
          -2.3196568,
          -3.358424,
          5.040915,
          -1.9427084,
          3.4081118,
          -3.4897892,
          2.6768906,
          7.1936264,
          -2.524583,
          -7.1396856,
          -5.686864,
          -7.3344846,
          -4.0526395,
          -1.8409346,
          3.176007,
          0.28797212,
          -5.5924735,
          -2.4362895,
          0.11751242,
          -4.2071657,
          -0.5290779,
          -1.47965,
          -4.3781624,
          -6.0483646,
          0.6821198,
          1.9143857,
          -0.7177854,
          -4.6231556,
          0.6036668,
          4.1304593,
          2.5623744,
          3.315696,
          -0.94613117,
          -3.323907,
          -0.009015568,
          -4.1454053,
          -3.916464,
          -2.4127617,
          3.9667428,
          -7.064658,
          -5.855748,
          4.9672728,
          -6.695903,
          -0.7833389,
          5.3585453,
          -3.4672945,
          -0.75157136,
          -3.4282851,
          -1.439464,
          2.3113475,
          -1.8523893,
          -5.634382,
          -5.236776,
          0.72112286,
          -4.585713,
          1.4405882,
          -1.5260687,
          -0.39833573,
          -1.9056646,
          -1.7797459,
          -1.8113441,
          4.1396437,
          3.0162852,
          -3.635216,
          -2.0246255,
          -0.75676805,
          0.87436116,
          -1.0126429,
          -1.1808419,
          1.2351007,
          2.3638546,
          4.674879,
          10.475402,
          2.046734,
          3.830597,
          2.437909,
          3.166151,
          -1.9890087,
          -4.6959853,
          1.954334,
          -4.794176,
          3.4479597,
          0.84608877,
          0.45154595,
          0.38722932,
          -5.6666327,
          -0.817077,
          -1.7459264,
          -2.9331098,
          0.1974603,
          -1.299202,
          3.61037,
          -1.4195194,
          4.070815,
          -5.517086,
          0.70242023,
          5.179051,
          1.3983618,
          4.814717,
          -0.9330695,
          -6.990396,
          -2.0257876,
          1.3411064,
          -0.47105092,
          -2.2203176,
          -0.16601205,
          -1.7840517,
          -0.26808664,
          3.6716197,
          -1.502354,
          -2.7762895,
          -0.8512137,
          -0.09850873,
          2.2211642,
          -1.8461393,
          -0.38503736,
          -5.164265,
          3.1521397,
          1.374998,
          -0.7022874,
          -2.2879014,
          -2.7106361,
          -0.43584812,
          2.7018113,
          1.5405947,
          1.0321642,
          0.30245107,
          -1.5853766,
          -6.837589,
          -0.9197019,
          -4.2446804,
          2.0690098,
          -1.5761007,
          -3.7508721,
          -2.4094298,
          0.6427099,
          -2.0810885,
          2.1193826,
          -1.4408444,
          -2.638972,
          -2.1966555,
          2.5941622,
          -6.6421847,
          -5.8240438,
          -1.411592,
          0.407685,
          -1.897717,
          0.24374129,
          0.11207896,
          -0.38051593,
          4.46077,
          -2.1887734,
          -3.5954132,
          -0.39808962,
          3.2140424,
          -1.2942299,
          2.4546778,
          -0.1372132,
          1.2112036,
          3.5841591,
          -1.4112177,
          -1.901789,
          -2.3362184,
          1.186133,
          -5.6550317,
          0.19862477,
          2.2606966,
          4.2672877,
          4.1679177,
          3.069438,
          -1.9847897,
          1.8453407,
          4.6259794,
          0.021011798,
          5.909958,
          5.2600875,
          1.9344391,
          1.1512715,
          -2.7896085,
          2.3116279,
          -4.272911,
          -3.2552106,
          -1.6584866,
          3.2323258,
          -1.4531308,
          0.68057626,
          -2.7626724,
          -0.5530257,
          3.3492446,
          -1.6426535,
          -5.9977016,
          2.7236228,
          -2.3014028,
          -1.4601818,
          5.940669,
          -3.7600513,
          -0.7487107,
          2.9720924,
          2.0287492,
          2.969516,
          3.4640644,
          1.9399904,
          4.082436,
          -2.9249427,
          -1.2986932,
          1.0589263,
          -6.418122,
          -5.286759,
          -1.1909013,
          -3.974934,
          -4.185437,
          -2.0376081,
          4.7101617,
          -4.8402905,
          0.83360875,
          -1.8051177,
          3.846398,
          -4.9558377,
          3.6730568,
          4.222502,
          -2.2690098,
          -1.8453966,
          -5.974337,
          0.42897102,
          -1.0611628,
          -2.601674,
          -2.7442942,
          -4.871198,
          -1.3814875,
          0.6902474,
          2.0291743,
          -2.0299938,
          2.792018,
          1.0973828,
          -2.6073852,
          0.63626724,
          0.4501426,
          -6.987297,
          -1.8753769,
          -2.857948,
          -1.7038085,
          7.172742,
          -1.4803237,
          -2.142874,
          1.4321165,
          2.0394557,
          -6.731092,
          -0.22633547,
          0.56186223,
          1.780506,
          -2.4052806,
          2.4293058,
          -4.6726065,
          2.7886,
          4.4367948,
          -4.4836874,
          2.843482,
          1.3435594,
          2.1906188,
          4.606937,
          -1.8336017,
          -0.41403407,
          4.331153,
          -1.0046442,
          -0.83861417,
          2.8369064,
          2.8463645,
          3.1462193,
          10.133746,
          1.8585881,
          -6.7135015,
          -2.284068,
          6.7204976,
          1.4851857,
          -2.1384768,
          -0.9239583,
          -0.4191701,
          -7.7035894,
          3.008126,
          -4.302421,
          -2.3526406,
          -2.338169,
          -3.1063733,
          1.6441991,
          -2.3165364,
          -4.035054,
          -5.847835,
          -0.4654561,
          4.052309,
          2.756495,
          -1.8532698,
          -4.0591063,
          -5.1273484,
          -0.9364042,
          3.38531,
          -3.8510027,
          2.5557618,
          -0.77217615,
          2.785362,
          0.3165318,
          -6.1042857,
          -7.3989787,
          -0.5644475,
          -4.684376,
          0.23184955,
          -1.0992489,
          -0.63997734,
          -0.5522549,
          -3.5532558,
          -2.6852124,
          1.9559337,
          -0.5670235,
          -0.7094162,
          -2.4619377,
          0.73871684,
          1.7362916,
          9.986384,
          -2.6415453,
          0.5265393,
          2.1327193,
          -7.5838914,
          -0.5216554,
          -2.774593,
          -2.4891949,
          2.250099,
          -2.6803257,
          -6.210587,
          -0.043677848,
          -4.5129976,
          -0.34616417,
          0.9252652,
          -3.2194326,
          4.9340944,
          -0.258073,
          0.43465865,
          4.345843,
          2.4397008,
          1.4468247,
          1.2614452,
          4.430816,
          4.012497,
          -5.66489,
          -1.6457653,
          2.547785,
          1.9387968,
          4.734706,
          0.14587742,
          -0.84445286,
          -5.5203757,
          -1.169312,
          -2.580056,
          6.3879895,
          3.589706,
          5.119475,
          2.708086,
          -3.551188,
          -2.2559252,
          -1.0227154,
          4.0091896,
          -6.786532,
          -1.2705901,
          7.7325315,
          1.7081716,
          3.9116864,
          4.3844023,
          0.6747554,
          2.5828326,
          0.6614503,
          -1.0777676,
          0.60717636,
          -9.347392,
          3.5219448,
          0.9327947,
          1.285786,
          -0.2968652,
          -2.2365394,
          5.614805,
          -3.0427315,
          0.8074072,
          0.5723042,
          2.9675608,
          -5.135687,
          -2.7245755,
          2.9814346,
          0.5452663,
          0.75783443,
          4.0433607,
          -3.068957,
          -3.6599486,
          2.6891842,
          6.2207537,
          -3.6461983,
          -3.1629891,
          0.70041454,
          -0.5600375,
          -1.8606861,
          -10.474009,
          -3.7779057,
          -2.9156609,
          6.0973353,
          -10.959012,
          3.266308,
          0.8044958,
          -3.156333,
          3.9048707,
          -5.233228,
          0.69783705,
          1.0911261,
          4.1783566,
          -2.582179,
          -2.879877,
          -0.81284803,
          -3.6280541,
          -3.5182269,
          -1.0806439,
          0.67067534,
          -7.1179748,
          -4.9185824,
          4.1149106,
          2.913191,
          -0.7763123,
          2.8795831,
          2.695161,
          -2.7243605,
          1.0252078,
          -5.4862585,
          -3.7741644,
          -0.61209476,
          -1.4937185,
          -6.392532,
          -3.058521,
          2.887153,
          2.4153585,
          2.263774,
          7.4148884,
          0.12204665,
          3.3901448,
          -0.37267917,
          5.89724,
          -2.1261213,
          -0.9524027,
          6.0552645,
          3.2382953,
          4.4982643,
          2.8281755,
          4.8811927,
          2.0763443,
          2.805452,
          -3.036513,
          4.57123,
          -1.8221785,
          1.9826503,
          4.9846,
          -3.03948,
          -0.18976943,
          -1.4017828,
          0.23728871,
          -3.6964262,
          1.711185,
          -1.6078244,
          6.1987805,
          -0.008945959,
          -3.0602717,
          2.0939023,
          -2.6715722,
          -3.144531,
          -0.81337166,
          -3.6531258,
          -6.982096,
          2.4804697,
          -0.4996955,
          -0.84313726,
          2.6600025,
          3.7399921,
          -2.2840087,
          1.4642817,
          -0.19711189,
          -5.3096795,
          -2.38133,
          0.22887291,
          0.37303656,
          -4.0451236,
          -5.004846,
          -3.4746516,
          3.72546,
          -1.2699001,
          -1.1948546,
          3.9214962,
          -7.6838717,
          4.0244007,
          3.1611872,
          -6.375442,
          1.506494,
          5.3478107,
          -0.8331984,
          5.0235853,
          -0.18400913,
          -0.54842424,
          -0.3694236,
          4.832673,
          -1.8418914,
          1.4709594,
          -2.41218,
          -5.31205,
          1.1236496,
          1.9883051,
          3.2053714,
          1.8069798,
          1.1753736,
          2.4168282,
          -2.4046118,
          -2.170395,
          5.5005817,
          4.182736,
          1.8699014,
          -1.8121556,
          0.8136299,
          -3.6604974,
          2.1246994,
          -4.4090605,
          4.8528237,
          4.398196,
          -3.3792617,
          -0.9916099,
          -1.7450264,
          5.637863,
          3.6979623,
          -3.0533385,
          4.8576455,
          -7.1995206,
          -1.4538611,
          4.9323335,
          -0.51364386,
          0.67969006,
          5.3049755,
          -3.9951909,
          -1.2146918,
          0.4806419,
          0.0005577371,
          -5.080643,
          -3.5333512,
          -2.073124,
          5.716751,
          7.547649,
          -0.5723183,
          4.361789,
          3.500371,
          -1.9246347,
          3.7038782,
          -4.4023476,
          0.57823473,
          -4.6717305,
          2.9223082,
          -2.1663578,
          3.6470957,
          -0.21265897,
          -1.3249636,
          -1.5059654,
          4.2452846,
          -6.773702,
          -3.5588908,
          -2.7494547,
          2.8235092,
          -0.5646071,
          0.017326508,
          -1.5607185,
          -0.96816796,
          0.58911145,
          -1.8966969,
          3.9408188,
          1.2450491,
          0.6502522,
          1.0928072,
          2.076871,
          3.2978623,
          -4.706219,
          -0.37538683,
          3.446463,
          -0.8608665,
          2.220659,
          -1.6729552,
          1.1874529,
          1.6645757,
          -3.6182876,
          1.8607666,
          -0.69043654,
          -2.4796147,
          1.0778897,
          -4.605153,
          0.5568073,
          0.48945677,
          1.5124031,
          -2.2892349,
          -5.307789,
          -2.8867319,
          -2.4345937,
          -4.0756807,
          0.9839617,
          2.7426212,
          -5.113235,
          2.811262,
          0.6024336,
          2.2672482,
          -0.4086222,
          -3.3882108,
          3.5035992,
          0.022774091,
          -1.390246,
          -0.3569502,
          -1.8246124,
          3.9146152,
          -4.2406487,
          0.39091644,
          1.5321887,
          4.6097183,
          1.1347464,
          -1.0073044,
          -0.42842028,
          2.9671528,
          3.3753676,
          -3.5725808,
          1.7505212,
          -3.983426,
          -2.5716136,
          4.021158,
          -2.0384536,
          2.7844787,
          -5.8548837,
          2.039463,
          -2.457609,
          2.3009112,
          -1.5146352,
          -0.94951695,
          1.8289531,
          3.2889705,
          -5.741944,
          6.3409166,
          0.43868032,
          -0.08843562,
          -2.3076131,
          0.199197,
          -5.180004,
          2.877411,
          -7.6729975,
          -2.4501984,
          0.88310486,
          -0.9995209,
          6.090501,
          -2.5396385,
          -5.3127236,
          2.6185486,
          0.12149177,
          2.395925,
          1.4238768,
          -4.726802,
          -4.2949405,
          -2.506561,
          -5.420463,
          4.645265,
          -0.7179306,
          5.402317,
          -6.2336726,
          -3.829296,
          2.732666,
          -0.06338141,
          -4.3399973,
          -5.2429495,
          -2.605449,
          -4.210928,
          5.124153,
          4.1440387,
          -3.3039105,
          -1.6810741,
          1.5987351,
          4.7048907,
          3.7152658,
          -3.2343152,
          -2.0579693,
          -4.847539,
          -3.4987283,
          3.587914,
          -7.2373166,
          -3.2323596,
          -4.645771,
          3.5911705,
          3.2710097,
          5.9145947,
          1.7841791,
          3.8682497,
          1.8070033,
          -1.9041966,
          3.7992878,
          -2.478679,
          2.2824035,
          1.3467652,
          -0.67396075,
          1.0904025,
          -0.78421,
          1.7893022,
          0.3478985,
          -0.8749925,
          -4.4671154,
          0.4563571,
          1.3302413,
          1.9255925,
          1.1695894,
          3.162421,
          -4.3834634,
          0.28477725,
          -0.12806188,
          -8.113793,
          5.2090316,
          1.5491763,
          -5.3779583,
          2.5402288,
          1.9706777,
          1.3165965,
          2.1042123,
          -2.5708709,
          -2.2129734,
          -3.0641086,
          -0.19655326,
          -2.1247487,
          3.9888368,
          -4.1892686,
          1.9242191,
          -4.3059263,
          -2.4923663,
          1.6427182,
          0.6832626,
          0.2586859,
          0.252491,
          0.08365155,
          -3.330395,
          -4.5480986,
          0.7278359,
          -6.688413,
          -3.6552377,
          1.9846516,
          -6.6464705,
          -2.4030848,
          1.4012958,
          2.6709208,
          -6.2534895,
          2.978526,
          -2.1479847,
          -1.3585787,
          0.15002482,
          -0.93530416,
          -5.1644197,
          -5.575812,
          -6.7019196,
          -0.74204963,
          -1.6967155,
          1.0132759,
          -1.2180527,
          -1.8980157,
          4.2694383,
          -0.0972165,
          -0.54382724,
          -4.6904325,
          -7.6485343,
          -9.332109,
          -0.23515739,
          1.8290185,
          1.2536232,
          3.9682465,
          -1.6024213,
          3.2685525,
          -4.2868104,
          -1.3043667,
          0.76479816,
          5.112408,
          3.0454488,
          -2.6820917,
          1.2766645,
          5.483931,
          -4.0323806,
          -5.852844,
          -4.083074,
          3.4234428,
          1.9267428,
          -0.10792621,
          1.0330844,
          2.443694,
          -5.4052234,
          7.127602,
          -4.187105,
          0.4375915,
          -1.2384807,
          -3.9971714,
          4.121422,
          -6.224443,
          -2.1293075,
          4.4101954,
          -1.2573911,
          -3.8703728,
          4.2198176,
          -1.1913418,
          -2.5794907,
          4.442726,
          -4.5327015,
          0.6274837,
          -3.17346,
          -1.631083,
          -2.195207,
          -3.6492987,
          1.8229986,
          -4.059099,
          -1.3702903,
          -2.0004816,
          -0.6936349,
          4.1737046,
          1.1928822,
          -7.3976717,
          -1.246053,
          -2.1685476,
          1.1913571,
          -3.7499099,
          3.0141108,
          3.3653908,
          0.11482185,
          -2.4481874,
          2.0413961,
          -0.61134565,
          -2.379923,
          1.8164718,
          2.1424258,
          1.3145164,
          -1.9567214,
          3.634958,
          1.8218743,
          -2.8100405,
          -5.0710874,
          -1.6398522,
          -2.0399253,
          -1.2733644,
          -1.0116379,
          -1.4742429,
          5.480822,
          -3.0662858,
          -10.552954,
          6.452954,
          2.9479163,
          -0.30026802,
          3.1159694,
          -6.953128,
          -1.0673879,
          -6.257176,
          -0.1969493,
          0.102723315,
          0.8572503,
          -1.8188576,
          -0.18507932,
          -4.856889,
          -1.7603685,
          -0.1327504,
          -5.4134254,
          -1.7260908,
          -0.95691305,
          0.71159846,
          0.27705994,
          -4.3671894,
          -1.239902,
          -1.5185838,
          0.29570636,
          -5.469382,
          -3.4760523,
          -1.9550644,
          -4.997385,
          -7.7171164,
          3.5422204,
          0.39398372,
          0.20525786,
          -5.4653125,
          1.951045,
          -4.7990923,
          -0.47031054,
          -2.4923887,
          -5.494484,
          -5.726619,
          -0.21423484,
          -3.435144,
          -6.9654813
         ],
         "yaxis": "y"
        },
        {
         "hovertemplate": "label=seborrheic_keratosis<br>pc1=%{x}<br>pc2=%{y}<extra></extra>",
         "legendgroup": "seborrheic_keratosis",
         "marker": {
          "color": "#00cc96",
          "opacity": 0.8,
          "symbol": "circle"
         },
         "mode": "markers",
         "name": "seborrheic_keratosis",
         "showlegend": true,
         "type": "scattergl",
         "x": [
          -3.41226,
          -1.9132072,
          -1.0173949,
          9.017732,
          -0.3976038,
          3.381184,
          -3.7905984,
          4.6758294,
          -2.4864013,
          -4.719166,
          -3.2037055,
          -1.8036977,
          -4.5568438,
          16.484318,
          1.9092792,
          -2.0700257,
          -4.109834,
          -0.96448284,
          -4.4877896,
          -0.17680044,
          0.69928265,
          -2.784498,
          -3.0429094,
          -3.554905,
          -3.1755466,
          3.8654416,
          -3.0887957,
          0.12775117,
          -3.4812272,
          -3.255639,
          5.4659376,
          -4.0932465,
          -1.7901293,
          -0.40373504,
          -1.123421,
          -0.16449723,
          -3.7735949,
          -0.049618725,
          -3.8879535,
          4.4831953,
          3.52769,
          1.1355854,
          -1.299352,
          -3.880535,
          -1.8472211,
          -2.269456,
          0.29633215,
          0.40727398,
          -4.444433,
          -3.5919275,
          -3.851111,
          -2.1187365,
          2.3811834,
          -3.6101236,
          -3.737421,
          -1.296585,
          -3.8305273,
          2.5645967,
          0.18751037,
          -2.0854876,
          -0.9216736,
          -4.5137014,
          -3.0095341,
          0.4960587,
          -1.2253829,
          7.402343,
          21.292973,
          -0.50905824,
          4.400015,
          -0.65774584,
          0.08631107,
          -0.24831758,
          -4.068329,
          0.971254,
          -0.576307,
          0.67296195,
          0.14557882,
          0.18772233,
          10.435787,
          3.3865466,
          -2.4851742,
          0.6641536,
          2.0413888,
          3.0680184,
          -3.2060955,
          -0.32080588,
          -0.006261235,
          -4.3619823,
          -4.1071434,
          0.5481494,
          -2.3935342,
          0.2074023,
          0.44136488,
          -4.040934,
          -3.4478834,
          0.47160205,
          1.1509441,
          -1.9989272,
          -0.7822711,
          -2.725859,
          -3.0548387,
          -2.9258254,
          -1.794717,
          1.7566757,
          -1.1336714,
          -2.3912568,
          -2.6156917,
          -0.55316556,
          -3.2720842,
          -0.30121526,
          -0.6423354,
          -1.5677016,
          0.5234091,
          -2.404982,
          -1.3330578,
          -1.304776,
          3.150183,
          -2.1292706,
          -1.7979493,
          -4.551045,
          -3.297808,
          -2.368632,
          -1.8307908,
          -1.2932146,
          -0.1670271,
          -4.6303267,
          0.25073302,
          -3.0199027,
          -3.2440827,
          5.896377,
          -0.62243074,
          5.8001685,
          -2.1464324,
          -3.4445593,
          -3.080273,
          -0.28337964,
          6.63222,
          -2.2712536,
          -4.1496353,
          -3.6590893,
          -0.8321633,
          -0.079233766,
          -4.14537,
          -2.933983,
          -2.7801638,
          -4.2085495,
          -2.472139,
          -2.2955277,
          4.2548714,
          -0.2809149,
          -4.380165,
          -2.5460982,
          8.351785,
          9.156617,
          0.90036595,
          -2.358331,
          2.4779227,
          -1.5340246,
          11.22564,
          -2.9545212,
          -2.0011582,
          -3.3648891,
          -3.970169,
          1.2448844,
          0.23641677,
          8.877732,
          12.265467,
          -3.45143,
          4.781151,
          -0.30558574,
          5.619048,
          5.0877714,
          2.3436296,
          2.6432943,
          -0.6590573,
          0.94036674,
          -1.8836809,
          -3.8708665,
          1.324946,
          -0.74389505,
          -1.5532128,
          -3.2835727,
          -0.2943408,
          -3.9938037,
          -1.7578589,
          -1.6896689,
          1.2860105,
          -4.3728905,
          -1.5699034,
          -2.576967,
          -1.3585197,
          5.3019423,
          3.631716,
          -2.6649983,
          -2.6690958,
          -0.23971812,
          -2.69623,
          -2.7661328,
          -0.57553834,
          -0.55645454,
          -4.196091,
          -4.005151,
          -3.787442,
          -2.4963183,
          0.91616195,
          -2.8109481,
          -0.851238,
          -2.3391607,
          -2.6068895,
          -3.328409,
          1.6895188,
          -1.5836339,
          -3.2695951,
          -3.3071876,
          -4.054881,
          -0.28434864,
          2.6264198,
          0.20689234,
          -3.3066168,
          -2.8662386,
          -3.3842137,
          -2.12641,
          7.685982,
          14.121183,
          -0.8331072,
          -4.4564567,
          -3.881851,
          -4.4852734,
          4.725365,
          1.6706077,
          -1.314243,
          -4.3794556,
          -2.1819766,
          9.062463,
          1.6951667,
          -2.929578,
          0.22109987,
          -3.8517518,
          -2.6457634,
          3.2483041,
          11.328803,
          -3.5822663,
          4.461803,
          1.0156745,
          4.3491635,
          3.6766617,
          -0.55409074,
          -1.5606157,
          -3.8890393,
          -3.5368783,
          8.043047,
          -1.5822954,
          -1.5557623,
          -2.376947
         ],
         "xaxis": "x",
         "y": [
          0.73025423,
          1.3123018,
          -4.3740625,
          5.4506445,
          4.1996856,
          4.4507127,
          -5.751972,
          4.680697,
          -0.3870715,
          0.642167,
          2.9375,
          -0.9293746,
          2.558577,
          4.2797856,
          2.4446664,
          5.869097,
          2.7174885,
          4.204646,
          1.9736508,
          5.9845166,
          5.4447455,
          -0.3463334,
          -2.146184,
          -1.2381505,
          2.9352818,
          4.4022346,
          -2.0350773,
          5.082916,
          1.8425499,
          -2.1378388,
          7.60983,
          -3.9776134,
          -0.3233941,
          4.195977,
          -2.095546,
          -1.9457666,
          -1.1200728,
          2.296759,
          0.3353509,
          2.1156976,
          -1.4661976,
          1.7861317,
          3.7369332,
          -3.3036282,
          4.9204125,
          4.706242,
          4.0716577,
          -2.4712458,
          2.0847495,
          -0.09926076,
          -3.9897068,
          -7.720315,
          3.2641063,
          3.0362515,
          2.6794758,
          3.7883296,
          -5.064458,
          -0.9432156,
          -3.2023096,
          5.0285783,
          -3.891593,
          -0.012308797,
          3.5582156,
          -2.4226084,
          -1.6277785,
          -0.19631208,
          -4.8797793,
          5.770554,
          -1.2388712,
          5.8962636,
          4.9276505,
          6.3141828,
          3.26997,
          4.6427784,
          -2.940914,
          -3.8241804,
          -0.50027204,
          6.0027795,
          4.289407,
          5.3739905,
          5.1649003,
          -3.2150073,
          -3.3269002,
          -5.606074,
          2.3688388,
          2.970592,
          0.88837373,
          -0.7560519,
          -0.8367502,
          6.2726717,
          -0.8559344,
          -4.111926,
          -3.7359865,
          -1.0633826,
          -4.8825293,
          5.979073,
          -3.4149647,
          -1.0681368,
          1.6781545,
          5.0572815,
          4.111263,
          -3.3060262,
          0.50558996,
          -3.8141067,
          -3.3080695,
          2.0109708,
          4.048484,
          1.7116474,
          0.7518219,
          -2.5852742,
          -1.8520561,
          6.0392013,
          4.6652284,
          3.8716896,
          0.54640985,
          -4.7726836,
          -1.4755366,
          5.0350432,
          -1.7493647,
          1.3186321,
          1.3385046,
          -1.6720085,
          2.1135302,
          5.2876277,
          5.4338574,
          -0.7056766,
          3.1701434,
          3.6809378,
          4.3365693,
          9.087433,
          -3.2567093,
          0.78276324,
          -1.3084046,
          4.9860826,
          2.495322,
          6.1294513,
          3.9726446,
          -0.9159992,
          0.7273957,
          -1.3221556,
          -1.9062519,
          5.664752,
          -0.63078773,
          -1.176919,
          -7.7242985,
          -4.2842216,
          -4.559462,
          3.9998386,
          -4.95895,
          -2.7705889,
          -1.3653069,
          -2.6837697,
          -0.14810567,
          2.7736936,
          -1.3204157,
          -0.35261843,
          3.4797883,
          4.889607,
          -7.059873,
          3.589345,
          -5.1870766,
          -4.2163243,
          -3.758572,
          -2.3934302,
          2.3200572,
          1.379567,
          6.731025,
          -2.2599187,
          0.32788366,
          -2.485515,
          -2.8054583,
          3.8928483,
          -4.5543933,
          -3.5552433,
          -1.5509382,
          -5.606093,
          3.1916358,
          -2.0883794,
          6.496238,
          5.4071336,
          -1.1870961,
          3.9451673,
          0.7924918,
          -0.15893184,
          4.207004,
          -1.2661407,
          -2.0204852,
          0.8673169,
          2.0146737,
          4.420485,
          -2.2002664,
          1.6853522,
          -2.5553875,
          -2.3129396,
          4.8416557,
          -0.19720006,
          -3.362242,
          5.055102,
          1.023018,
          4.84406,
          3.545233,
          2.6696298,
          -1.4897474,
          2.0311866,
          2.5793355,
          -6.5790873,
          0.16872078,
          4.086263,
          4.48942,
          2.2642384,
          3.2412271,
          2.0755847,
          1.5459054,
          3.8126948,
          3.7874002,
          3.255361,
          2.3207774,
          -0.6584323,
          -0.55501306,
          0.13800012,
          3.6180837,
          2.3631132,
          9.485757,
          6.4188075,
          4.8982983,
          -4.0942287,
          1.6776375,
          2.362975,
          4.9637566,
          2.42353,
          0.4245568,
          0.11013163,
          2.1344802,
          7.00027,
          2.3156672,
          2.8454108,
          5.721478,
          -2.4667249,
          4.5289407,
          -4.3463817,
          6.057702,
          4.364678,
          6.260426,
          0.09542062,
          4.008383,
          1.2181978,
          4.6689916,
          2.7407959,
          2.8803241,
          0.9477105,
          0.9507461,
          2.9885418,
          -6.083884,
          4.350331
         ],
         "yaxis": "y"
        }
       ],
       "layout": {
        "legend": {
         "title": {
          "text": "label"
         },
         "tracegroupgap": 0
        },
        "template": {
         "data": {
          "bar": [
           {
            "error_x": {
             "color": "#2a3f5f"
            },
            "error_y": {
             "color": "#2a3f5f"
            },
            "marker": {
             "line": {
              "color": "#E5ECF6",
              "width": 0.5
             },
             "pattern": {
              "fillmode": "overlay",
              "size": 10,
              "solidity": 0.2
             }
            },
            "type": "bar"
           }
          ],
          "barpolar": [
           {
            "marker": {
             "line": {
              "color": "#E5ECF6",
              "width": 0.5
             },
             "pattern": {
              "fillmode": "overlay",
              "size": 10,
              "solidity": 0.2
             }
            },
            "type": "barpolar"
           }
          ],
          "carpet": [
           {
            "aaxis": {
             "endlinecolor": "#2a3f5f",
             "gridcolor": "white",
             "linecolor": "white",
             "minorgridcolor": "white",
             "startlinecolor": "#2a3f5f"
            },
            "baxis": {
             "endlinecolor": "#2a3f5f",
             "gridcolor": "white",
             "linecolor": "white",
             "minorgridcolor": "white",
             "startlinecolor": "#2a3f5f"
            },
            "type": "carpet"
           }
          ],
          "choropleth": [
           {
            "colorbar": {
             "outlinewidth": 0,
             "ticks": ""
            },
            "type": "choropleth"
           }
          ],
          "contour": [
           {
            "colorbar": {
             "outlinewidth": 0,
             "ticks": ""
            },
            "colorscale": [
             [
              0,
              "#0d0887"
             ],
             [
              0.1111111111111111,
              "#46039f"
             ],
             [
              0.2222222222222222,
              "#7201a8"
             ],
             [
              0.3333333333333333,
              "#9c179e"
             ],
             [
              0.4444444444444444,
              "#bd3786"
             ],
             [
              0.5555555555555556,
              "#d8576b"
             ],
             [
              0.6666666666666666,
              "#ed7953"
             ],
             [
              0.7777777777777778,
              "#fb9f3a"
             ],
             [
              0.8888888888888888,
              "#fdca26"
             ],
             [
              1,
              "#f0f921"
             ]
            ],
            "type": "contour"
           }
          ],
          "contourcarpet": [
           {
            "colorbar": {
             "outlinewidth": 0,
             "ticks": ""
            },
            "type": "contourcarpet"
           }
          ],
          "heatmap": [
           {
            "colorbar": {
             "outlinewidth": 0,
             "ticks": ""
            },
            "colorscale": [
             [
              0,
              "#0d0887"
             ],
             [
              0.1111111111111111,
              "#46039f"
             ],
             [
              0.2222222222222222,
              "#7201a8"
             ],
             [
              0.3333333333333333,
              "#9c179e"
             ],
             [
              0.4444444444444444,
              "#bd3786"
             ],
             [
              0.5555555555555556,
              "#d8576b"
             ],
             [
              0.6666666666666666,
              "#ed7953"
             ],
             [
              0.7777777777777778,
              "#fb9f3a"
             ],
             [
              0.8888888888888888,
              "#fdca26"
             ],
             [
              1,
              "#f0f921"
             ]
            ],
            "type": "heatmap"
           }
          ],
          "heatmapgl": [
           {
            "colorbar": {
             "outlinewidth": 0,
             "ticks": ""
            },
            "colorscale": [
             [
              0,
              "#0d0887"
             ],
             [
              0.1111111111111111,
              "#46039f"
             ],
             [
              0.2222222222222222,
              "#7201a8"
             ],
             [
              0.3333333333333333,
              "#9c179e"
             ],
             [
              0.4444444444444444,
              "#bd3786"
             ],
             [
              0.5555555555555556,
              "#d8576b"
             ],
             [
              0.6666666666666666,
              "#ed7953"
             ],
             [
              0.7777777777777778,
              "#fb9f3a"
             ],
             [
              0.8888888888888888,
              "#fdca26"
             ],
             [
              1,
              "#f0f921"
             ]
            ],
            "type": "heatmapgl"
           }
          ],
          "histogram": [
           {
            "marker": {
             "pattern": {
              "fillmode": "overlay",
              "size": 10,
              "solidity": 0.2
             }
            },
            "type": "histogram"
           }
          ],
          "histogram2d": [
           {
            "colorbar": {
             "outlinewidth": 0,
             "ticks": ""
            },
            "colorscale": [
             [
              0,
              "#0d0887"
             ],
             [
              0.1111111111111111,
              "#46039f"
             ],
             [
              0.2222222222222222,
              "#7201a8"
             ],
             [
              0.3333333333333333,
              "#9c179e"
             ],
             [
              0.4444444444444444,
              "#bd3786"
             ],
             [
              0.5555555555555556,
              "#d8576b"
             ],
             [
              0.6666666666666666,
              "#ed7953"
             ],
             [
              0.7777777777777778,
              "#fb9f3a"
             ],
             [
              0.8888888888888888,
              "#fdca26"
             ],
             [
              1,
              "#f0f921"
             ]
            ],
            "type": "histogram2d"
           }
          ],
          "histogram2dcontour": [
           {
            "colorbar": {
             "outlinewidth": 0,
             "ticks": ""
            },
            "colorscale": [
             [
              0,
              "#0d0887"
             ],
             [
              0.1111111111111111,
              "#46039f"
             ],
             [
              0.2222222222222222,
              "#7201a8"
             ],
             [
              0.3333333333333333,
              "#9c179e"
             ],
             [
              0.4444444444444444,
              "#bd3786"
             ],
             [
              0.5555555555555556,
              "#d8576b"
             ],
             [
              0.6666666666666666,
              "#ed7953"
             ],
             [
              0.7777777777777778,
              "#fb9f3a"
             ],
             [
              0.8888888888888888,
              "#fdca26"
             ],
             [
              1,
              "#f0f921"
             ]
            ],
            "type": "histogram2dcontour"
           }
          ],
          "mesh3d": [
           {
            "colorbar": {
             "outlinewidth": 0,
             "ticks": ""
            },
            "type": "mesh3d"
           }
          ],
          "parcoords": [
           {
            "line": {
             "colorbar": {
              "outlinewidth": 0,
              "ticks": ""
             }
            },
            "type": "parcoords"
           }
          ],
          "pie": [
           {
            "automargin": true,
            "type": "pie"
           }
          ],
          "scatter": [
           {
            "fillpattern": {
             "fillmode": "overlay",
             "size": 10,
             "solidity": 0.2
            },
            "type": "scatter"
           }
          ],
          "scatter3d": [
           {
            "line": {
             "colorbar": {
              "outlinewidth": 0,
              "ticks": ""
             }
            },
            "marker": {
             "colorbar": {
              "outlinewidth": 0,
              "ticks": ""
             }
            },
            "type": "scatter3d"
           }
          ],
          "scattercarpet": [
           {
            "marker": {
             "colorbar": {
              "outlinewidth": 0,
              "ticks": ""
             }
            },
            "type": "scattercarpet"
           }
          ],
          "scattergeo": [
           {
            "marker": {
             "colorbar": {
              "outlinewidth": 0,
              "ticks": ""
             }
            },
            "type": "scattergeo"
           }
          ],
          "scattergl": [
           {
            "marker": {
             "colorbar": {
              "outlinewidth": 0,
              "ticks": ""
             }
            },
            "type": "scattergl"
           }
          ],
          "scattermapbox": [
           {
            "marker": {
             "colorbar": {
              "outlinewidth": 0,
              "ticks": ""
             }
            },
            "type": "scattermapbox"
           }
          ],
          "scatterpolar": [
           {
            "marker": {
             "colorbar": {
              "outlinewidth": 0,
              "ticks": ""
             }
            },
            "type": "scatterpolar"
           }
          ],
          "scatterpolargl": [
           {
            "marker": {
             "colorbar": {
              "outlinewidth": 0,
              "ticks": ""
             }
            },
            "type": "scatterpolargl"
           }
          ],
          "scatterternary": [
           {
            "marker": {
             "colorbar": {
              "outlinewidth": 0,
              "ticks": ""
             }
            },
            "type": "scatterternary"
           }
          ],
          "surface": [
           {
            "colorbar": {
             "outlinewidth": 0,
             "ticks": ""
            },
            "colorscale": [
             [
              0,
              "#0d0887"
             ],
             [
              0.1111111111111111,
              "#46039f"
             ],
             [
              0.2222222222222222,
              "#7201a8"
             ],
             [
              0.3333333333333333,
              "#9c179e"
             ],
             [
              0.4444444444444444,
              "#bd3786"
             ],
             [
              0.5555555555555556,
              "#d8576b"
             ],
             [
              0.6666666666666666,
              "#ed7953"
             ],
             [
              0.7777777777777778,
              "#fb9f3a"
             ],
             [
              0.8888888888888888,
              "#fdca26"
             ],
             [
              1,
              "#f0f921"
             ]
            ],
            "type": "surface"
           }
          ],
          "table": [
           {
            "cells": {
             "fill": {
              "color": "#EBF0F8"
             },
             "line": {
              "color": "white"
             }
            },
            "header": {
             "fill": {
              "color": "#C8D4E3"
             },
             "line": {
              "color": "white"
             }
            },
            "type": "table"
           }
          ]
         },
         "layout": {
          "annotationdefaults": {
           "arrowcolor": "#2a3f5f",
           "arrowhead": 0,
           "arrowwidth": 1
          },
          "autotypenumbers": "strict",
          "coloraxis": {
           "colorbar": {
            "outlinewidth": 0,
            "ticks": ""
           }
          },
          "colorscale": {
           "diverging": [
            [
             0,
             "#8e0152"
            ],
            [
             0.1,
             "#c51b7d"
            ],
            [
             0.2,
             "#de77ae"
            ],
            [
             0.3,
             "#f1b6da"
            ],
            [
             0.4,
             "#fde0ef"
            ],
            [
             0.5,
             "#f7f7f7"
            ],
            [
             0.6,
             "#e6f5d0"
            ],
            [
             0.7,
             "#b8e186"
            ],
            [
             0.8,
             "#7fbc41"
            ],
            [
             0.9,
             "#4d9221"
            ],
            [
             1,
             "#276419"
            ]
           ],
           "sequential": [
            [
             0,
             "#0d0887"
            ],
            [
             0.1111111111111111,
             "#46039f"
            ],
            [
             0.2222222222222222,
             "#7201a8"
            ],
            [
             0.3333333333333333,
             "#9c179e"
            ],
            [
             0.4444444444444444,
             "#bd3786"
            ],
            [
             0.5555555555555556,
             "#d8576b"
            ],
            [
             0.6666666666666666,
             "#ed7953"
            ],
            [
             0.7777777777777778,
             "#fb9f3a"
            ],
            [
             0.8888888888888888,
             "#fdca26"
            ],
            [
             1,
             "#f0f921"
            ]
           ],
           "sequentialminus": [
            [
             0,
             "#0d0887"
            ],
            [
             0.1111111111111111,
             "#46039f"
            ],
            [
             0.2222222222222222,
             "#7201a8"
            ],
            [
             0.3333333333333333,
             "#9c179e"
            ],
            [
             0.4444444444444444,
             "#bd3786"
            ],
            [
             0.5555555555555556,
             "#d8576b"
            ],
            [
             0.6666666666666666,
             "#ed7953"
            ],
            [
             0.7777777777777778,
             "#fb9f3a"
            ],
            [
             0.8888888888888888,
             "#fdca26"
            ],
            [
             1,
             "#f0f921"
            ]
           ]
          },
          "colorway": [
           "#636efa",
           "#EF553B",
           "#00cc96",
           "#ab63fa",
           "#FFA15A",
           "#19d3f3",
           "#FF6692",
           "#B6E880",
           "#FF97FF",
           "#FECB52"
          ],
          "font": {
           "color": "#2a3f5f"
          },
          "geo": {
           "bgcolor": "white",
           "lakecolor": "white",
           "landcolor": "#E5ECF6",
           "showlakes": true,
           "showland": true,
           "subunitcolor": "white"
          },
          "hoverlabel": {
           "align": "left"
          },
          "hovermode": "closest",
          "mapbox": {
           "style": "light"
          },
          "paper_bgcolor": "white",
          "plot_bgcolor": "#E5ECF6",
          "polar": {
           "angularaxis": {
            "gridcolor": "white",
            "linecolor": "white",
            "ticks": ""
           },
           "bgcolor": "#E5ECF6",
           "radialaxis": {
            "gridcolor": "white",
            "linecolor": "white",
            "ticks": ""
           }
          },
          "scene": {
           "xaxis": {
            "backgroundcolor": "#E5ECF6",
            "gridcolor": "white",
            "gridwidth": 2,
            "linecolor": "white",
            "showbackground": true,
            "ticks": "",
            "zerolinecolor": "white"
           },
           "yaxis": {
            "backgroundcolor": "#E5ECF6",
            "gridcolor": "white",
            "gridwidth": 2,
            "linecolor": "white",
            "showbackground": true,
            "ticks": "",
            "zerolinecolor": "white"
           },
           "zaxis": {
            "backgroundcolor": "#E5ECF6",
            "gridcolor": "white",
            "gridwidth": 2,
            "linecolor": "white",
            "showbackground": true,
            "ticks": "",
            "zerolinecolor": "white"
           }
          },
          "shapedefaults": {
           "line": {
            "color": "#2a3f5f"
           }
          },
          "ternary": {
           "aaxis": {
            "gridcolor": "white",
            "linecolor": "white",
            "ticks": ""
           },
           "baxis": {
            "gridcolor": "white",
            "linecolor": "white",
            "ticks": ""
           },
           "bgcolor": "#E5ECF6",
           "caxis": {
            "gridcolor": "white",
            "linecolor": "white",
            "ticks": ""
           }
          },
          "title": {
           "x": 0.05
          },
          "xaxis": {
           "automargin": true,
           "gridcolor": "white",
           "linecolor": "white",
           "ticks": "",
           "title": {
            "standoff": 15
           },
           "zerolinecolor": "white",
           "zerolinewidth": 2
          },
          "yaxis": {
           "automargin": true,
           "gridcolor": "white",
           "linecolor": "white",
           "ticks": "",
           "title": {
            "standoff": 15
           },
           "zerolinecolor": "white",
           "zerolinewidth": 2
          }
         }
        },
        "title": {
         "text": "PCA of Image Features — Train (sampled)"
        },
        "xaxis": {
         "anchor": "y",
         "domain": [
          0,
          1
         ],
         "title": {
          "text": "PC1"
         }
        },
        "yaxis": {
         "anchor": "x",
         "domain": [
          0,
          1
         ],
         "title": {
          "text": "PC2"
         }
        }
       }
      }
     },
     "metadata": {},
     "output_type": "display_data"
    }
   ],
   "source": [
    "def plot_pca(df: pd.DataFrame, title: str, max_points=3000):\n",
    "    \n",
    "    if len(df) > max_points:\n",
    "        df = df.sample(max_points, random_state=42)\n",
    "\n",
    "    X = df.drop(columns=[\"label\"]).to_numpy(dtype=np.float32)\n",
    "    y = df[\"label\"].to_numpy()\n",
    "\n",
    "    X = StandardScaler().fit_transform(X)\n",
    "    X2 = PCA(n_components=2, random_state=42).fit_transform(X)\n",
    "    out = pd.DataFrame({\"pc1\": X2[:,0], \"pc2\": X2[:,1], \"label\": y})\n",
    "\n",
    "    fig = px.scatter(out, x=\"pc1\", y=\"pc2\", color=\"label\", title=title, opacity=0.8)\n",
    "    fig.update_layout(xaxis_title=\"PC1\", yaxis_title=\"PC2\")\n",
    "    fig.show()\n",
    "\n",
    "plot_pca(df_train, \"PCA of Image Features — Train (sampled)\")"
   ]
  },
  {
   "cell_type": "code",
   "execution_count": 15,
   "id": "90715823",
   "metadata": {},
   "outputs": [
    {
     "data": {
      "text/html": [
       "<div>\n",
       "<style scoped>\n",
       "    .dataframe tbody tr th:only-of-type {\n",
       "        vertical-align: middle;\n",
       "    }\n",
       "\n",
       "    .dataframe tbody tr th {\n",
       "        vertical-align: top;\n",
       "    }\n",
       "\n",
       "    .dataframe thead th {\n",
       "        text-align: right;\n",
       "    }\n",
       "</style>\n",
       "<table border=\"1\" class=\"dataframe\">\n",
       "  <thead>\n",
       "    <tr style=\"text-align: right;\">\n",
       "      <th></th>\n",
       "      <th>precision</th>\n",
       "      <th>recall</th>\n",
       "      <th>f1-score</th>\n",
       "      <th>support</th>\n",
       "    </tr>\n",
       "  </thead>\n",
       "  <tbody>\n",
       "    <tr>\n",
       "      <th>melanoma</th>\n",
       "      <td>0.500</td>\n",
       "      <td>0.133</td>\n",
       "      <td>0.211</td>\n",
       "      <td>30.000</td>\n",
       "    </tr>\n",
       "    <tr>\n",
       "      <th>nevus</th>\n",
       "      <td>0.546</td>\n",
       "      <td>0.910</td>\n",
       "      <td>0.683</td>\n",
       "      <td>78.000</td>\n",
       "    </tr>\n",
       "    <tr>\n",
       "      <th>seborrheic_keratosis</th>\n",
       "      <td>0.333</td>\n",
       "      <td>0.095</td>\n",
       "      <td>0.148</td>\n",
       "      <td>42.000</td>\n",
       "    </tr>\n",
       "    <tr>\n",
       "      <th>accuracy</th>\n",
       "      <td>0.527</td>\n",
       "      <td>0.527</td>\n",
       "      <td>0.527</td>\n",
       "      <td>0.527</td>\n",
       "    </tr>\n",
       "    <tr>\n",
       "      <th>macro avg</th>\n",
       "      <td>0.460</td>\n",
       "      <td>0.380</td>\n",
       "      <td>0.347</td>\n",
       "      <td>150.000</td>\n",
       "    </tr>\n",
       "    <tr>\n",
       "      <th>weighted avg</th>\n",
       "      <td>0.477</td>\n",
       "      <td>0.527</td>\n",
       "      <td>0.439</td>\n",
       "      <td>150.000</td>\n",
       "    </tr>\n",
       "  </tbody>\n",
       "</table>\n",
       "</div>"
      ],
      "text/plain": [
       "                      precision  recall  f1-score  support\n",
       "melanoma                  0.500   0.133     0.211   30.000\n",
       "nevus                     0.546   0.910     0.683   78.000\n",
       "seborrheic_keratosis      0.333   0.095     0.148   42.000\n",
       "accuracy                  0.527   0.527     0.527    0.527\n",
       "macro avg                 0.460   0.380     0.347  150.000\n",
       "weighted avg              0.477   0.527     0.439  150.000"
      ]
     },
     "execution_count": 15,
     "metadata": {},
     "output_type": "execute_result"
    }
   ],
   "source": [
    "def train_evaluate_baseline(df_train: pd.DataFrame, df_val: pd.DataFrame):\n",
    "    X_train = df_train.drop(columns=[\"label\"]).to_numpy(dtype=np.float32)\n",
    "    y_train = df_train[\"label\"].to_numpy()\n",
    "    X_val   = df_val.drop(columns=[\"label\"]).to_numpy(dtype=np.float32)\n",
    "    y_val   = df_val[\"label\"].to_numpy()\n",
    "\n",
    "    scaler = StandardScaler().fit(X_train)\n",
    "    X_train_s = scaler.transform(X_train)\n",
    "    X_val_s   = scaler.transform(X_val)\n",
    "\n",
    "    clf = LogisticRegression(max_iter=300, n_jobs=-1)\n",
    "    clf.fit(X_train_s, y_train)\n",
    "    y_pred = clf.predict(X_val_s)\n",
    "    report = classification_report(y_val, y_pred, output_dict=True)\n",
    "    cm = confusion_matrix(y_val, y_pred, labels=clf.classes_)\n",
    "    return clf, scaler, report, cm, clf.classes_\n",
    "\n",
    "clf, scaler, report, cm, classes = train_evaluate_baseline(df_train, df_valid)\n",
    "pd.DataFrame(report).transpose().round(3)"
   ]
  },
  {
   "cell_type": "code",
   "execution_count": 16,
   "id": "9f56fc61",
   "metadata": {},
   "outputs": [
    {
     "data": {
      "application/vnd.plotly.v1+json": {
       "config": {
        "plotlyServerURL": "https://plot.ly"
       },
       "data": [
        {
         "colorscale": [
          [
           0,
           "#440154"
          ],
          [
           0.1111111111111111,
           "#482878"
          ],
          [
           0.2222222222222222,
           "#3e4989"
          ],
          [
           0.3333333333333333,
           "#31688e"
          ],
          [
           0.4444444444444444,
           "#26828e"
          ],
          [
           0.5555555555555556,
           "#1f9e89"
          ],
          [
           0.6666666666666666,
           "#35b779"
          ],
          [
           0.7777777777777778,
           "#6ece58"
          ],
          [
           0.8888888888888888,
           "#b5de2b"
          ],
          [
           1,
           "#fde725"
          ]
         ],
         "hovertemplate": "Pred: %{x}<br>True: %{y}<br>Count: %{z}<extra></extra>",
         "type": "heatmap",
         "x": [
          "melanoma",
          "nevus",
          "seborrheic_keratosis"
         ],
         "y": [
          "melanoma",
          "nevus",
          "seborrheic_keratosis"
         ],
         "z": [
          [
           4,
           22,
           4
          ],
          [
           3,
           71,
           4
          ],
          [
           1,
           37,
           4
          ]
         ]
        }
       ],
       "layout": {
        "template": {
         "data": {
          "bar": [
           {
            "error_x": {
             "color": "#2a3f5f"
            },
            "error_y": {
             "color": "#2a3f5f"
            },
            "marker": {
             "line": {
              "color": "#E5ECF6",
              "width": 0.5
             },
             "pattern": {
              "fillmode": "overlay",
              "size": 10,
              "solidity": 0.2
             }
            },
            "type": "bar"
           }
          ],
          "barpolar": [
           {
            "marker": {
             "line": {
              "color": "#E5ECF6",
              "width": 0.5
             },
             "pattern": {
              "fillmode": "overlay",
              "size": 10,
              "solidity": 0.2
             }
            },
            "type": "barpolar"
           }
          ],
          "carpet": [
           {
            "aaxis": {
             "endlinecolor": "#2a3f5f",
             "gridcolor": "white",
             "linecolor": "white",
             "minorgridcolor": "white",
             "startlinecolor": "#2a3f5f"
            },
            "baxis": {
             "endlinecolor": "#2a3f5f",
             "gridcolor": "white",
             "linecolor": "white",
             "minorgridcolor": "white",
             "startlinecolor": "#2a3f5f"
            },
            "type": "carpet"
           }
          ],
          "choropleth": [
           {
            "colorbar": {
             "outlinewidth": 0,
             "ticks": ""
            },
            "type": "choropleth"
           }
          ],
          "contour": [
           {
            "colorbar": {
             "outlinewidth": 0,
             "ticks": ""
            },
            "colorscale": [
             [
              0,
              "#0d0887"
             ],
             [
              0.1111111111111111,
              "#46039f"
             ],
             [
              0.2222222222222222,
              "#7201a8"
             ],
             [
              0.3333333333333333,
              "#9c179e"
             ],
             [
              0.4444444444444444,
              "#bd3786"
             ],
             [
              0.5555555555555556,
              "#d8576b"
             ],
             [
              0.6666666666666666,
              "#ed7953"
             ],
             [
              0.7777777777777778,
              "#fb9f3a"
             ],
             [
              0.8888888888888888,
              "#fdca26"
             ],
             [
              1,
              "#f0f921"
             ]
            ],
            "type": "contour"
           }
          ],
          "contourcarpet": [
           {
            "colorbar": {
             "outlinewidth": 0,
             "ticks": ""
            },
            "type": "contourcarpet"
           }
          ],
          "heatmap": [
           {
            "colorbar": {
             "outlinewidth": 0,
             "ticks": ""
            },
            "colorscale": [
             [
              0,
              "#0d0887"
             ],
             [
              0.1111111111111111,
              "#46039f"
             ],
             [
              0.2222222222222222,
              "#7201a8"
             ],
             [
              0.3333333333333333,
              "#9c179e"
             ],
             [
              0.4444444444444444,
              "#bd3786"
             ],
             [
              0.5555555555555556,
              "#d8576b"
             ],
             [
              0.6666666666666666,
              "#ed7953"
             ],
             [
              0.7777777777777778,
              "#fb9f3a"
             ],
             [
              0.8888888888888888,
              "#fdca26"
             ],
             [
              1,
              "#f0f921"
             ]
            ],
            "type": "heatmap"
           }
          ],
          "heatmapgl": [
           {
            "colorbar": {
             "outlinewidth": 0,
             "ticks": ""
            },
            "colorscale": [
             [
              0,
              "#0d0887"
             ],
             [
              0.1111111111111111,
              "#46039f"
             ],
             [
              0.2222222222222222,
              "#7201a8"
             ],
             [
              0.3333333333333333,
              "#9c179e"
             ],
             [
              0.4444444444444444,
              "#bd3786"
             ],
             [
              0.5555555555555556,
              "#d8576b"
             ],
             [
              0.6666666666666666,
              "#ed7953"
             ],
             [
              0.7777777777777778,
              "#fb9f3a"
             ],
             [
              0.8888888888888888,
              "#fdca26"
             ],
             [
              1,
              "#f0f921"
             ]
            ],
            "type": "heatmapgl"
           }
          ],
          "histogram": [
           {
            "marker": {
             "pattern": {
              "fillmode": "overlay",
              "size": 10,
              "solidity": 0.2
             }
            },
            "type": "histogram"
           }
          ],
          "histogram2d": [
           {
            "colorbar": {
             "outlinewidth": 0,
             "ticks": ""
            },
            "colorscale": [
             [
              0,
              "#0d0887"
             ],
             [
              0.1111111111111111,
              "#46039f"
             ],
             [
              0.2222222222222222,
              "#7201a8"
             ],
             [
              0.3333333333333333,
              "#9c179e"
             ],
             [
              0.4444444444444444,
              "#bd3786"
             ],
             [
              0.5555555555555556,
              "#d8576b"
             ],
             [
              0.6666666666666666,
              "#ed7953"
             ],
             [
              0.7777777777777778,
              "#fb9f3a"
             ],
             [
              0.8888888888888888,
              "#fdca26"
             ],
             [
              1,
              "#f0f921"
             ]
            ],
            "type": "histogram2d"
           }
          ],
          "histogram2dcontour": [
           {
            "colorbar": {
             "outlinewidth": 0,
             "ticks": ""
            },
            "colorscale": [
             [
              0,
              "#0d0887"
             ],
             [
              0.1111111111111111,
              "#46039f"
             ],
             [
              0.2222222222222222,
              "#7201a8"
             ],
             [
              0.3333333333333333,
              "#9c179e"
             ],
             [
              0.4444444444444444,
              "#bd3786"
             ],
             [
              0.5555555555555556,
              "#d8576b"
             ],
             [
              0.6666666666666666,
              "#ed7953"
             ],
             [
              0.7777777777777778,
              "#fb9f3a"
             ],
             [
              0.8888888888888888,
              "#fdca26"
             ],
             [
              1,
              "#f0f921"
             ]
            ],
            "type": "histogram2dcontour"
           }
          ],
          "mesh3d": [
           {
            "colorbar": {
             "outlinewidth": 0,
             "ticks": ""
            },
            "type": "mesh3d"
           }
          ],
          "parcoords": [
           {
            "line": {
             "colorbar": {
              "outlinewidth": 0,
              "ticks": ""
             }
            },
            "type": "parcoords"
           }
          ],
          "pie": [
           {
            "automargin": true,
            "type": "pie"
           }
          ],
          "scatter": [
           {
            "fillpattern": {
             "fillmode": "overlay",
             "size": 10,
             "solidity": 0.2
            },
            "type": "scatter"
           }
          ],
          "scatter3d": [
           {
            "line": {
             "colorbar": {
              "outlinewidth": 0,
              "ticks": ""
             }
            },
            "marker": {
             "colorbar": {
              "outlinewidth": 0,
              "ticks": ""
             }
            },
            "type": "scatter3d"
           }
          ],
          "scattercarpet": [
           {
            "marker": {
             "colorbar": {
              "outlinewidth": 0,
              "ticks": ""
             }
            },
            "type": "scattercarpet"
           }
          ],
          "scattergeo": [
           {
            "marker": {
             "colorbar": {
              "outlinewidth": 0,
              "ticks": ""
             }
            },
            "type": "scattergeo"
           }
          ],
          "scattergl": [
           {
            "marker": {
             "colorbar": {
              "outlinewidth": 0,
              "ticks": ""
             }
            },
            "type": "scattergl"
           }
          ],
          "scattermapbox": [
           {
            "marker": {
             "colorbar": {
              "outlinewidth": 0,
              "ticks": ""
             }
            },
            "type": "scattermapbox"
           }
          ],
          "scatterpolar": [
           {
            "marker": {
             "colorbar": {
              "outlinewidth": 0,
              "ticks": ""
             }
            },
            "type": "scatterpolar"
           }
          ],
          "scatterpolargl": [
           {
            "marker": {
             "colorbar": {
              "outlinewidth": 0,
              "ticks": ""
             }
            },
            "type": "scatterpolargl"
           }
          ],
          "scatterternary": [
           {
            "marker": {
             "colorbar": {
              "outlinewidth": 0,
              "ticks": ""
             }
            },
            "type": "scatterternary"
           }
          ],
          "surface": [
           {
            "colorbar": {
             "outlinewidth": 0,
             "ticks": ""
            },
            "colorscale": [
             [
              0,
              "#0d0887"
             ],
             [
              0.1111111111111111,
              "#46039f"
             ],
             [
              0.2222222222222222,
              "#7201a8"
             ],
             [
              0.3333333333333333,
              "#9c179e"
             ],
             [
              0.4444444444444444,
              "#bd3786"
             ],
             [
              0.5555555555555556,
              "#d8576b"
             ],
             [
              0.6666666666666666,
              "#ed7953"
             ],
             [
              0.7777777777777778,
              "#fb9f3a"
             ],
             [
              0.8888888888888888,
              "#fdca26"
             ],
             [
              1,
              "#f0f921"
             ]
            ],
            "type": "surface"
           }
          ],
          "table": [
           {
            "cells": {
             "fill": {
              "color": "#EBF0F8"
             },
             "line": {
              "color": "white"
             }
            },
            "header": {
             "fill": {
              "color": "#C8D4E3"
             },
             "line": {
              "color": "white"
             }
            },
            "type": "table"
           }
          ]
         },
         "layout": {
          "annotationdefaults": {
           "arrowcolor": "#2a3f5f",
           "arrowhead": 0,
           "arrowwidth": 1
          },
          "autotypenumbers": "strict",
          "coloraxis": {
           "colorbar": {
            "outlinewidth": 0,
            "ticks": ""
           }
          },
          "colorscale": {
           "diverging": [
            [
             0,
             "#8e0152"
            ],
            [
             0.1,
             "#c51b7d"
            ],
            [
             0.2,
             "#de77ae"
            ],
            [
             0.3,
             "#f1b6da"
            ],
            [
             0.4,
             "#fde0ef"
            ],
            [
             0.5,
             "#f7f7f7"
            ],
            [
             0.6,
             "#e6f5d0"
            ],
            [
             0.7,
             "#b8e186"
            ],
            [
             0.8,
             "#7fbc41"
            ],
            [
             0.9,
             "#4d9221"
            ],
            [
             1,
             "#276419"
            ]
           ],
           "sequential": [
            [
             0,
             "#0d0887"
            ],
            [
             0.1111111111111111,
             "#46039f"
            ],
            [
             0.2222222222222222,
             "#7201a8"
            ],
            [
             0.3333333333333333,
             "#9c179e"
            ],
            [
             0.4444444444444444,
             "#bd3786"
            ],
            [
             0.5555555555555556,
             "#d8576b"
            ],
            [
             0.6666666666666666,
             "#ed7953"
            ],
            [
             0.7777777777777778,
             "#fb9f3a"
            ],
            [
             0.8888888888888888,
             "#fdca26"
            ],
            [
             1,
             "#f0f921"
            ]
           ],
           "sequentialminus": [
            [
             0,
             "#0d0887"
            ],
            [
             0.1111111111111111,
             "#46039f"
            ],
            [
             0.2222222222222222,
             "#7201a8"
            ],
            [
             0.3333333333333333,
             "#9c179e"
            ],
            [
             0.4444444444444444,
             "#bd3786"
            ],
            [
             0.5555555555555556,
             "#d8576b"
            ],
            [
             0.6666666666666666,
             "#ed7953"
            ],
            [
             0.7777777777777778,
             "#fb9f3a"
            ],
            [
             0.8888888888888888,
             "#fdca26"
            ],
            [
             1,
             "#f0f921"
            ]
           ]
          },
          "colorway": [
           "#636efa",
           "#EF553B",
           "#00cc96",
           "#ab63fa",
           "#FFA15A",
           "#19d3f3",
           "#FF6692",
           "#B6E880",
           "#FF97FF",
           "#FECB52"
          ],
          "font": {
           "color": "#2a3f5f"
          },
          "geo": {
           "bgcolor": "white",
           "lakecolor": "white",
           "landcolor": "#E5ECF6",
           "showlakes": true,
           "showland": true,
           "subunitcolor": "white"
          },
          "hoverlabel": {
           "align": "left"
          },
          "hovermode": "closest",
          "mapbox": {
           "style": "light"
          },
          "paper_bgcolor": "white",
          "plot_bgcolor": "#E5ECF6",
          "polar": {
           "angularaxis": {
            "gridcolor": "white",
            "linecolor": "white",
            "ticks": ""
           },
           "bgcolor": "#E5ECF6",
           "radialaxis": {
            "gridcolor": "white",
            "linecolor": "white",
            "ticks": ""
           }
          },
          "scene": {
           "xaxis": {
            "backgroundcolor": "#E5ECF6",
            "gridcolor": "white",
            "gridwidth": 2,
            "linecolor": "white",
            "showbackground": true,
            "ticks": "",
            "zerolinecolor": "white"
           },
           "yaxis": {
            "backgroundcolor": "#E5ECF6",
            "gridcolor": "white",
            "gridwidth": 2,
            "linecolor": "white",
            "showbackground": true,
            "ticks": "",
            "zerolinecolor": "white"
           },
           "zaxis": {
            "backgroundcolor": "#E5ECF6",
            "gridcolor": "white",
            "gridwidth": 2,
            "linecolor": "white",
            "showbackground": true,
            "ticks": "",
            "zerolinecolor": "white"
           }
          },
          "shapedefaults": {
           "line": {
            "color": "#2a3f5f"
           }
          },
          "ternary": {
           "aaxis": {
            "gridcolor": "white",
            "linecolor": "white",
            "ticks": ""
           },
           "baxis": {
            "gridcolor": "white",
            "linecolor": "white",
            "ticks": ""
           },
           "bgcolor": "#E5ECF6",
           "caxis": {
            "gridcolor": "white",
            "linecolor": "white",
            "ticks": ""
           }
          },
          "title": {
           "x": 0.05
          },
          "xaxis": {
           "automargin": true,
           "gridcolor": "white",
           "linecolor": "white",
           "ticks": "",
           "title": {
            "standoff": 15
           },
           "zerolinecolor": "white",
           "zerolinewidth": 2
          },
          "yaxis": {
           "automargin": true,
           "gridcolor": "white",
           "linecolor": "white",
           "ticks": "",
           "title": {
            "standoff": 15
           },
           "zerolinecolor": "white",
           "zerolinewidth": 2
          }
         }
        },
        "title": {
         "text": "Confusion Matrix — Logistic Regression (Valid)"
        },
        "xaxis": {
         "title": {
          "text": "Predicted"
         }
        },
        "yaxis": {
         "title": {
          "text": "True"
         }
        }
       }
      }
     },
     "metadata": {},
     "output_type": "display_data"
    }
   ],
   "source": [
    "def plot_confusion_matrix(cm: np.ndarray, labels: List[str], title: str):\n",
    "    z = cm.astype(int)\n",
    "    fig = go.Figure(data=go.Heatmap(\n",
    "        z=z, x=labels, y=labels, colorscale=\"Viridis\", hovertemplate=\"Pred: %{x}<br>True: %{y}<br>Count: %{z}<extra></extra>\"\n",
    "    ))\n",
    "    fig.update_layout(title=title, xaxis_title=\"Predicted\", yaxis_title=\"True\")\n",
    "    fig.show()\n",
    "\n",
    "plot_confusion_matrix(cm, list(classes), \"Confusion Matrix — Logistic Regression (Valid)\")\n"
   ]
  },
  {
   "cell_type": "code",
   "execution_count": 17,
   "id": "54834088",
   "metadata": {},
   "outputs": [
    {
     "data": {
      "text/html": [
       "<div>\n",
       "<style scoped>\n",
       "    .dataframe tbody tr th:only-of-type {\n",
       "        vertical-align: middle;\n",
       "    }\n",
       "\n",
       "    .dataframe tbody tr th {\n",
       "        vertical-align: top;\n",
       "    }\n",
       "\n",
       "    .dataframe thead th {\n",
       "        text-align: right;\n",
       "    }\n",
       "</style>\n",
       "<table border=\"1\" class=\"dataframe\">\n",
       "  <thead>\n",
       "    <tr style=\"text-align: right;\">\n",
       "      <th></th>\n",
       "      <th>precision</th>\n",
       "      <th>recall</th>\n",
       "      <th>f1-score</th>\n",
       "      <th>support</th>\n",
       "    </tr>\n",
       "  </thead>\n",
       "  <tbody>\n",
       "    <tr>\n",
       "      <th>melanoma</th>\n",
       "      <td>0.268</td>\n",
       "      <td>0.094</td>\n",
       "      <td>0.139</td>\n",
       "      <td>117.000</td>\n",
       "    </tr>\n",
       "    <tr>\n",
       "      <th>nevus</th>\n",
       "      <td>0.651</td>\n",
       "      <td>0.827</td>\n",
       "      <td>0.729</td>\n",
       "      <td>393.000</td>\n",
       "    </tr>\n",
       "    <tr>\n",
       "      <th>seborrheic_keratosis</th>\n",
       "      <td>0.133</td>\n",
       "      <td>0.089</td>\n",
       "      <td>0.107</td>\n",
       "      <td>90.000</td>\n",
       "    </tr>\n",
       "    <tr>\n",
       "      <th>accuracy</th>\n",
       "      <td>0.573</td>\n",
       "      <td>0.573</td>\n",
       "      <td>0.573</td>\n",
       "      <td>0.573</td>\n",
       "    </tr>\n",
       "    <tr>\n",
       "      <th>macro avg</th>\n",
       "      <td>0.351</td>\n",
       "      <td>0.337</td>\n",
       "      <td>0.325</td>\n",
       "      <td>600.000</td>\n",
       "    </tr>\n",
       "    <tr>\n",
       "      <th>weighted avg</th>\n",
       "      <td>0.499</td>\n",
       "      <td>0.573</td>\n",
       "      <td>0.520</td>\n",
       "      <td>600.000</td>\n",
       "    </tr>\n",
       "  </tbody>\n",
       "</table>\n",
       "</div>"
      ],
      "text/plain": [
       "                      precision  recall  f1-score  support\n",
       "melanoma                  0.268   0.094     0.139  117.000\n",
       "nevus                     0.651   0.827     0.729  393.000\n",
       "seborrheic_keratosis      0.133   0.089     0.107   90.000\n",
       "accuracy                  0.573   0.573     0.573    0.573\n",
       "macro avg                 0.351   0.337     0.325  600.000\n",
       "weighted avg              0.499   0.573     0.520  600.000"
      ]
     },
     "execution_count": 17,
     "metadata": {},
     "output_type": "execute_result"
    }
   ],
   "source": [
    "def evaluate_on_test(df_test: pd.DataFrame, clf, scaler):\n",
    "    X = df_test.drop(columns=[\"label\"]).to_numpy(dtype=np.float32)\n",
    "    y = df_test[\"label\"].to_numpy()\n",
    "    Xs = scaler.transform(X)\n",
    "    y_pred = clf.predict(Xs)\n",
    "    rep = classification_report(y, y_pred, output_dict=True)\n",
    "    cm_test = confusion_matrix(y, y_pred, labels=clf.classes_)\n",
    "    return rep, cm_test\n",
    "\n",
    "rep_test, cm_test = evaluate_on_test(df_test, clf, scaler)\n",
    "pd.DataFrame(rep_test).transpose().round(3)"
   ]
  },
  {
   "cell_type": "code",
   "execution_count": null,
   "id": "ee648c20",
   "metadata": {},
   "outputs": [
    {
     "name": "stdout",
     "output_type": "stream",
     "text": [
      "Using device: cpu\n",
      "Downloading: \"https://download.pytorch.org/models/mobilenet_v2-b0353104.pth\" to /Users/thabochesane/.cache/torch/hub/checkpoints/mobilenet_v2-b0353104.pth\n"
     ]
    },
    {
     "name": "stderr",
     "output_type": "stream",
     "text": [
      "100%|██████████| 13.6M/13.6M [00:03<00:00, 4.44MB/s]\n"
     ]
    }
   ],
   "source": [
    "\n",
    "import torch\n",
    "from torch import nn\n",
    "from torchvision import models, transforms\n",
    "\n",
    "device = torch.device(\"cuda\" if torch.cuda.is_available() else \"cpu\")\n",
    "print(\"Using device:\", device)\n",
    "\n",
    "\n",
    "mv2 = models.mobilenet_v2(weights=models.MobileNet_V2_Weights.IMAGENET1K_V1)\n",
    "mv2.eval()\n",
    "\n",
    "for p in mv2.parameters():\n",
    "    p.requires_grad = False\n",
    "\n",
    "\n",
    "feature_extractor = nn.Sequential(\n",
    "    mv2.features,                \n",
    "    nn.AdaptiveAvgPool2d((1,1)),  \n",
    "    nn.Flatten()                  \n",
    ").to(device)\n",
    "\n",
    "\n",
    "img_transforms = models.MobileNet_V2_Weights.IMAGENET1K_V1.transforms()\n"
   ]
  },
  {
   "cell_type": "markdown",
   "id": "eb347d34",
   "metadata": {},
   "source": [
    "### MapReduce using CNN"
   ]
  },
  {
   "cell_type": "code",
   "execution_count": 20,
   "id": "73fbbb63",
   "metadata": {},
   "outputs": [],
   "source": [
    "from PIL import Image\n",
    "import numpy as np\n",
    "\n",
    "@torch.no_grad()\n",
    "def image_path_to_embedding(path: Path) -> np.ndarray:\n",
    "    \"\"\"Load a single image path → 1280-dim MobileNetV2 embedding (numpy.float32).\"\"\"\n",
    "    with Image.open(path) as im:\n",
    "        im = im.convert(\"RGB\")\n",
    "    x = img_transforms(im).unsqueeze(0).to(device) \n",
    "    feat = feature_extractor(x)                    \n",
    "    return feat.squeeze(0).cpu().numpy().astype(\"float32\")\n",
    "\n",
    "def map_image_to_kv_cnn(path: Path, label: str) -> Tuple[str, np.ndarray]:\n",
    "    \"\"\"MAP: returns (label, embedding) just like the histogram version.\"\"\"\n",
    "    emb = image_path_to_embedding(path)\n",
    "    return (label, emb)"
   ]
  },
  {
   "cell_type": "markdown",
   "id": "b9cb2550",
   "metadata": {},
   "source": [
    "#### Map"
   ]
  },
  {
   "cell_type": "code",
   "execution_count": 21,
   "id": "8ba16843",
   "metadata": {},
   "outputs": [
    {
     "name": "stderr",
     "output_type": "stream",
     "text": [
      "Mapping images (CNN): 100%|██████████| 2000/2000 [03:16<00:00, 10.18it/s]\n",
      "Mapping images (CNN): 100%|██████████| 150/150 [00:21<00:00,  7.00it/s]\n",
      "Mapping images (CNN): 100%|██████████| 600/600 [01:56<00:00,  5.14it/s]\n"
     ]
    },
    {
     "data": {
      "text/plain": [
       "(2000, 150, 600)"
      ]
     },
     "execution_count": 21,
     "metadata": {},
     "output_type": "execute_result"
    }
   ],
   "source": [
    "from tqdm import tqdm\n",
    "import itertools\n",
    "\n",
    "SAMPLE_CNN = None  \n",
    "\n",
    "def map_split_cnn(files: List[Tuple[Path, str]], sample=SAMPLE_CNN):\n",
    "    if sample is not None and len(files) > sample:\n",
    "        files = list(itertools.islice(files, sample))\n",
    "    out = []\n",
    "    for p, lbl in tqdm(files, desc=\"Mapping images (CNN)\"):\n",
    "        try:\n",
    "            out.append(map_image_to_kv_cnn(p, lbl))\n",
    "        except Exception:\n",
    "            # ignore unreadable/corrupt image\n",
    "            continue\n",
    "    return out\n",
    "\n",
    "mapped_train_cnn = map_split_cnn(train_files)\n",
    "mapped_valid_cnn = map_split_cnn(valid_files)\n",
    "mapped_test_cnn  = map_split_cnn(test_files)\n",
    "\n",
    "len(mapped_train_cnn), len(mapped_valid_cnn), len(mapped_test_cnn)"
   ]
  },
  {
   "cell_type": "markdown",
   "id": "0d71f1a0",
   "metadata": {},
   "source": [
    "#### Shuffle & Reduce"
   ]
  },
  {
   "cell_type": "code",
   "execution_count": 22,
   "id": "d9725535",
   "metadata": {},
   "outputs": [
    {
     "data": {
      "text/plain": [
       "{'melanoma': 374, 'nevus': 1372, 'seborrheic_keratosis': 254}"
      ]
     },
     "execution_count": 22,
     "metadata": {},
     "output_type": "execute_result"
    }
   ],
   "source": [
    "grouped_train_cnn = shuffle_group_by_label(mapped_train_cnn)\n",
    "class_stats_cnn = reduce_class_stats(grouped_train_cnn)\n",
    "\n",
    "\n",
    "{k: v[\"count\"] for k, v in class_stats_cnn.items()}"
   ]
  },
  {
   "cell_type": "code",
   "execution_count": 23,
   "id": "4d638cf6",
   "metadata": {},
   "outputs": [
    {
     "data": {
      "text/plain": [
       "((2000, 1281), (150, 1281), (600, 1281))"
      ]
     },
     "execution_count": 23,
     "metadata": {},
     "output_type": "execute_result"
    }
   ],
   "source": [
    "df_train_cnn = records_to_dataframe(mapped_train_cnn)\n",
    "df_valid_cnn = records_to_dataframe(mapped_valid_cnn)\n",
    "df_test_cnn  = records_to_dataframe(mapped_test_cnn)\n",
    "\n",
    "df_train_cnn.shape, df_valid_cnn.shape, df_test_cnn.shape"
   ]
  },
  {
   "cell_type": "code",
   "execution_count": 24,
   "id": "d46b32c3",
   "metadata": {},
   "outputs": [
    {
     "data": {
      "application/vnd.plotly.v1+json": {
       "config": {
        "plotlyServerURL": "https://plot.ly"
       },
       "data": [
        {
         "alignmentgroup": "True",
         "hovertemplate": "label=%{x}<br>count=%{text}<extra></extra>",
         "legendgroup": "",
         "marker": {
          "color": "#636efa",
          "pattern": {
           "shape": ""
          }
         },
         "name": "",
         "offsetgroup": "",
         "orientation": "v",
         "showlegend": false,
         "text": [
          1372,
          374,
          254
         ],
         "textposition": "outside",
         "type": "bar",
         "x": [
          "nevus",
          "melanoma",
          "seborrheic_keratosis"
         ],
         "xaxis": "x",
         "y": [
          1372,
          374,
          254
         ],
         "yaxis": "y"
        }
       ],
       "layout": {
        "barmode": "relative",
        "legend": {
         "tracegroupgap": 0
        },
        "template": {
         "data": {
          "bar": [
           {
            "error_x": {
             "color": "#2a3f5f"
            },
            "error_y": {
             "color": "#2a3f5f"
            },
            "marker": {
             "line": {
              "color": "#E5ECF6",
              "width": 0.5
             },
             "pattern": {
              "fillmode": "overlay",
              "size": 10,
              "solidity": 0.2
             }
            },
            "type": "bar"
           }
          ],
          "barpolar": [
           {
            "marker": {
             "line": {
              "color": "#E5ECF6",
              "width": 0.5
             },
             "pattern": {
              "fillmode": "overlay",
              "size": 10,
              "solidity": 0.2
             }
            },
            "type": "barpolar"
           }
          ],
          "carpet": [
           {
            "aaxis": {
             "endlinecolor": "#2a3f5f",
             "gridcolor": "white",
             "linecolor": "white",
             "minorgridcolor": "white",
             "startlinecolor": "#2a3f5f"
            },
            "baxis": {
             "endlinecolor": "#2a3f5f",
             "gridcolor": "white",
             "linecolor": "white",
             "minorgridcolor": "white",
             "startlinecolor": "#2a3f5f"
            },
            "type": "carpet"
           }
          ],
          "choropleth": [
           {
            "colorbar": {
             "outlinewidth": 0,
             "ticks": ""
            },
            "type": "choropleth"
           }
          ],
          "contour": [
           {
            "colorbar": {
             "outlinewidth": 0,
             "ticks": ""
            },
            "colorscale": [
             [
              0,
              "#0d0887"
             ],
             [
              0.1111111111111111,
              "#46039f"
             ],
             [
              0.2222222222222222,
              "#7201a8"
             ],
             [
              0.3333333333333333,
              "#9c179e"
             ],
             [
              0.4444444444444444,
              "#bd3786"
             ],
             [
              0.5555555555555556,
              "#d8576b"
             ],
             [
              0.6666666666666666,
              "#ed7953"
             ],
             [
              0.7777777777777778,
              "#fb9f3a"
             ],
             [
              0.8888888888888888,
              "#fdca26"
             ],
             [
              1,
              "#f0f921"
             ]
            ],
            "type": "contour"
           }
          ],
          "contourcarpet": [
           {
            "colorbar": {
             "outlinewidth": 0,
             "ticks": ""
            },
            "type": "contourcarpet"
           }
          ],
          "heatmap": [
           {
            "colorbar": {
             "outlinewidth": 0,
             "ticks": ""
            },
            "colorscale": [
             [
              0,
              "#0d0887"
             ],
             [
              0.1111111111111111,
              "#46039f"
             ],
             [
              0.2222222222222222,
              "#7201a8"
             ],
             [
              0.3333333333333333,
              "#9c179e"
             ],
             [
              0.4444444444444444,
              "#bd3786"
             ],
             [
              0.5555555555555556,
              "#d8576b"
             ],
             [
              0.6666666666666666,
              "#ed7953"
             ],
             [
              0.7777777777777778,
              "#fb9f3a"
             ],
             [
              0.8888888888888888,
              "#fdca26"
             ],
             [
              1,
              "#f0f921"
             ]
            ],
            "type": "heatmap"
           }
          ],
          "heatmapgl": [
           {
            "colorbar": {
             "outlinewidth": 0,
             "ticks": ""
            },
            "colorscale": [
             [
              0,
              "#0d0887"
             ],
             [
              0.1111111111111111,
              "#46039f"
             ],
             [
              0.2222222222222222,
              "#7201a8"
             ],
             [
              0.3333333333333333,
              "#9c179e"
             ],
             [
              0.4444444444444444,
              "#bd3786"
             ],
             [
              0.5555555555555556,
              "#d8576b"
             ],
             [
              0.6666666666666666,
              "#ed7953"
             ],
             [
              0.7777777777777778,
              "#fb9f3a"
             ],
             [
              0.8888888888888888,
              "#fdca26"
             ],
             [
              1,
              "#f0f921"
             ]
            ],
            "type": "heatmapgl"
           }
          ],
          "histogram": [
           {
            "marker": {
             "pattern": {
              "fillmode": "overlay",
              "size": 10,
              "solidity": 0.2
             }
            },
            "type": "histogram"
           }
          ],
          "histogram2d": [
           {
            "colorbar": {
             "outlinewidth": 0,
             "ticks": ""
            },
            "colorscale": [
             [
              0,
              "#0d0887"
             ],
             [
              0.1111111111111111,
              "#46039f"
             ],
             [
              0.2222222222222222,
              "#7201a8"
             ],
             [
              0.3333333333333333,
              "#9c179e"
             ],
             [
              0.4444444444444444,
              "#bd3786"
             ],
             [
              0.5555555555555556,
              "#d8576b"
             ],
             [
              0.6666666666666666,
              "#ed7953"
             ],
             [
              0.7777777777777778,
              "#fb9f3a"
             ],
             [
              0.8888888888888888,
              "#fdca26"
             ],
             [
              1,
              "#f0f921"
             ]
            ],
            "type": "histogram2d"
           }
          ],
          "histogram2dcontour": [
           {
            "colorbar": {
             "outlinewidth": 0,
             "ticks": ""
            },
            "colorscale": [
             [
              0,
              "#0d0887"
             ],
             [
              0.1111111111111111,
              "#46039f"
             ],
             [
              0.2222222222222222,
              "#7201a8"
             ],
             [
              0.3333333333333333,
              "#9c179e"
             ],
             [
              0.4444444444444444,
              "#bd3786"
             ],
             [
              0.5555555555555556,
              "#d8576b"
             ],
             [
              0.6666666666666666,
              "#ed7953"
             ],
             [
              0.7777777777777778,
              "#fb9f3a"
             ],
             [
              0.8888888888888888,
              "#fdca26"
             ],
             [
              1,
              "#f0f921"
             ]
            ],
            "type": "histogram2dcontour"
           }
          ],
          "mesh3d": [
           {
            "colorbar": {
             "outlinewidth": 0,
             "ticks": ""
            },
            "type": "mesh3d"
           }
          ],
          "parcoords": [
           {
            "line": {
             "colorbar": {
              "outlinewidth": 0,
              "ticks": ""
             }
            },
            "type": "parcoords"
           }
          ],
          "pie": [
           {
            "automargin": true,
            "type": "pie"
           }
          ],
          "scatter": [
           {
            "fillpattern": {
             "fillmode": "overlay",
             "size": 10,
             "solidity": 0.2
            },
            "type": "scatter"
           }
          ],
          "scatter3d": [
           {
            "line": {
             "colorbar": {
              "outlinewidth": 0,
              "ticks": ""
             }
            },
            "marker": {
             "colorbar": {
              "outlinewidth": 0,
              "ticks": ""
             }
            },
            "type": "scatter3d"
           }
          ],
          "scattercarpet": [
           {
            "marker": {
             "colorbar": {
              "outlinewidth": 0,
              "ticks": ""
             }
            },
            "type": "scattercarpet"
           }
          ],
          "scattergeo": [
           {
            "marker": {
             "colorbar": {
              "outlinewidth": 0,
              "ticks": ""
             }
            },
            "type": "scattergeo"
           }
          ],
          "scattergl": [
           {
            "marker": {
             "colorbar": {
              "outlinewidth": 0,
              "ticks": ""
             }
            },
            "type": "scattergl"
           }
          ],
          "scattermapbox": [
           {
            "marker": {
             "colorbar": {
              "outlinewidth": 0,
              "ticks": ""
             }
            },
            "type": "scattermapbox"
           }
          ],
          "scatterpolar": [
           {
            "marker": {
             "colorbar": {
              "outlinewidth": 0,
              "ticks": ""
             }
            },
            "type": "scatterpolar"
           }
          ],
          "scatterpolargl": [
           {
            "marker": {
             "colorbar": {
              "outlinewidth": 0,
              "ticks": ""
             }
            },
            "type": "scatterpolargl"
           }
          ],
          "scatterternary": [
           {
            "marker": {
             "colorbar": {
              "outlinewidth": 0,
              "ticks": ""
             }
            },
            "type": "scatterternary"
           }
          ],
          "surface": [
           {
            "colorbar": {
             "outlinewidth": 0,
             "ticks": ""
            },
            "colorscale": [
             [
              0,
              "#0d0887"
             ],
             [
              0.1111111111111111,
              "#46039f"
             ],
             [
              0.2222222222222222,
              "#7201a8"
             ],
             [
              0.3333333333333333,
              "#9c179e"
             ],
             [
              0.4444444444444444,
              "#bd3786"
             ],
             [
              0.5555555555555556,
              "#d8576b"
             ],
             [
              0.6666666666666666,
              "#ed7953"
             ],
             [
              0.7777777777777778,
              "#fb9f3a"
             ],
             [
              0.8888888888888888,
              "#fdca26"
             ],
             [
              1,
              "#f0f921"
             ]
            ],
            "type": "surface"
           }
          ],
          "table": [
           {
            "cells": {
             "fill": {
              "color": "#EBF0F8"
             },
             "line": {
              "color": "white"
             }
            },
            "header": {
             "fill": {
              "color": "#C8D4E3"
             },
             "line": {
              "color": "white"
             }
            },
            "type": "table"
           }
          ]
         },
         "layout": {
          "annotationdefaults": {
           "arrowcolor": "#2a3f5f",
           "arrowhead": 0,
           "arrowwidth": 1
          },
          "autotypenumbers": "strict",
          "coloraxis": {
           "colorbar": {
            "outlinewidth": 0,
            "ticks": ""
           }
          },
          "colorscale": {
           "diverging": [
            [
             0,
             "#8e0152"
            ],
            [
             0.1,
             "#c51b7d"
            ],
            [
             0.2,
             "#de77ae"
            ],
            [
             0.3,
             "#f1b6da"
            ],
            [
             0.4,
             "#fde0ef"
            ],
            [
             0.5,
             "#f7f7f7"
            ],
            [
             0.6,
             "#e6f5d0"
            ],
            [
             0.7,
             "#b8e186"
            ],
            [
             0.8,
             "#7fbc41"
            ],
            [
             0.9,
             "#4d9221"
            ],
            [
             1,
             "#276419"
            ]
           ],
           "sequential": [
            [
             0,
             "#0d0887"
            ],
            [
             0.1111111111111111,
             "#46039f"
            ],
            [
             0.2222222222222222,
             "#7201a8"
            ],
            [
             0.3333333333333333,
             "#9c179e"
            ],
            [
             0.4444444444444444,
             "#bd3786"
            ],
            [
             0.5555555555555556,
             "#d8576b"
            ],
            [
             0.6666666666666666,
             "#ed7953"
            ],
            [
             0.7777777777777778,
             "#fb9f3a"
            ],
            [
             0.8888888888888888,
             "#fdca26"
            ],
            [
             1,
             "#f0f921"
            ]
           ],
           "sequentialminus": [
            [
             0,
             "#0d0887"
            ],
            [
             0.1111111111111111,
             "#46039f"
            ],
            [
             0.2222222222222222,
             "#7201a8"
            ],
            [
             0.3333333333333333,
             "#9c179e"
            ],
            [
             0.4444444444444444,
             "#bd3786"
            ],
            [
             0.5555555555555556,
             "#d8576b"
            ],
            [
             0.6666666666666666,
             "#ed7953"
            ],
            [
             0.7777777777777778,
             "#fb9f3a"
            ],
            [
             0.8888888888888888,
             "#fdca26"
            ],
            [
             1,
             "#f0f921"
            ]
           ]
          },
          "colorway": [
           "#636efa",
           "#EF553B",
           "#00cc96",
           "#ab63fa",
           "#FFA15A",
           "#19d3f3",
           "#FF6692",
           "#B6E880",
           "#FF97FF",
           "#FECB52"
          ],
          "font": {
           "color": "#2a3f5f"
          },
          "geo": {
           "bgcolor": "white",
           "lakecolor": "white",
           "landcolor": "#E5ECF6",
           "showlakes": true,
           "showland": true,
           "subunitcolor": "white"
          },
          "hoverlabel": {
           "align": "left"
          },
          "hovermode": "closest",
          "mapbox": {
           "style": "light"
          },
          "paper_bgcolor": "white",
          "plot_bgcolor": "#E5ECF6",
          "polar": {
           "angularaxis": {
            "gridcolor": "white",
            "linecolor": "white",
            "ticks": ""
           },
           "bgcolor": "#E5ECF6",
           "radialaxis": {
            "gridcolor": "white",
            "linecolor": "white",
            "ticks": ""
           }
          },
          "scene": {
           "xaxis": {
            "backgroundcolor": "#E5ECF6",
            "gridcolor": "white",
            "gridwidth": 2,
            "linecolor": "white",
            "showbackground": true,
            "ticks": "",
            "zerolinecolor": "white"
           },
           "yaxis": {
            "backgroundcolor": "#E5ECF6",
            "gridcolor": "white",
            "gridwidth": 2,
            "linecolor": "white",
            "showbackground": true,
            "ticks": "",
            "zerolinecolor": "white"
           },
           "zaxis": {
            "backgroundcolor": "#E5ECF6",
            "gridcolor": "white",
            "gridwidth": 2,
            "linecolor": "white",
            "showbackground": true,
            "ticks": "",
            "zerolinecolor": "white"
           }
          },
          "shapedefaults": {
           "line": {
            "color": "#2a3f5f"
           }
          },
          "ternary": {
           "aaxis": {
            "gridcolor": "white",
            "linecolor": "white",
            "ticks": ""
           },
           "baxis": {
            "gridcolor": "white",
            "linecolor": "white",
            "ticks": ""
           },
           "bgcolor": "#E5ECF6",
           "caxis": {
            "gridcolor": "white",
            "linecolor": "white",
            "ticks": ""
           }
          },
          "title": {
           "x": 0.05
          },
          "xaxis": {
           "automargin": true,
           "gridcolor": "white",
           "linecolor": "white",
           "ticks": "",
           "title": {
            "standoff": 15
           },
           "zerolinecolor": "white",
           "zerolinewidth": 2
          },
          "yaxis": {
           "automargin": true,
           "gridcolor": "white",
           "linecolor": "white",
           "ticks": "",
           "title": {
            "standoff": 15
           },
           "zerolinecolor": "white",
           "zerolinewidth": 2
          }
         }
        },
        "title": {
         "text": "Class Distribution — Train (CNN features)"
        },
        "uniformtext": {
         "minsize": 12,
         "mode": "hide"
        },
        "xaxis": {
         "anchor": "y",
         "domain": [
          0,
          1
         ],
         "title": {
          "text": "Class"
         }
        },
        "yaxis": {
         "anchor": "x",
         "domain": [
          0,
          1
         ],
         "title": {
          "text": "Images"
         }
        }
       }
      }
     },
     "metadata": {},
     "output_type": "display_data"
    },
    {
     "data": {
      "application/vnd.plotly.v1+json": {
       "config": {
        "plotlyServerURL": "https://plot.ly"
       },
       "data": [
        {
         "alignmentgroup": "True",
         "hovertemplate": "label=%{x}<br>count=%{text}<extra></extra>",
         "legendgroup": "",
         "marker": {
          "color": "#636efa",
          "pattern": {
           "shape": ""
          }
         },
         "name": "",
         "offsetgroup": "",
         "orientation": "v",
         "showlegend": false,
         "text": [
          78,
          42,
          30
         ],
         "textposition": "outside",
         "type": "bar",
         "x": [
          "nevus",
          "seborrheic_keratosis",
          "melanoma"
         ],
         "xaxis": "x",
         "y": [
          78,
          42,
          30
         ],
         "yaxis": "y"
        }
       ],
       "layout": {
        "barmode": "relative",
        "legend": {
         "tracegroupgap": 0
        },
        "template": {
         "data": {
          "bar": [
           {
            "error_x": {
             "color": "#2a3f5f"
            },
            "error_y": {
             "color": "#2a3f5f"
            },
            "marker": {
             "line": {
              "color": "#E5ECF6",
              "width": 0.5
             },
             "pattern": {
              "fillmode": "overlay",
              "size": 10,
              "solidity": 0.2
             }
            },
            "type": "bar"
           }
          ],
          "barpolar": [
           {
            "marker": {
             "line": {
              "color": "#E5ECF6",
              "width": 0.5
             },
             "pattern": {
              "fillmode": "overlay",
              "size": 10,
              "solidity": 0.2
             }
            },
            "type": "barpolar"
           }
          ],
          "carpet": [
           {
            "aaxis": {
             "endlinecolor": "#2a3f5f",
             "gridcolor": "white",
             "linecolor": "white",
             "minorgridcolor": "white",
             "startlinecolor": "#2a3f5f"
            },
            "baxis": {
             "endlinecolor": "#2a3f5f",
             "gridcolor": "white",
             "linecolor": "white",
             "minorgridcolor": "white",
             "startlinecolor": "#2a3f5f"
            },
            "type": "carpet"
           }
          ],
          "choropleth": [
           {
            "colorbar": {
             "outlinewidth": 0,
             "ticks": ""
            },
            "type": "choropleth"
           }
          ],
          "contour": [
           {
            "colorbar": {
             "outlinewidth": 0,
             "ticks": ""
            },
            "colorscale": [
             [
              0,
              "#0d0887"
             ],
             [
              0.1111111111111111,
              "#46039f"
             ],
             [
              0.2222222222222222,
              "#7201a8"
             ],
             [
              0.3333333333333333,
              "#9c179e"
             ],
             [
              0.4444444444444444,
              "#bd3786"
             ],
             [
              0.5555555555555556,
              "#d8576b"
             ],
             [
              0.6666666666666666,
              "#ed7953"
             ],
             [
              0.7777777777777778,
              "#fb9f3a"
             ],
             [
              0.8888888888888888,
              "#fdca26"
             ],
             [
              1,
              "#f0f921"
             ]
            ],
            "type": "contour"
           }
          ],
          "contourcarpet": [
           {
            "colorbar": {
             "outlinewidth": 0,
             "ticks": ""
            },
            "type": "contourcarpet"
           }
          ],
          "heatmap": [
           {
            "colorbar": {
             "outlinewidth": 0,
             "ticks": ""
            },
            "colorscale": [
             [
              0,
              "#0d0887"
             ],
             [
              0.1111111111111111,
              "#46039f"
             ],
             [
              0.2222222222222222,
              "#7201a8"
             ],
             [
              0.3333333333333333,
              "#9c179e"
             ],
             [
              0.4444444444444444,
              "#bd3786"
             ],
             [
              0.5555555555555556,
              "#d8576b"
             ],
             [
              0.6666666666666666,
              "#ed7953"
             ],
             [
              0.7777777777777778,
              "#fb9f3a"
             ],
             [
              0.8888888888888888,
              "#fdca26"
             ],
             [
              1,
              "#f0f921"
             ]
            ],
            "type": "heatmap"
           }
          ],
          "heatmapgl": [
           {
            "colorbar": {
             "outlinewidth": 0,
             "ticks": ""
            },
            "colorscale": [
             [
              0,
              "#0d0887"
             ],
             [
              0.1111111111111111,
              "#46039f"
             ],
             [
              0.2222222222222222,
              "#7201a8"
             ],
             [
              0.3333333333333333,
              "#9c179e"
             ],
             [
              0.4444444444444444,
              "#bd3786"
             ],
             [
              0.5555555555555556,
              "#d8576b"
             ],
             [
              0.6666666666666666,
              "#ed7953"
             ],
             [
              0.7777777777777778,
              "#fb9f3a"
             ],
             [
              0.8888888888888888,
              "#fdca26"
             ],
             [
              1,
              "#f0f921"
             ]
            ],
            "type": "heatmapgl"
           }
          ],
          "histogram": [
           {
            "marker": {
             "pattern": {
              "fillmode": "overlay",
              "size": 10,
              "solidity": 0.2
             }
            },
            "type": "histogram"
           }
          ],
          "histogram2d": [
           {
            "colorbar": {
             "outlinewidth": 0,
             "ticks": ""
            },
            "colorscale": [
             [
              0,
              "#0d0887"
             ],
             [
              0.1111111111111111,
              "#46039f"
             ],
             [
              0.2222222222222222,
              "#7201a8"
             ],
             [
              0.3333333333333333,
              "#9c179e"
             ],
             [
              0.4444444444444444,
              "#bd3786"
             ],
             [
              0.5555555555555556,
              "#d8576b"
             ],
             [
              0.6666666666666666,
              "#ed7953"
             ],
             [
              0.7777777777777778,
              "#fb9f3a"
             ],
             [
              0.8888888888888888,
              "#fdca26"
             ],
             [
              1,
              "#f0f921"
             ]
            ],
            "type": "histogram2d"
           }
          ],
          "histogram2dcontour": [
           {
            "colorbar": {
             "outlinewidth": 0,
             "ticks": ""
            },
            "colorscale": [
             [
              0,
              "#0d0887"
             ],
             [
              0.1111111111111111,
              "#46039f"
             ],
             [
              0.2222222222222222,
              "#7201a8"
             ],
             [
              0.3333333333333333,
              "#9c179e"
             ],
             [
              0.4444444444444444,
              "#bd3786"
             ],
             [
              0.5555555555555556,
              "#d8576b"
             ],
             [
              0.6666666666666666,
              "#ed7953"
             ],
             [
              0.7777777777777778,
              "#fb9f3a"
             ],
             [
              0.8888888888888888,
              "#fdca26"
             ],
             [
              1,
              "#f0f921"
             ]
            ],
            "type": "histogram2dcontour"
           }
          ],
          "mesh3d": [
           {
            "colorbar": {
             "outlinewidth": 0,
             "ticks": ""
            },
            "type": "mesh3d"
           }
          ],
          "parcoords": [
           {
            "line": {
             "colorbar": {
              "outlinewidth": 0,
              "ticks": ""
             }
            },
            "type": "parcoords"
           }
          ],
          "pie": [
           {
            "automargin": true,
            "type": "pie"
           }
          ],
          "scatter": [
           {
            "fillpattern": {
             "fillmode": "overlay",
             "size": 10,
             "solidity": 0.2
            },
            "type": "scatter"
           }
          ],
          "scatter3d": [
           {
            "line": {
             "colorbar": {
              "outlinewidth": 0,
              "ticks": ""
             }
            },
            "marker": {
             "colorbar": {
              "outlinewidth": 0,
              "ticks": ""
             }
            },
            "type": "scatter3d"
           }
          ],
          "scattercarpet": [
           {
            "marker": {
             "colorbar": {
              "outlinewidth": 0,
              "ticks": ""
             }
            },
            "type": "scattercarpet"
           }
          ],
          "scattergeo": [
           {
            "marker": {
             "colorbar": {
              "outlinewidth": 0,
              "ticks": ""
             }
            },
            "type": "scattergeo"
           }
          ],
          "scattergl": [
           {
            "marker": {
             "colorbar": {
              "outlinewidth": 0,
              "ticks": ""
             }
            },
            "type": "scattergl"
           }
          ],
          "scattermapbox": [
           {
            "marker": {
             "colorbar": {
              "outlinewidth": 0,
              "ticks": ""
             }
            },
            "type": "scattermapbox"
           }
          ],
          "scatterpolar": [
           {
            "marker": {
             "colorbar": {
              "outlinewidth": 0,
              "ticks": ""
             }
            },
            "type": "scatterpolar"
           }
          ],
          "scatterpolargl": [
           {
            "marker": {
             "colorbar": {
              "outlinewidth": 0,
              "ticks": ""
             }
            },
            "type": "scatterpolargl"
           }
          ],
          "scatterternary": [
           {
            "marker": {
             "colorbar": {
              "outlinewidth": 0,
              "ticks": ""
             }
            },
            "type": "scatterternary"
           }
          ],
          "surface": [
           {
            "colorbar": {
             "outlinewidth": 0,
             "ticks": ""
            },
            "colorscale": [
             [
              0,
              "#0d0887"
             ],
             [
              0.1111111111111111,
              "#46039f"
             ],
             [
              0.2222222222222222,
              "#7201a8"
             ],
             [
              0.3333333333333333,
              "#9c179e"
             ],
             [
              0.4444444444444444,
              "#bd3786"
             ],
             [
              0.5555555555555556,
              "#d8576b"
             ],
             [
              0.6666666666666666,
              "#ed7953"
             ],
             [
              0.7777777777777778,
              "#fb9f3a"
             ],
             [
              0.8888888888888888,
              "#fdca26"
             ],
             [
              1,
              "#f0f921"
             ]
            ],
            "type": "surface"
           }
          ],
          "table": [
           {
            "cells": {
             "fill": {
              "color": "#EBF0F8"
             },
             "line": {
              "color": "white"
             }
            },
            "header": {
             "fill": {
              "color": "#C8D4E3"
             },
             "line": {
              "color": "white"
             }
            },
            "type": "table"
           }
          ]
         },
         "layout": {
          "annotationdefaults": {
           "arrowcolor": "#2a3f5f",
           "arrowhead": 0,
           "arrowwidth": 1
          },
          "autotypenumbers": "strict",
          "coloraxis": {
           "colorbar": {
            "outlinewidth": 0,
            "ticks": ""
           }
          },
          "colorscale": {
           "diverging": [
            [
             0,
             "#8e0152"
            ],
            [
             0.1,
             "#c51b7d"
            ],
            [
             0.2,
             "#de77ae"
            ],
            [
             0.3,
             "#f1b6da"
            ],
            [
             0.4,
             "#fde0ef"
            ],
            [
             0.5,
             "#f7f7f7"
            ],
            [
             0.6,
             "#e6f5d0"
            ],
            [
             0.7,
             "#b8e186"
            ],
            [
             0.8,
             "#7fbc41"
            ],
            [
             0.9,
             "#4d9221"
            ],
            [
             1,
             "#276419"
            ]
           ],
           "sequential": [
            [
             0,
             "#0d0887"
            ],
            [
             0.1111111111111111,
             "#46039f"
            ],
            [
             0.2222222222222222,
             "#7201a8"
            ],
            [
             0.3333333333333333,
             "#9c179e"
            ],
            [
             0.4444444444444444,
             "#bd3786"
            ],
            [
             0.5555555555555556,
             "#d8576b"
            ],
            [
             0.6666666666666666,
             "#ed7953"
            ],
            [
             0.7777777777777778,
             "#fb9f3a"
            ],
            [
             0.8888888888888888,
             "#fdca26"
            ],
            [
             1,
             "#f0f921"
            ]
           ],
           "sequentialminus": [
            [
             0,
             "#0d0887"
            ],
            [
             0.1111111111111111,
             "#46039f"
            ],
            [
             0.2222222222222222,
             "#7201a8"
            ],
            [
             0.3333333333333333,
             "#9c179e"
            ],
            [
             0.4444444444444444,
             "#bd3786"
            ],
            [
             0.5555555555555556,
             "#d8576b"
            ],
            [
             0.6666666666666666,
             "#ed7953"
            ],
            [
             0.7777777777777778,
             "#fb9f3a"
            ],
            [
             0.8888888888888888,
             "#fdca26"
            ],
            [
             1,
             "#f0f921"
            ]
           ]
          },
          "colorway": [
           "#636efa",
           "#EF553B",
           "#00cc96",
           "#ab63fa",
           "#FFA15A",
           "#19d3f3",
           "#FF6692",
           "#B6E880",
           "#FF97FF",
           "#FECB52"
          ],
          "font": {
           "color": "#2a3f5f"
          },
          "geo": {
           "bgcolor": "white",
           "lakecolor": "white",
           "landcolor": "#E5ECF6",
           "showlakes": true,
           "showland": true,
           "subunitcolor": "white"
          },
          "hoverlabel": {
           "align": "left"
          },
          "hovermode": "closest",
          "mapbox": {
           "style": "light"
          },
          "paper_bgcolor": "white",
          "plot_bgcolor": "#E5ECF6",
          "polar": {
           "angularaxis": {
            "gridcolor": "white",
            "linecolor": "white",
            "ticks": ""
           },
           "bgcolor": "#E5ECF6",
           "radialaxis": {
            "gridcolor": "white",
            "linecolor": "white",
            "ticks": ""
           }
          },
          "scene": {
           "xaxis": {
            "backgroundcolor": "#E5ECF6",
            "gridcolor": "white",
            "gridwidth": 2,
            "linecolor": "white",
            "showbackground": true,
            "ticks": "",
            "zerolinecolor": "white"
           },
           "yaxis": {
            "backgroundcolor": "#E5ECF6",
            "gridcolor": "white",
            "gridwidth": 2,
            "linecolor": "white",
            "showbackground": true,
            "ticks": "",
            "zerolinecolor": "white"
           },
           "zaxis": {
            "backgroundcolor": "#E5ECF6",
            "gridcolor": "white",
            "gridwidth": 2,
            "linecolor": "white",
            "showbackground": true,
            "ticks": "",
            "zerolinecolor": "white"
           }
          },
          "shapedefaults": {
           "line": {
            "color": "#2a3f5f"
           }
          },
          "ternary": {
           "aaxis": {
            "gridcolor": "white",
            "linecolor": "white",
            "ticks": ""
           },
           "baxis": {
            "gridcolor": "white",
            "linecolor": "white",
            "ticks": ""
           },
           "bgcolor": "#E5ECF6",
           "caxis": {
            "gridcolor": "white",
            "linecolor": "white",
            "ticks": ""
           }
          },
          "title": {
           "x": 0.05
          },
          "xaxis": {
           "automargin": true,
           "gridcolor": "white",
           "linecolor": "white",
           "ticks": "",
           "title": {
            "standoff": 15
           },
           "zerolinecolor": "white",
           "zerolinewidth": 2
          },
          "yaxis": {
           "automargin": true,
           "gridcolor": "white",
           "linecolor": "white",
           "ticks": "",
           "title": {
            "standoff": 15
           },
           "zerolinecolor": "white",
           "zerolinewidth": 2
          }
         }
        },
        "title": {
         "text": "Class Distribution — Valid (CNN features)"
        },
        "uniformtext": {
         "minsize": 12,
         "mode": "hide"
        },
        "xaxis": {
         "anchor": "y",
         "domain": [
          0,
          1
         ],
         "title": {
          "text": "Class"
         }
        },
        "yaxis": {
         "anchor": "x",
         "domain": [
          0,
          1
         ],
         "title": {
          "text": "Images"
         }
        }
       }
      }
     },
     "metadata": {},
     "output_type": "display_data"
    },
    {
     "data": {
      "application/vnd.plotly.v1+json": {
       "config": {
        "plotlyServerURL": "https://plot.ly"
       },
       "data": [
        {
         "alignmentgroup": "True",
         "hovertemplate": "label=%{x}<br>count=%{text}<extra></extra>",
         "legendgroup": "",
         "marker": {
          "color": "#636efa",
          "pattern": {
           "shape": ""
          }
         },
         "name": "",
         "offsetgroup": "",
         "orientation": "v",
         "showlegend": false,
         "text": [
          393,
          117,
          90
         ],
         "textposition": "outside",
         "type": "bar",
         "x": [
          "nevus",
          "melanoma",
          "seborrheic_keratosis"
         ],
         "xaxis": "x",
         "y": [
          393,
          117,
          90
         ],
         "yaxis": "y"
        }
       ],
       "layout": {
        "barmode": "relative",
        "legend": {
         "tracegroupgap": 0
        },
        "template": {
         "data": {
          "bar": [
           {
            "error_x": {
             "color": "#2a3f5f"
            },
            "error_y": {
             "color": "#2a3f5f"
            },
            "marker": {
             "line": {
              "color": "#E5ECF6",
              "width": 0.5
             },
             "pattern": {
              "fillmode": "overlay",
              "size": 10,
              "solidity": 0.2
             }
            },
            "type": "bar"
           }
          ],
          "barpolar": [
           {
            "marker": {
             "line": {
              "color": "#E5ECF6",
              "width": 0.5
             },
             "pattern": {
              "fillmode": "overlay",
              "size": 10,
              "solidity": 0.2
             }
            },
            "type": "barpolar"
           }
          ],
          "carpet": [
           {
            "aaxis": {
             "endlinecolor": "#2a3f5f",
             "gridcolor": "white",
             "linecolor": "white",
             "minorgridcolor": "white",
             "startlinecolor": "#2a3f5f"
            },
            "baxis": {
             "endlinecolor": "#2a3f5f",
             "gridcolor": "white",
             "linecolor": "white",
             "minorgridcolor": "white",
             "startlinecolor": "#2a3f5f"
            },
            "type": "carpet"
           }
          ],
          "choropleth": [
           {
            "colorbar": {
             "outlinewidth": 0,
             "ticks": ""
            },
            "type": "choropleth"
           }
          ],
          "contour": [
           {
            "colorbar": {
             "outlinewidth": 0,
             "ticks": ""
            },
            "colorscale": [
             [
              0,
              "#0d0887"
             ],
             [
              0.1111111111111111,
              "#46039f"
             ],
             [
              0.2222222222222222,
              "#7201a8"
             ],
             [
              0.3333333333333333,
              "#9c179e"
             ],
             [
              0.4444444444444444,
              "#bd3786"
             ],
             [
              0.5555555555555556,
              "#d8576b"
             ],
             [
              0.6666666666666666,
              "#ed7953"
             ],
             [
              0.7777777777777778,
              "#fb9f3a"
             ],
             [
              0.8888888888888888,
              "#fdca26"
             ],
             [
              1,
              "#f0f921"
             ]
            ],
            "type": "contour"
           }
          ],
          "contourcarpet": [
           {
            "colorbar": {
             "outlinewidth": 0,
             "ticks": ""
            },
            "type": "contourcarpet"
           }
          ],
          "heatmap": [
           {
            "colorbar": {
             "outlinewidth": 0,
             "ticks": ""
            },
            "colorscale": [
             [
              0,
              "#0d0887"
             ],
             [
              0.1111111111111111,
              "#46039f"
             ],
             [
              0.2222222222222222,
              "#7201a8"
             ],
             [
              0.3333333333333333,
              "#9c179e"
             ],
             [
              0.4444444444444444,
              "#bd3786"
             ],
             [
              0.5555555555555556,
              "#d8576b"
             ],
             [
              0.6666666666666666,
              "#ed7953"
             ],
             [
              0.7777777777777778,
              "#fb9f3a"
             ],
             [
              0.8888888888888888,
              "#fdca26"
             ],
             [
              1,
              "#f0f921"
             ]
            ],
            "type": "heatmap"
           }
          ],
          "heatmapgl": [
           {
            "colorbar": {
             "outlinewidth": 0,
             "ticks": ""
            },
            "colorscale": [
             [
              0,
              "#0d0887"
             ],
             [
              0.1111111111111111,
              "#46039f"
             ],
             [
              0.2222222222222222,
              "#7201a8"
             ],
             [
              0.3333333333333333,
              "#9c179e"
             ],
             [
              0.4444444444444444,
              "#bd3786"
             ],
             [
              0.5555555555555556,
              "#d8576b"
             ],
             [
              0.6666666666666666,
              "#ed7953"
             ],
             [
              0.7777777777777778,
              "#fb9f3a"
             ],
             [
              0.8888888888888888,
              "#fdca26"
             ],
             [
              1,
              "#f0f921"
             ]
            ],
            "type": "heatmapgl"
           }
          ],
          "histogram": [
           {
            "marker": {
             "pattern": {
              "fillmode": "overlay",
              "size": 10,
              "solidity": 0.2
             }
            },
            "type": "histogram"
           }
          ],
          "histogram2d": [
           {
            "colorbar": {
             "outlinewidth": 0,
             "ticks": ""
            },
            "colorscale": [
             [
              0,
              "#0d0887"
             ],
             [
              0.1111111111111111,
              "#46039f"
             ],
             [
              0.2222222222222222,
              "#7201a8"
             ],
             [
              0.3333333333333333,
              "#9c179e"
             ],
             [
              0.4444444444444444,
              "#bd3786"
             ],
             [
              0.5555555555555556,
              "#d8576b"
             ],
             [
              0.6666666666666666,
              "#ed7953"
             ],
             [
              0.7777777777777778,
              "#fb9f3a"
             ],
             [
              0.8888888888888888,
              "#fdca26"
             ],
             [
              1,
              "#f0f921"
             ]
            ],
            "type": "histogram2d"
           }
          ],
          "histogram2dcontour": [
           {
            "colorbar": {
             "outlinewidth": 0,
             "ticks": ""
            },
            "colorscale": [
             [
              0,
              "#0d0887"
             ],
             [
              0.1111111111111111,
              "#46039f"
             ],
             [
              0.2222222222222222,
              "#7201a8"
             ],
             [
              0.3333333333333333,
              "#9c179e"
             ],
             [
              0.4444444444444444,
              "#bd3786"
             ],
             [
              0.5555555555555556,
              "#d8576b"
             ],
             [
              0.6666666666666666,
              "#ed7953"
             ],
             [
              0.7777777777777778,
              "#fb9f3a"
             ],
             [
              0.8888888888888888,
              "#fdca26"
             ],
             [
              1,
              "#f0f921"
             ]
            ],
            "type": "histogram2dcontour"
           }
          ],
          "mesh3d": [
           {
            "colorbar": {
             "outlinewidth": 0,
             "ticks": ""
            },
            "type": "mesh3d"
           }
          ],
          "parcoords": [
           {
            "line": {
             "colorbar": {
              "outlinewidth": 0,
              "ticks": ""
             }
            },
            "type": "parcoords"
           }
          ],
          "pie": [
           {
            "automargin": true,
            "type": "pie"
           }
          ],
          "scatter": [
           {
            "fillpattern": {
             "fillmode": "overlay",
             "size": 10,
             "solidity": 0.2
            },
            "type": "scatter"
           }
          ],
          "scatter3d": [
           {
            "line": {
             "colorbar": {
              "outlinewidth": 0,
              "ticks": ""
             }
            },
            "marker": {
             "colorbar": {
              "outlinewidth": 0,
              "ticks": ""
             }
            },
            "type": "scatter3d"
           }
          ],
          "scattercarpet": [
           {
            "marker": {
             "colorbar": {
              "outlinewidth": 0,
              "ticks": ""
             }
            },
            "type": "scattercarpet"
           }
          ],
          "scattergeo": [
           {
            "marker": {
             "colorbar": {
              "outlinewidth": 0,
              "ticks": ""
             }
            },
            "type": "scattergeo"
           }
          ],
          "scattergl": [
           {
            "marker": {
             "colorbar": {
              "outlinewidth": 0,
              "ticks": ""
             }
            },
            "type": "scattergl"
           }
          ],
          "scattermapbox": [
           {
            "marker": {
             "colorbar": {
              "outlinewidth": 0,
              "ticks": ""
             }
            },
            "type": "scattermapbox"
           }
          ],
          "scatterpolar": [
           {
            "marker": {
             "colorbar": {
              "outlinewidth": 0,
              "ticks": ""
             }
            },
            "type": "scatterpolar"
           }
          ],
          "scatterpolargl": [
           {
            "marker": {
             "colorbar": {
              "outlinewidth": 0,
              "ticks": ""
             }
            },
            "type": "scatterpolargl"
           }
          ],
          "scatterternary": [
           {
            "marker": {
             "colorbar": {
              "outlinewidth": 0,
              "ticks": ""
             }
            },
            "type": "scatterternary"
           }
          ],
          "surface": [
           {
            "colorbar": {
             "outlinewidth": 0,
             "ticks": ""
            },
            "colorscale": [
             [
              0,
              "#0d0887"
             ],
             [
              0.1111111111111111,
              "#46039f"
             ],
             [
              0.2222222222222222,
              "#7201a8"
             ],
             [
              0.3333333333333333,
              "#9c179e"
             ],
             [
              0.4444444444444444,
              "#bd3786"
             ],
             [
              0.5555555555555556,
              "#d8576b"
             ],
             [
              0.6666666666666666,
              "#ed7953"
             ],
             [
              0.7777777777777778,
              "#fb9f3a"
             ],
             [
              0.8888888888888888,
              "#fdca26"
             ],
             [
              1,
              "#f0f921"
             ]
            ],
            "type": "surface"
           }
          ],
          "table": [
           {
            "cells": {
             "fill": {
              "color": "#EBF0F8"
             },
             "line": {
              "color": "white"
             }
            },
            "header": {
             "fill": {
              "color": "#C8D4E3"
             },
             "line": {
              "color": "white"
             }
            },
            "type": "table"
           }
          ]
         },
         "layout": {
          "annotationdefaults": {
           "arrowcolor": "#2a3f5f",
           "arrowhead": 0,
           "arrowwidth": 1
          },
          "autotypenumbers": "strict",
          "coloraxis": {
           "colorbar": {
            "outlinewidth": 0,
            "ticks": ""
           }
          },
          "colorscale": {
           "diverging": [
            [
             0,
             "#8e0152"
            ],
            [
             0.1,
             "#c51b7d"
            ],
            [
             0.2,
             "#de77ae"
            ],
            [
             0.3,
             "#f1b6da"
            ],
            [
             0.4,
             "#fde0ef"
            ],
            [
             0.5,
             "#f7f7f7"
            ],
            [
             0.6,
             "#e6f5d0"
            ],
            [
             0.7,
             "#b8e186"
            ],
            [
             0.8,
             "#7fbc41"
            ],
            [
             0.9,
             "#4d9221"
            ],
            [
             1,
             "#276419"
            ]
           ],
           "sequential": [
            [
             0,
             "#0d0887"
            ],
            [
             0.1111111111111111,
             "#46039f"
            ],
            [
             0.2222222222222222,
             "#7201a8"
            ],
            [
             0.3333333333333333,
             "#9c179e"
            ],
            [
             0.4444444444444444,
             "#bd3786"
            ],
            [
             0.5555555555555556,
             "#d8576b"
            ],
            [
             0.6666666666666666,
             "#ed7953"
            ],
            [
             0.7777777777777778,
             "#fb9f3a"
            ],
            [
             0.8888888888888888,
             "#fdca26"
            ],
            [
             1,
             "#f0f921"
            ]
           ],
           "sequentialminus": [
            [
             0,
             "#0d0887"
            ],
            [
             0.1111111111111111,
             "#46039f"
            ],
            [
             0.2222222222222222,
             "#7201a8"
            ],
            [
             0.3333333333333333,
             "#9c179e"
            ],
            [
             0.4444444444444444,
             "#bd3786"
            ],
            [
             0.5555555555555556,
             "#d8576b"
            ],
            [
             0.6666666666666666,
             "#ed7953"
            ],
            [
             0.7777777777777778,
             "#fb9f3a"
            ],
            [
             0.8888888888888888,
             "#fdca26"
            ],
            [
             1,
             "#f0f921"
            ]
           ]
          },
          "colorway": [
           "#636efa",
           "#EF553B",
           "#00cc96",
           "#ab63fa",
           "#FFA15A",
           "#19d3f3",
           "#FF6692",
           "#B6E880",
           "#FF97FF",
           "#FECB52"
          ],
          "font": {
           "color": "#2a3f5f"
          },
          "geo": {
           "bgcolor": "white",
           "lakecolor": "white",
           "landcolor": "#E5ECF6",
           "showlakes": true,
           "showland": true,
           "subunitcolor": "white"
          },
          "hoverlabel": {
           "align": "left"
          },
          "hovermode": "closest",
          "mapbox": {
           "style": "light"
          },
          "paper_bgcolor": "white",
          "plot_bgcolor": "#E5ECF6",
          "polar": {
           "angularaxis": {
            "gridcolor": "white",
            "linecolor": "white",
            "ticks": ""
           },
           "bgcolor": "#E5ECF6",
           "radialaxis": {
            "gridcolor": "white",
            "linecolor": "white",
            "ticks": ""
           }
          },
          "scene": {
           "xaxis": {
            "backgroundcolor": "#E5ECF6",
            "gridcolor": "white",
            "gridwidth": 2,
            "linecolor": "white",
            "showbackground": true,
            "ticks": "",
            "zerolinecolor": "white"
           },
           "yaxis": {
            "backgroundcolor": "#E5ECF6",
            "gridcolor": "white",
            "gridwidth": 2,
            "linecolor": "white",
            "showbackground": true,
            "ticks": "",
            "zerolinecolor": "white"
           },
           "zaxis": {
            "backgroundcolor": "#E5ECF6",
            "gridcolor": "white",
            "gridwidth": 2,
            "linecolor": "white",
            "showbackground": true,
            "ticks": "",
            "zerolinecolor": "white"
           }
          },
          "shapedefaults": {
           "line": {
            "color": "#2a3f5f"
           }
          },
          "ternary": {
           "aaxis": {
            "gridcolor": "white",
            "linecolor": "white",
            "ticks": ""
           },
           "baxis": {
            "gridcolor": "white",
            "linecolor": "white",
            "ticks": ""
           },
           "bgcolor": "#E5ECF6",
           "caxis": {
            "gridcolor": "white",
            "linecolor": "white",
            "ticks": ""
           }
          },
          "title": {
           "x": 0.05
          },
          "xaxis": {
           "automargin": true,
           "gridcolor": "white",
           "linecolor": "white",
           "ticks": "",
           "title": {
            "standoff": 15
           },
           "zerolinecolor": "white",
           "zerolinewidth": 2
          },
          "yaxis": {
           "automargin": true,
           "gridcolor": "white",
           "linecolor": "white",
           "ticks": "",
           "title": {
            "standoff": 15
           },
           "zerolinecolor": "white",
           "zerolinewidth": 2
          }
         }
        },
        "title": {
         "text": "Class Distribution — Test (CNN features)"
        },
        "uniformtext": {
         "minsize": 12,
         "mode": "hide"
        },
        "xaxis": {
         "anchor": "y",
         "domain": [
          0,
          1
         ],
         "title": {
          "text": "Class"
         }
        },
        "yaxis": {
         "anchor": "x",
         "domain": [
          0,
          1
         ],
         "title": {
          "text": "Images"
         }
        }
       }
      }
     },
     "metadata": {},
     "output_type": "display_data"
    },
    {
     "data": {
      "application/vnd.plotly.v1+json": {
       "config": {
        "plotlyServerURL": "https://plot.ly"
       },
       "data": [
        {
         "hovertemplate": "label=melanoma<br>pc1=%{x}<br>pc2=%{y}<extra></extra>",
         "legendgroup": "melanoma",
         "marker": {
          "color": "#636efa",
          "opacity": 0.8,
          "symbol": "circle"
         },
         "mode": "markers",
         "name": "melanoma",
         "showlegend": true,
         "type": "scattergl",
         "x": [
          -4.087981,
          13.968078,
          -2.9487028,
          -0.6603094,
          -2.7530737,
          -11.460979,
          7.934044,
          -1.260798,
          -0.37242985,
          2.3501318,
          -5.0645313,
          -3.0789387,
          -2.8523495,
          -3.9690123,
          -9.150587,
          -10.857506,
          -3.910498,
          -7.193583,
          3.1258216,
          -17.543564,
          -5.6058755,
          0.49618864,
          -13.997301,
          -12.011672,
          -5.8897943,
          2.7029245,
          8.812157,
          -12.123449,
          -17.933851,
          -5.87687,
          8.441076,
          -8.451955,
          -5.1677327,
          -7.558508,
          -14.925338,
          -6.067218,
          0.5139477,
          0.8161001,
          14.31352,
          6.867056,
          -3.0032787,
          -11.460289,
          4.726876,
          -12.9571,
          5.2986965,
          -3.0477347,
          -5.825894,
          -4.8169127,
          -12.727298,
          -16.721458,
          5.519158,
          17.132378,
          8.947382,
          -3.5478668,
          -11.211819,
          3.7989004,
          -6.24508,
          15.481492,
          10.5383215,
          -14.14341,
          -10.157027,
          -0.42803603,
          13.073368,
          -4.4631386,
          -3.9263942,
          -0.977036,
          -1.307474,
          -7.476706,
          -9.675191,
          27.186888,
          14.149981,
          -6.0639515,
          -9.856151,
          -12.919292,
          -9.075569,
          -14.77093,
          0.35706902,
          -10.429423,
          6.241626,
          -7.283041,
          2.7787333,
          0.21022551,
          -5.0987577,
          -0.29269165,
          -5.3338685,
          2.355925,
          -4.3780932,
          7.768174,
          -9.604779,
          -0.6133304,
          3.944101,
          -10.096487,
          8.686079,
          -2.4801774,
          -7.9926476,
          -12.453424,
          -19.075064,
          14.331908,
          -3.1089387,
          0.8983976,
          -5.0192623,
          -8.393207,
          -7.867328,
          5.1056476,
          -7.762592,
          -12.569224,
          -16.84611,
          -4.4561462,
          7.7498646,
          -6.3439436,
          -9.936785,
          -2.1923301,
          -14.415869,
          -5.6771507,
          9.829448,
          -3.3196423,
          3.3565278,
          -15.736773,
          -11.916892,
          -2.7775006,
          -7.098066,
          -9.919226,
          -14.988821,
          -8.077279,
          -13.084527,
          -0.5870796,
          -14.287058,
          -16.146132,
          -1.004232,
          9.915924,
          -0.28221488,
          -12.485393,
          -3.0846303,
          8.004365,
          5.891343,
          -12.404432,
          -4.4676094,
          -6.9546633,
          8.948706,
          -12.360763,
          -4.5803194,
          -1.7157615,
          -16.012335,
          -5.0750117,
          -4.4835653,
          0.36554083,
          0.39684102,
          -5.6948485,
          3.1363924,
          1.2940968,
          -10.455521,
          -0.15227282,
          -15.981799,
          9.364181,
          22.903454,
          -11.322866,
          -14.726438,
          -14.582023,
          27.087976,
          -14.797136,
          -2.1935072,
          -3.2513957,
          -0.67902356,
          -5.523045,
          -14.710333,
          -12.206604,
          -2.4344115,
          7.6058908,
          -2.3602672,
          -13.378667,
          -7.069622,
          -14.459679,
          -17.45735,
          4.754895,
          -1.3574272,
          -15.1049185,
          -14.247103,
          3.3054445,
          -4.1716475,
          -12.966493,
          6.1270943,
          -16.398712,
          25.933838,
          12.602483,
          -3.582591,
          9.96482,
          -6.0591617,
          -9.992443,
          4.0047684,
          23.636238,
          -15.260982,
          7.1266737,
          7.4972405,
          -4.9889774,
          3.4049253,
          3.504554,
          13.058231,
          9.455883,
          -5.7188954,
          -13.552948,
          -1.142688,
          4.9879074,
          -13.613601,
          4.6592464,
          -3.3953347,
          -3.4759436,
          -8.105908,
          -1.0778493,
          -4.987883,
          17.166908,
          -5.667091,
          3.029455,
          24.698523,
          -6.208369,
          -6.8562555,
          0.117890805,
          2.0092137,
          -13.825001,
          8.157013,
          -7.7004013,
          -11.502877,
          -9.332825,
          3.6656878,
          0.26227695,
          -0.6400066,
          2.9662154,
          1.4327444,
          6.896856,
          -5.5416055,
          -8.923636,
          -6.3979645,
          0.75063473,
          -2.0739205,
          -9.435018,
          3.958732,
          0.97423375,
          -1.3452296,
          -0.048808247,
          -0.09499004,
          -11.531709,
          4.7528763,
          17.054441,
          -3.5045118,
          -0.9967759,
          -11.49372,
          0.5082086,
          -2.0572002,
          -12.814031,
          -11.457554,
          -6.7269425,
          -5.0747366,
          29.43966,
          -1.4879977,
          -1.8411633,
          -8.077217,
          -9.495955,
          -13.273706,
          8.13376,
          -3.0948544,
          2.1097271,
          8.106916,
          -0.3288727,
          -2.7547677,
          15.353524,
          -15.115131,
          13.573359,
          -19.680504,
          18.420444,
          -10.863202,
          -13.877129,
          2.2081158,
          12.547869,
          -10.157527,
          -4.4848914,
          -13.356964,
          5.625387,
          13.509406,
          -10.217202,
          -3.0790794,
          6.004388,
          -18.628393,
          -3.6265497,
          -4.749855,
          -6.4909844,
          -15.333629,
          -6.7544947,
          11.842954,
          -17.057463,
          11.196518,
          3.530024,
          -7.471114,
          -3.7475212,
          -2.779385,
          -13.779317,
          -12.959066,
          -8.338898,
          10.6736145,
          -8.839863,
          -4.9467516,
          -1.0226642,
          12.092521,
          12.249339,
          -0.8970304,
          -5.9982734,
          15.856165,
          -15.722615,
          21.058462,
          -14.167072,
          7.410559,
          -3.5826733,
          -5.508392,
          -2.9662776,
          -7.8076224,
          18.763226,
          -5.7264786,
          1.8165259,
          10.1026535,
          28.071732,
          16.223427,
          5.121299,
          12.281223,
          2.4807749,
          14.568016,
          -10.750704,
          -4.9361014,
          14.599122,
          -6.243715,
          3.3944647,
          -16.376856,
          -6.5019317,
          -11.009443,
          -11.309505,
          -8.586798,
          1.043499,
          -7.963947,
          5.8112354,
          -15.964168,
          -4.610266,
          -17.80254,
          -6.8556867,
          -2.3118465,
          15.680012,
          17.906538,
          -14.571883,
          2.7742932,
          -8.033228,
          -2.4918709,
          17.299633,
          -14.401071,
          1.2123724,
          -15.714417,
          -4.7042136,
          -10.888756,
          -6.799454,
          -17.028526,
          6.7047386,
          -19.612795,
          -5.8474154,
          -5.734202,
          -12.231625,
          -7.4778786,
          5.4619555,
          22.104504,
          -6.7964816,
          5.081824,
          -16.545935,
          4.517625,
          -1.5473362,
          5.346147,
          3.2021472,
          -15.867619,
          -3.0574987,
          -7.2817245,
          -11.775833
         ],
         "xaxis": "x",
         "y": [
          11.448447,
          -11.90033,
          -17.726484,
          0.04916386,
          11.173839,
          9.592157,
          -4.9842086,
          1.8738294,
          -4.545696,
          12.809741,
          4.4230204,
          20.507427,
          -13.263184,
          -14.607033,
          9.244372,
          -1.5166507,
          2.031413,
          -7.0444946,
          -14.843006,
          -0.91564286,
          2.595869,
          -6.9589925,
          -2.2260067,
          -1.7276226,
          -7.478745,
          -14.900622,
          -14.595087,
          11.451364,
          0.2450228,
          -1.9945409,
          -1.3349384,
          -4.2156315,
          -12.69674,
          -9.881491,
          3.8749259,
          -10.39103,
          -0.06715079,
          3.5285106,
          -1.2650431,
          -14.914597,
          14.563278,
          -6.6198754,
          -5.951002,
          5.9900093,
          -18.11581,
          4.8324914,
          -12.332615,
          14.728536,
          7.48089,
          2.7431173,
          8.467482,
          9.716771,
          1.1615003,
          7.8363404,
          -2.20999,
          -2.5612261,
          -15.504969,
          -18.161598,
          0.37076095,
          4.6931067,
          13.734764,
          -5.7477727,
          6.1127367,
          -2.1128845,
          13.019242,
          14.688759,
          -9.657635,
          -3.914673,
          -11.677908,
          2.777625,
          -6.579374,
          18.212591,
          17.882399,
          -2.2267768,
          2.050419,
          4.2591066,
          17.263174,
          -0.36411443,
          3.9243882,
          -11.306034,
          14.395666,
          -0.20948724,
          6.3978047,
          -5.180744,
          -15.822575,
          -14.763291,
          -5.539048,
          -13.051293,
          2.6126842,
          15.569722,
          -14.262763,
          9.707285,
          19.80564,
          -11.153227,
          5.3700395,
          1.610522,
          3.1482046,
          1.2065475,
          17.84614,
          -0.5368035,
          13.036316,
          7.562649,
          6.9885106,
          -13.024524,
          5.7727766,
          3.7569158,
          0.56580615,
          -12.6963,
          1.5741789,
          -9.303042,
          -4.7982144,
          17.576817,
          12.649833,
          6.628314,
          11.075708,
          -14.265122,
          -5.546795,
          -4.748767,
          8.812914,
          -17.072935,
          -12.995799,
          -8.920177,
          -2.243495,
          -7.9557505,
          4.988687,
          -7.233613,
          7.413464,
          0.4654009,
          -12.206197,
          0.8103519,
          -4.133648,
          10.852962,
          6.137325,
          10.209909,
          3.9359815,
          -3.0428393,
          14.830498,
          -10.472456,
          -19.390892,
          12.84351,
          -7.5623283,
          -12.427455,
          3.5867374,
          -3.9747174,
          15.958325,
          -13.086017,
          20.384438,
          -16.07628,
          -0.2381299,
          -3.7915049,
          1.0208794,
          -11.303024,
          -0.57579964,
          -5.2732115,
          -1.2010432,
          9.178077,
          7.102889,
          -6.296685,
          18.119646,
          3.7228532,
          -5.094145,
          4.397957,
          14.065054,
          -12.871818,
          0.024895212,
          -4.7229996,
          -9.772041,
          -3.0902653,
          -12.713377,
          -0.69044626,
          -10.381471,
          -1.9236258,
          -0.024495585,
          -15.119437,
          -9.304644,
          2.8959103,
          3.7720897,
          11.186302,
          -1.1091954,
          5.62482,
          -10.7690735,
          -1.3552465,
          17.255335,
          -10.756041,
          -8.980712,
          -6.7426796,
          3.9111295,
          2.8149116,
          13.975036,
          11.902037,
          1.1665628,
          -15.84288,
          7.424512,
          -10.139407,
          1.5164803,
          11.1635895,
          21.252253,
          -2.8784366,
          -11.393628,
          -0.5847204,
          12.663458,
          -7.3630376,
          5.085451,
          -18.659245,
          7.460982,
          -7.9672694,
          2.4137096,
          -16.188047,
          -6.3311167,
          7.353965,
          -0.10992356,
          -14.603662,
          0.16371167,
          5.1533155,
          -12.226294,
          4.438448,
          9.120841,
          -7.9377036,
          6.975481,
          5.4431267,
          -7.858941,
          -8.167724,
          2.4644334,
          7.660012,
          -3.144243,
          12.436477,
          7.061451,
          4.864726,
          11.532183,
          5.7081904,
          -9.498012,
          -14.567182,
          9.38911,
          -2.5594614,
          2.6163766,
          -13.503748,
          -12.045612,
          7.191132,
          7.5229793,
          -7.335113,
          10.7316475,
          -1.9187502,
          0.9183457,
          11.940344,
          7.0912724,
          2.2497046,
          5.7782583,
          3.2345724,
          -10.32319,
          5.7445245,
          2.9872465,
          7.78746,
          -14.235854,
          -4.8241143,
          2.4804347,
          7.7504287,
          7.73399,
          5.693511,
          -15.805218,
          14.859089,
          23.233664,
          -11.724966,
          5.850931,
          11.416922,
          0.68811953,
          0.029793762,
          4.627912,
          2.2708006,
          4.6107597,
          4.7323904,
          26.071867,
          9.887569,
          14.504816,
          3.4957423,
          3.175159,
          -7.5434737,
          -7.349172,
          2.4945107,
          -17.270191,
          -9.21089,
          1.5258248,
          -0.37830564,
          -13.545977,
          -2.677739,
          11.244747,
          2.2626524,
          1.1865482,
          1.4315047,
          6.718399,
          18.656654,
          2.4837642,
          13.635156,
          -11.039904,
          -3.3796697,
          2.0929813,
          -11.102181,
          1.4831569,
          -3.4826443,
          14.903085,
          13.417363,
          4.585158,
          2.944105,
          1.8756661,
          10.013494,
          16.549992,
          4.654138,
          12.135424,
          3.6536863,
          13.60956,
          -9.016586,
          18.735966,
          -10.691126,
          -5.089957,
          -6.90723,
          7.912068,
          6.6622124,
          1.043165,
          12.39731,
          2.069086,
          0.36381167,
          4.133334,
          0.03485167,
          3.699592,
          17.446186,
          18.659374,
          -6.1588254,
          -0.4613324,
          -1.5174227,
          12.937901,
          -12.344242,
          11.336161,
          2.6535265,
          -10.215978,
          -10.376876,
          -12.098559,
          -0.9439599,
          1.9830726,
          8.747278,
          3.649658,
          7.541156,
          14.380606,
          3.5230205,
          -14.529403,
          3.4038892,
          -3.6234396,
          -13.173015,
          1.3005471,
          13.282023,
          0.081239134,
          22.692839,
          4.1161256,
          -10.957238,
          7.7069893,
          -13.072399,
          0.116333775,
          14.61849,
          0.036427565,
          -4.411513,
          -11.226275,
          3.0619502,
          3.700136,
          14.69393,
          8.955089,
          -10.168278,
          4.6936636,
          -1.5987625,
          -4.838843,
          8.57595,
          -14.622733,
          8.226377,
          -0.58955973,
          -6.9554715,
          -12.721811,
          -10.271537
         ],
         "yaxis": "y"
        },
        {
         "hovertemplate": "label=nevus<br>pc1=%{x}<br>pc2=%{y}<extra></extra>",
         "legendgroup": "nevus",
         "marker": {
          "color": "#EF553B",
          "opacity": 0.8,
          "symbol": "circle"
         },
         "mode": "markers",
         "name": "nevus",
         "showlegend": true,
         "type": "scattergl",
         "x": [
          -15.871541,
          -14.487321,
          14.980704,
          8.410769,
          -15.495972,
          18.098032,
          19.581583,
          -6.69915,
          5.8270006,
          -9.871721,
          3.1707294,
          -6.509666,
          -11.098567,
          -5.3628397,
          -16.267002,
          -15.857355,
          -6.1545362,
          -13.722516,
          -7.0175247,
          -7.8227644,
          5.396009,
          22.10661,
          1.4390062,
          -3.1644197,
          -9.533032,
          -4.080171,
          -9.608261,
          -13.530128,
          19.549404,
          -12.298177,
          4.99332,
          3.4540706,
          -9.998882,
          -4.5743213,
          -3.0042384,
          -0.2186878,
          2.7851143,
          -10.388153,
          3.0200322,
          7.5049124,
          -3.2266412,
          7.230878,
          -2.2386792,
          2.3547873,
          1.6992795,
          -8.556003,
          13.58042,
          0.84289193,
          -4.6206846,
          19.547817,
          -3.1277664,
          25.201246,
          15.814738,
          0.10538569,
          28.206264,
          7.672829,
          -10.449428,
          -15.365729,
          -15.372008,
          -2.5839415,
          -9.063814,
          -8.855386,
          0.9061266,
          0.55480283,
          1.5066416,
          5.7416573,
          26.682516,
          -5.30968,
          -4.743642,
          -6.0524306,
          -6.6923695,
          -15.455813,
          3.9887323,
          -7.0881076,
          2.3522096,
          -8.081247,
          -1.4380559,
          -13.600888,
          -7.3975625,
          -11.477742,
          -10.279505,
          17.973612,
          8.271141,
          -0.30655885,
          -11.214066,
          18.470114,
          -14.248081,
          -5.6669483,
          10.129369,
          -2.4873786,
          16.355534,
          8.210163,
          -11.542518,
          -1.7877494,
          -14.184677,
          -11.830129,
          -15.240639,
          -9.206758,
          -8.2629,
          -6.4897943,
          -3.0447595,
          6.76959,
          10.662218,
          -5.8299613,
          14.091754,
          -11.401515,
          -14.687927,
          -5.0616584,
          -14.811191,
          7.345021,
          24.195534,
          -0.41572493,
          -7.575928,
          26.60434,
          -12.477075,
          28.142439,
          -0.7764738,
          26.722626,
          19.037563,
          -6.743262,
          1.0575231,
          -6.3039055,
          -12.3933,
          14.8902445,
          -10.8358135,
          -1.053371,
          10.941719,
          1.3665978,
          -4.887734,
          12.4187765,
          -3.3406334,
          -2.731835,
          -7.104311,
          3.4247663,
          -14.038583,
          -7.9779534,
          25.00021,
          3.8815794,
          -7.9043193,
          10.432945,
          -7.0350223,
          24.285917,
          -14.99457,
          -6.6514816,
          1.956086,
          4.2368,
          2.9125695,
          -9.179759,
          8.688152,
          22.53978,
          0.5844917,
          22.185844,
          -10.636867,
          -7.3051205,
          -11.179015,
          -4.8154573,
          -13.039937,
          0.504252,
          22.328743,
          10.338734,
          -9.547692,
          6.5319743,
          5.854078,
          -2.8487332,
          -17.539782,
          11.584432,
          -5.470409,
          -7.5798025,
          -4.9357014,
          1.1467657,
          13.043767,
          -8.820367,
          -5.0755973,
          3.4335587,
          -2.7982047,
          -5.7042627,
          -1.2200304,
          -6.5966463,
          -15.21368,
          -4.0767274,
          -1.1948166,
          -5.8393383,
          -2.8604481,
          10.690614,
          10.522026,
          4.8370304,
          -8.9347315,
          0.77246815,
          -8.328991,
          3.1670883,
          2.128609,
          -9.432686,
          -2.404211,
          -11.821837,
          7.4936895,
          -8.217367,
          11.3579645,
          -5.913906,
          -6.434836,
          -13.075897,
          7.5665536,
          -4.0350246,
          -6.075429,
          -16.774603,
          -7.375108,
          -6.453823,
          -8.457847,
          -15.9049015,
          20.341536,
          -5.2671423,
          -13.608937,
          15.198468,
          -9.346017,
          13.989969,
          16.0488,
          -0.73913467,
          -9.823927,
          -14.383626,
          -14.804412,
          -13.283136,
          -3.3149097,
          -9.221551,
          0.8045517,
          -10.166944,
          -4.6862793,
          5.4528594,
          7.9979105,
          4.7421045,
          -6.343522,
          -4.542818,
          1.7624043,
          11.616859,
          -13.109298,
          -1.3868023,
          -0.636707,
          0.077262335,
          9.969726,
          2.2563353,
          -7.867885,
          -6.8640494,
          1.7666967,
          -17.838572,
          -15.546044,
          24.48807,
          -8.736547,
          -12.982132,
          -7.3896227,
          12.307619,
          -3.7001543,
          -12.9073515,
          -2.8566978,
          -4.946354,
          10.513146,
          -10.830779,
          -0.5972091,
          -17.838907,
          2.336295,
          12.587637,
          -12.889504,
          15.508101,
          6.0381474,
          26.487812,
          -16.735401,
          -5.350525,
          -13.769104,
          12.469689,
          1.4526198,
          -11.008934,
          2.8320165,
          27.454153,
          -3.9695466,
          -10.809375,
          -2.6932297,
          9.529413,
          4.0877743,
          3.542311,
          -14.725923,
          -14.593262,
          31.182161,
          -14.964161,
          16.418161,
          -7.627814,
          -6.105996,
          -5.916458,
          2.8511026,
          -10.185974,
          4.9052315,
          -1.1657668,
          20.230745,
          4.332676,
          -14.155603,
          -1.3733134,
          0.59136605,
          20.971952,
          8.147305,
          -14.617767,
          19.661684,
          3.5953846,
          -6.9738474,
          -3.9373336,
          -5.836415,
          18.19579,
          -1.2268064,
          -9.742543,
          -13.906688,
          8.643498,
          8.771657,
          10.963327,
          6.133914,
          -6.55704,
          -1.5378064,
          -10.893608,
          -6.1818423,
          -14.191103,
          15.95151,
          -11.235509,
          20.979128,
          -9.2507305,
          -15.377852,
          0.77149534,
          -12.624462,
          -6.7756734,
          -4.384824,
          -2.9901237,
          -13.09026,
          -9.195889,
          21.170828,
          21.752031,
          12.5057955,
          -7.6655297,
          -3.1774294,
          -9.1179495,
          -5.522287,
          -9.193665,
          5.6934543,
          -15.676272,
          -4.159678,
          3.2702289,
          6.6472955,
          -7.6561284,
          -3.771856,
          10.062881,
          -7.1011605,
          -15.001755,
          -7.8034973,
          -15.935405,
          1.133404,
          4.4249935,
          -0.7951893,
          3.074819,
          7.9967833,
          21.543966,
          2.1346881,
          -11.483913,
          14.963626,
          -3.3991816,
          -12.1664,
          -16.429235,
          -10.709004,
          4.0722885,
          -10.333723,
          32.8102,
          1.751488,
          8.916665,
          6.527657,
          0.04697354,
          2.1965258,
          7.0819383,
          7.5601177,
          -14.094823,
          -14.209078,
          3.1814034,
          4.412394,
          4.0129642,
          -12.620348,
          -16.662422,
          6.437378,
          10.042171,
          -5.9833894,
          -3.5689752,
          0.8577837,
          -12.357379,
          -8.181002,
          -5.488995,
          -0.94754493,
          -2.4436445,
          29.803003,
          -1.4338347,
          5.2360606,
          -6.023118,
          7.692341,
          3.540561,
          17.548521,
          -14.67988,
          1.3336022,
          -0.9952339,
          29.6006,
          8.884634,
          -3.95815,
          -1.2095186,
          -10.937326,
          -1.0835952,
          -4.623146,
          -16.405325,
          -8.062545,
          15.930859,
          -4.6565537,
          12.208531,
          0.6274998,
          4.083492,
          -19.194914,
          3.6109998,
          -13.069035,
          18.656862,
          15.139529,
          -13.318244,
          -0.58182144,
          8.93496,
          -5.461072,
          13.514425,
          -10.02439,
          -8.034749,
          4.317218,
          1.650429,
          0.4219636,
          -3.9983184,
          -8.494119,
          -10.338879,
          27.326727,
          -17.112942,
          4.5055532,
          -1.8773823,
          -10.8308525,
          -0.98995364,
          0.42689228,
          -13.451184,
          -14.29618,
          14.045449,
          -9.811935,
          10.108997,
          1.9784037,
          -13.919305,
          -3.6283329,
          -5.0086393,
          3.2333481,
          -16.50087,
          3.4774725,
          4.0187407,
          3.5387921,
          -7.862919,
          -11.7625475,
          5.581806,
          8.173925,
          -2.6035602,
          -6.371347,
          -17.514196,
          -9.818952,
          7.7403765,
          1.0021782,
          -11.367899,
          -3.2483776,
          19.891357,
          -6.380884,
          -16.248388,
          18.659626,
          0.010726029,
          26.764637,
          12.472086,
          10.692598,
          7.401983,
          9.14475,
          17.951336,
          -7.5997677,
          -12.874969,
          -12.158545,
          17.408587,
          -13.331185,
          3.5710654,
          -7.338322,
          -17.001875,
          19.723188,
          13.884944,
          4.3638954,
          6.794826,
          7.525909,
          9.24344,
          1.132077,
          11.737295,
          1.4732487,
          0.3657781,
          -17.27208,
          0.7415352,
          2.9293008,
          6.6965127,
          -6.6183677,
          8.3372135,
          19.700901,
          7.5914907,
          -0.6004503,
          -0.4163719,
          -13.401895,
          -10.713252,
          8.541762,
          -4.5954285,
          -14.842057,
          5.2995605,
          -13.526218,
          -17.77447,
          -2.7681746,
          -2.2897546,
          -0.93161297,
          -4.3053913,
          10.699976,
          -2.0357163,
          -9.01453,
          7.2392263,
          0.111367516,
          -6.9349065,
          -2.2863536,
          -12.313345,
          3.9074955,
          -0.9209039,
          -8.805104,
          -2.6473176,
          3.172548,
          -10.247913,
          5.1402917,
          -6.784203,
          3.6487007,
          19.636454,
          -13.790417,
          14.378749,
          -1.1865522,
          7.949699,
          -12.749537,
          -10.275351,
          -1.4440782,
          -6.176543,
          -2.4509015,
          -10.053996,
          -16.605978,
          11.985028,
          2.7685192,
          11.134992,
          11.498727,
          -15.299218,
          -12.840956,
          21.810345,
          -9.697136,
          -1.4798007,
          -3.688958,
          -7.2350116,
          -8.892191,
          -4.0782337,
          2.0528045,
          18.944958,
          -19.50322,
          -6.3014717,
          -8.792972,
          -6.555412,
          7.3756742,
          6.994771,
          -3.570173,
          -1.280947,
          3.5419645,
          6.5260754,
          0.2340127,
          21.434336,
          5.200845,
          -8.213883,
          -1.3279546,
          5.0660543,
          -8.191191,
          -0.3442946,
          0.92653805,
          -2.8950963,
          -3.3954306,
          25.187584,
          -13.210052,
          4.9367633,
          -13.7523775,
          2.2745094,
          -7.6975055,
          -11.148959,
          -2.9625607,
          -4.8538523,
          -9.853813,
          -11.524527,
          -7.334995,
          12.661712,
          -0.7459615,
          1.6271963,
          -10.038555,
          -8.137588,
          -4.109075,
          -4.4361396,
          8.816013,
          14.009512,
          -5.168301,
          14.322146,
          -1.1666124,
          2.5233757,
          -14.999834,
          -16.933903,
          -12.16922,
          4.6406903,
          8.194257,
          -11.011759,
          -13.673489,
          4.7194853,
          -4.369768,
          4.19966,
          8.517666,
          3.590023,
          11.750903,
          6.6843505,
          9.470455,
          -1.3858002,
          2.2601805,
          -6.497864,
          -2.2972007,
          -7.9747252,
          12.527143,
          -6.0871124,
          -5.589505,
          5.7479215,
          18.805353,
          0.9323204,
          -6.487813,
          -15.131411,
          1.9300498,
          6.4026065,
          4.150969,
          -2.3331547,
          -12.372577,
          13.576079,
          0.6325775,
          -1.2576411,
          0.8224462,
          -7.3657403,
          0.81402,
          8.950957,
          25.538057,
          -4.4630537,
          -3.9573004,
          -1.4264326,
          5.1650653,
          -5.209882,
          -1.9816891,
          -3.6138482,
          14.577595,
          -7.8568068,
          -10.690924,
          -15.526516,
          -9.895541,
          3.787061,
          -10.397395,
          -13.640926,
          -12.098247,
          -10.8549595,
          -2.4178033,
          -7.4405212,
          7.3614945,
          1.2461014,
          -15.087355,
          -11.2079525,
          -3.9296234,
          2.0622923,
          -8.73982,
          -14.989411,
          4.3370757,
          -16.65979,
          3.2368393,
          24.273886,
          -10.764739,
          -1.9512717,
          4.1689243,
          30.60305,
          -14.888172,
          2.5564833,
          12.160037,
          -0.07329693,
          4.0704536,
          -1.5616221,
          0.73883075,
          -10.45992,
          15.882367,
          -4.386458,
          -14.0283985,
          10.215232,
          10.88352,
          1.9225595,
          1.624673,
          -15.146953,
          3.0864873,
          4.058619,
          -0.5876828,
          -9.349653,
          12.326962,
          -12.257474,
          -9.494573,
          0.46573168,
          -16.998611,
          -16.74541,
          -7.3232245,
          -17.274965,
          -9.2561,
          -9.602735,
          27.68753,
          -2.4352043,
          7.6904616,
          -7.043733,
          -3.442144,
          19.204786,
          -2.0840905,
          12.833285,
          -13.976597,
          10.688637,
          -12.193624,
          -6.2658434,
          -1.4840466,
          2.6194255,
          6.54191,
          -15.782802,
          -1.2002476,
          1.9040451,
          15.193352,
          -18.048315,
          2.3739035,
          2.6308944,
          8.964182,
          -1.1955127,
          5.9291925,
          13.211786,
          25.924328,
          -4.454166,
          -0.5059269,
          -14.713055,
          3.2526793,
          11.926081,
          2.6453404,
          -7.030544,
          2.490473,
          -1.1273038,
          6.9030848,
          -14.778095,
          -7.764213,
          9.06311,
          -14.542814,
          -6.4693127,
          9.961068,
          -14.467036,
          -10.457,
          21.973192,
          8.009367,
          19.69944,
          -2.1368384,
          4.168334,
          -14.09242,
          -5.7649612,
          3.4083188,
          -15.681847,
          -14.9201565,
          -7.886585,
          -14.850849,
          -9.268914,
          -16.659609,
          6.237163,
          6.9076743,
          -1.0861505,
          -3.7700322,
          7.1602235,
          -2.4434016,
          -2.7224061,
          -5.5293865,
          -7.3417244,
          9.70196,
          -10.040018,
          -9.865538,
          8.390179,
          19.340052,
          -1.6279004,
          23.48037,
          -2.1146102,
          -17.81242,
          -1.0828117,
          -3.5720303,
          2.2277248,
          1.8368522,
          -13.98377,
          4.1117873,
          -16.98924,
          10.372934,
          7.2946568,
          -12.468798,
          -7.8183513,
          5.862546,
          18.819027,
          -14.642114,
          -0.35906222,
          1.6620411,
          5.1129956,
          23.369102,
          10.310129,
          5.930997,
          -2.0794952,
          -0.547817,
          -1.6905649,
          3.0451925,
          -0.2525939,
          -15.434948,
          -15.384497,
          -4.7642345,
          -0.90209043,
          0.23198582,
          -12.603723,
          0.26290157,
          6.0002866,
          -0.22720328,
          -0.1152551,
          6.236709,
          10.34787,
          12.156414,
          -6.4939103,
          -15.708549,
          2.4707255,
          -12.977582,
          -4.9091153,
          -4.17006,
          -5.1883965,
          -5.700614,
          -12.997326,
          14.977274,
          -9.80424,
          15.142553,
          -9.69207,
          -6.0204225,
          -14.146691,
          23.862532,
          -2.003639,
          -10.236393,
          -4.0555954,
          4.17111,
          15.288159,
          -11.217778,
          3.8803203,
          7.5475273,
          1.1255252,
          -11.399419,
          -0.9007605,
          -5.783204,
          7.4677744,
          14.937485,
          4.6979575,
          0.40445238,
          -8.795957,
          22.602682,
          -2.4668674,
          -16.608593,
          5.989161,
          20.197466,
          -11.3181,
          7.8834515,
          4.4349847,
          -4.620535,
          10.924134,
          10.42821,
          -2.944427,
          2.8729107,
          20.25566,
          -18.338785,
          -2.71902,
          15.739871,
          -13.781512,
          -5.966309,
          0.82384557,
          -12.357972,
          -2.3358958,
          6.319286,
          13.557446,
          1.4774642,
          -1.2977134,
          -12.744881,
          4.613215,
          15.289913,
          -13.766973,
          11.857998,
          -8.8236265,
          12.737484,
          13.1206665,
          -4.3678,
          -1.3053339,
          1.6897278,
          -2.9514413,
          -17.990938,
          -5.5066686,
          -2.3976016,
          -5.3015532,
          -1.1006817,
          -14.24213,
          -7.5138464,
          -2.0333664,
          8.042364,
          -0.19478463,
          -6.2669945,
          -7.4456077,
          8.276091,
          8.320753,
          11.982632,
          21.78876,
          -5.345933,
          -1.922111,
          -12.310401,
          -17.389713,
          -3.1369889,
          -4.800814,
          3.6036181,
          15.916995,
          9.53416,
          -11.400468,
          12.074036,
          -13.647316,
          3.3488972,
          4.385004,
          6.382792,
          -4.6100707,
          1.8115861,
          -10.27275,
          7.384321,
          10.185747,
          1.0106754,
          13.551378,
          12.431735,
          10.694911,
          8.97414,
          2.9228485,
          4.399259,
          -9.993646,
          -15.419886,
          9.80534,
          -5.470924,
          -5.9530635,
          -10.682567,
          14.48339,
          9.045275,
          8.051504,
          21.46411,
          5.868833,
          -4.1929727,
          19.454624,
          -4.0426455,
          13.207858,
          -17.702768,
          -17.136942,
          18.311596,
          -14.235609,
          19.478046,
          -10.333679,
          3.9256546,
          -12.096094,
          23.069027,
          13.803928,
          8.065235,
          5.1270204,
          17.949198,
          -3.8561084,
          31.073677,
          8.625254,
          2.9301267,
          -7.6588163,
          -2.9386785,
          -3.1503687,
          11.708183,
          8.162387,
          -5.907602,
          -9.69971,
          -5.2724686,
          9.2578535,
          -9.683071,
          -7.926103,
          20.282164,
          4.180433,
          5.464185,
          -6.636283,
          17.071243,
          5.082735,
          28.671581,
          13.374645,
          -0.8309306,
          -0.14553489,
          -6.3162184,
          -5.7688165,
          -1.0318402,
          5.506337,
          -5.6828136,
          26.59745,
          12.049759,
          -11.552133,
          6.7733583,
          9.988952,
          17.459826,
          7.588697,
          8.480744,
          -6.6994286,
          1.6575212,
          17.773094,
          -3.5805686,
          -9.789319,
          -16.46252,
          -7.383093,
          6.553678,
          -0.41878867,
          1.0641156,
          1.6108171,
          10.534445,
          19.53758,
          -4.0650845,
          -4.150049,
          11.913605,
          -7.857821,
          -16.320877,
          -3.228639,
          1.5681502,
          -3.6557603,
          -12.651868,
          -14.967943,
          -2.8726852,
          -3.17437,
          -18.649149,
          -0.90802073,
          -6.259886,
          22.58591,
          -12.183609,
          -8.33185,
          -17.167316,
          17.798052,
          2.5359635,
          8.178692,
          8.455194,
          18.639164,
          2.7092729,
          -8.685821,
          20.742222,
          -0.08704627,
          8.8665285,
          -0.70570105,
          -4.94538,
          -14.089487,
          -6.0975804,
          -5.049421,
          9.171163,
          4.9703836,
          -0.8581679,
          -4.6760325,
          -5.010878,
          0.8529514,
          -6.7543693,
          -0.6683163,
          -0.6792589,
          -7.5390916,
          -13.7012825,
          -4.774224,
          5.8338194,
          0.68716806,
          2.010123,
          5.486556,
          -3.56012,
          -13.876563,
          0.48533466,
          -12.7245455,
          2.3280697,
          11.198809,
          -10.0485735,
          -17.224792,
          11.239338,
          7.8150916,
          -3.382582,
          -8.104617,
          -3.9029114,
          -16.727158,
          0.9283289,
          -8.228946,
          9.593168,
          7.628582,
          -3.298756,
          -9.679289,
          -12.899844,
          4.4842234,
          0.55651265,
          -8.368694,
          3.5566144,
          13.392042,
          9.08688,
          -3.7004437,
          2.9695773,
          -7.8039393,
          5.167333,
          18.060461,
          12.236327,
          -2.1124084,
          3.649425,
          0.5843685,
          11.667373,
          2.9196007,
          7.9252186,
          -2.2303877,
          -8.71141,
          -3.7128963,
          -14.281972,
          13.222082,
          -8.089397,
          -4.37032,
          -3.7173145,
          19.542215,
          -3.3087637,
          1.0184909,
          8.745282,
          6.793903,
          6.9710846,
          10.083668,
          -8.0240755,
          22.76091,
          -7.5368176,
          -12.062124,
          1.821454,
          -11.899046,
          13.926261,
          -12.733322,
          -4.954289,
          -9.03823,
          -6.5251126,
          13.368923,
          -4.382714,
          12.3429165,
          6.6670604,
          -1.0115923,
          -13.54917,
          5.8465824,
          -0.9824255,
          -14.536029,
          21.682924,
          2.0932386,
          -6.6592484,
          16.883844,
          14.840434,
          -2.6687932,
          -7.9715943,
          -7.743327,
          -7.690855,
          -6.0983925,
          1.9002961,
          -6.7883224,
          -11.599591,
          -4.77757,
          -15.775223,
          -5.4960814,
          19.335432,
          3.6272326,
          7.2453423,
          -5.257036,
          -15.160703,
          4.6570253,
          21.903326,
          -1.6496296,
          -12.24096,
          -9.2555,
          28.959126,
          4.751669,
          15.458192,
          -0.07059851,
          4.955093,
          17.31068,
          -11.055808,
          -2.1649594,
          0.09456839,
          -10.254255,
          -2.1550682,
          -4.3358393,
          4.727701,
          -13.0966015,
          -1.2940964,
          -6.5033236,
          1.3842363,
          0.7251825,
          -16.125187,
          -9.746637,
          -10.567216,
          7.8663635,
          -7.8332114,
          5.3525915,
          -0.42928097,
          -7.0977063,
          -16.728945,
          5.4021597,
          1.5670829,
          2.0134706,
          -11.370524,
          -3.9342582,
          -2.4437857,
          0.5476155,
          -5.9815626,
          8.052543,
          10.114272,
          11.636403,
          -1.8244331,
          -0.2681632,
          -2.3114078,
          -6.7071753,
          7.721325,
          1.5782192,
          -13.32562,
          -12.3886595,
          -7.463447,
          -7.5682206,
          -6.382199,
          -15.597651,
          -7.7302566,
          -15.874278,
          -9.26825,
          -15.333998,
          9.182534,
          -15.0791235,
          -6.6970277,
          -1.1058179,
          3.2720604,
          7.1116476,
          3.9392874,
          -0.07249606,
          -3.1413875,
          5.185525,
          -0.05653382,
          -6.886753,
          4.638399,
          -14.346512,
          6.2486124,
          -6.7619834,
          2.4997509,
          26.933813,
          6.347707,
          7.5950794,
          4.979649,
          1.0315099,
          -9.632108,
          1.8686684,
          25.162169,
          2.683252,
          17.775316,
          8.939843,
          -8.011215,
          -10.037843,
          14.835606,
          -1.6716741,
          -2.8872824,
          10.08028,
          -7.976612,
          -12.332892,
          1.0177941,
          -4.4751544,
          -10.76939,
          -5.049162,
          -3.9454074,
          2.2910688,
          -13.3286295,
          5.016791,
          13.680558,
          29.019554,
          12.686812,
          17.765518,
          -15.766314,
          4.49036,
          1.3695992,
          0.62556165,
          9.04154,
          20.796646,
          26.30284,
          3.9137428,
          7.262351,
          12.947292,
          -3.5839727,
          -0.6148518,
          -2.2377896,
          17.763935,
          -10.112179,
          -10.14191,
          8.367838,
          -8.865506,
          -6.593877,
          -13.139495,
          14.220641,
          22.177649,
          10.982087,
          11.765737,
          -9.719544,
          4.1119695,
          -4.309742,
          5.3504863,
          -0.88328624,
          -3.6353903,
          7.444208,
          -0.033655092,
          3.4884775,
          -1.3306789,
          -1.3610207,
          -16.31274,
          -5.072963,
          1.513616,
          -0.82283473,
          13.498137,
          7.4521565,
          15.01894,
          15.246424,
          -8.551117,
          6.711272,
          -1.9371437,
          3.3962915,
          -2.1914768,
          10.63923,
          8.634662,
          15.201809,
          -4.6287265,
          -9.251175,
          -3.653963,
          0.5932011,
          -5.502599,
          -13.886569,
          18.121008,
          -5.414819,
          2.114958,
          20.515154,
          13.353436,
          -1.9684056,
          -6.1479588,
          -9.09628,
          16.872223,
          13.955318,
          0.66369355,
          -13.064187,
          2.544533,
          0.8513352,
          22.92561,
          -6.171916,
          9.045421,
          -8.558486,
          2.4413483,
          11.516718,
          -7.6420884,
          0.7801641,
          3.8743691,
          7.516137,
          3.7282088,
          -0.39017648,
          -3.6626902,
          1.4172093,
          -16.001173,
          3.3003836,
          16.806623,
          7.416854,
          -12.126888,
          20.876137,
          0.5672253,
          5.773507,
          -6.899999,
          18.486609,
          6.900393,
          -13.095107,
          -15.591893,
          1.427422,
          -1.933216,
          3.812354,
          2.1758592,
          4.009971,
          -13.74204
         ],
         "xaxis": "x",
         "y": [
          -1.619097,
          -0.83632016,
          -3.8896382,
          10.159348,
          -2.1112041,
          16.537584,
          1.975204,
          -8.605287,
          -6.983712,
          0.095908836,
          3.4093616,
          -8.866401,
          -3.6519017,
          7.800159,
          7.4549294,
          1.0455705,
          11.570292,
          9.162284,
          5.4541135,
          8.983871,
          -2.4442496,
          -4.227057,
          11.246559,
          -14.487282,
          7.4886885,
          -1.8553504,
          6.8082595,
          12.825031,
          0.08821976,
          5.756373,
          -9.762761,
          -8.752094,
          8.176296,
          0.9436198,
          -0.58106536,
          2.7631855,
          -6.8886156,
          2.4891567,
          2.1602218,
          5.238331,
          0.22983582,
          -17.39016,
          3.1708388,
          19.260382,
          -6.114371,
          -5.5889106,
          5.8829627,
          2.773752,
          -1.325619,
          11.304634,
          -9.825523,
          -0.9753233,
          1.3921907,
          -0.3261701,
          10.643406,
          -6.0572605,
          5.78113,
          2.834506,
          0.07895082,
          -5.770992,
          -9.814882,
          2.7010622,
          8.838864,
          -11.856293,
          13.848991,
          -17.592506,
          7.301314,
          0.7935426,
          8.487174,
          -7.930578,
          14.593255,
          6.68197,
          -16.224405,
          19.74332,
          -0.65987927,
          14.29001,
          1.2070929,
          1.7318966,
          16.050858,
          5.5084243,
          0.19706911,
          11.331574,
          -1.282817,
          8.130533,
          -2.7346804,
          -8.465285,
          -4.3573484,
          -3.9252024,
          7.4942093,
          10.142057,
          9.717844,
          0.05316512,
          -6.662625,
          -11.940225,
          -3.2554414,
          7.852919,
          -1.3253993,
          6.813203,
          0.84456474,
          7.5915256,
          -15.790879,
          3.081364,
          -17.24675,
          2.224462,
          2.925158,
          -0.1863668,
          -1.7444451,
          4.844163,
          4.4615345,
          -11.114114,
          0.6177328,
          -14.749201,
          2.3518815,
          7.864524,
          -2.8107193,
          14.017448,
          -15.410107,
          12.683451,
          0.45540696,
          7.00086,
          11.028811,
          -2.7938113,
          -2.2138643,
          3.109466,
          1.8575591,
          0.5429523,
          -0.04037852,
          1.7339962,
          4.9960814,
          3.4960887,
          -3.78236,
          6.3159885,
          -7.324509,
          2.931186,
          13.878047,
          13.211219,
          11.093974,
          1.0679437,
          1.2926407,
          -6.394066,
          9.22362,
          6.990119,
          2.8553505,
          12.594613,
          -0.6781072,
          -12.081703,
          -18.051956,
          14.864019,
          -10.502735,
          1.5890044,
          -18.501375,
          0.9421548,
          16.41216,
          10.203182,
          3.4171271,
          17.0029,
          6.107563,
          -4.2527,
          7.604456,
          3.048787,
          11.051458,
          1.0032148,
          4.483518,
          11.620681,
          4.4573236,
          8.974243,
          11.05611,
          -0.012060694,
          -0.027328447,
          9.784548,
          6.935156,
          -9.381942,
          -16.113123,
          6.6545706,
          20.66837,
          18.138365,
          -0.04805687,
          -0.4339592,
          1.1434885,
          6.950388,
          0.09182828,
          -14.91807,
          4.6712985,
          2.2595522,
          -19.506575,
          -11.245633,
          -1.5315149,
          8.43159,
          0.075655155,
          -15.686234,
          0.10076104,
          13.212578,
          14.575987,
          3.1752465,
          5.83712,
          5.3085513,
          3.3129373,
          11.476345,
          7.727028,
          -0.4855465,
          -9.687586,
          8.61523,
          -9.627281,
          8.723148,
          -7.0742097,
          -10.867502,
          -2.302338,
          2.6797562,
          0.47049746,
          -14.883015,
          4.9082956,
          -3.8632736,
          4.779055,
          -6.526349,
          8.459514,
          -3.2134678,
          -6.7554407,
          -7.761127,
          2.8601031,
          0.057583597,
          -10.338881,
          -11.720275,
          -12.517212,
          1.8604287,
          14.432227,
          -10.397933,
          12.926841,
          19.689829,
          -11.478656,
          5.586477,
          -11.466007,
          10.345252,
          1.6797543,
          -11.839879,
          -6.485369,
          7.4264774,
          25.089119,
          -15.256389,
          -0.297067,
          -9.495321,
          -19.504835,
          1.1751137,
          -4.1379457,
          11.844446,
          10.274815,
          -1.7431831,
          0.67064553,
          0.59905255,
          -14.896573,
          -5.9734836,
          -14.732404,
          19.887962,
          18.788454,
          7.7209826,
          -1.1935455,
          -0.55211747,
          16.786728,
          2.0003967,
          -1.5536758,
          11.819941,
          -16.123816,
          0.8443797,
          1.3949666,
          -15.218124,
          8.993669,
          4.258516,
          19.656385,
          12.170577,
          21.030548,
          11.930393,
          -11.359993,
          2.4230027,
          0.11287357,
          21.262262,
          -11.637336,
          -12.385322,
          4.929026,
          -0.37152365,
          16.085278,
          1.453021,
          0.08284019,
          -7.2687464,
          -9.898437,
          -0.8205806,
          -18.368452,
          4.5589275,
          7.9348707,
          -0.96597505,
          17.403429,
          6.51035,
          2.1754737,
          2.1672068,
          8.050276,
          2.2995462,
          7.559741,
          2.2148669,
          9.04455,
          -3.5620186,
          18.142931,
          -0.34835356,
          -3.446843,
          14.557066,
          8.627614,
          11.246519,
          6.859784,
          -16.860094,
          -7.6339974,
          -4.9580965,
          12.493625,
          0.81538266,
          -14.119315,
          1.7771678,
          15.953499,
          5.908876,
          17.042095,
          5.71672,
          8.10776,
          3.3233411,
          2.585718,
          0.34132218,
          7.059401,
          -12.416829,
          14.340222,
          12.2534075,
          1.9206028,
          2.1579137,
          8.263952,
          1.1308377,
          -10.8263035,
          12.110851,
          8.21375,
          3.237571,
          -12.914187,
          -12.631538,
          -18.335894,
          5.4074993,
          7.2264585,
          -3.0158007,
          -19.229801,
          5.942576,
          -4.720041,
          -15.755039,
          -2.8484504,
          0.56356335,
          4.2876477,
          1.6358584,
          0.49688965,
          -11.784825,
          -1.4466113,
          -4.9712315,
          2.403563,
          2.2150352,
          -11.18876,
          -2.8845549,
          18.776964,
          0.48876074,
          4.292249,
          1.8842938,
          -1.5650812,
          13.316251,
          3.2321334,
          -4.9630027,
          1.7581241,
          -20.74293,
          7.6679626,
          12.915628,
          -0.014192325,
          -9.728446,
          -7.0185747,
          7.7887707,
          2.3135948,
          1.3121881,
          -13.379261,
          -11.868606,
          9.750367,
          5.3983035,
          -4.7602835,
          6.7114496,
          1.5685699,
          12.096647,
          -16.399878,
          1.9105053,
          -4.090594,
          -10.56652,
          -9.08635,
          15.132223,
          13.597214,
          -14.5921545,
          -14.990745,
          2.0501897,
          -8.4182,
          14.648477,
          1.3331647,
          0.5341143,
          5.632553,
          -6.9581947,
          11.195832,
          -2.9171386,
          -6.637034,
          -10.310894,
          7.8051987,
          0.44712475,
          -1.5871067,
          3.319293,
          -5.667288,
          3.908726,
          5.897334,
          -7.264265,
          -16.926048,
          5.798012,
          -0.55937517,
          -3.2448084,
          5.3997893,
          -5.7549486,
          -4.5103498,
          -3.7885444,
          22.581015,
          1.9858319,
          -9.908759,
          2.9880834,
          7.228927,
          5.221216,
          -15.288245,
          -3.6857607,
          13.047699,
          5.900539,
          -1.7392755,
          -4.3147326,
          -2.9805703,
          6.582583,
          1.0106232,
          -6.862199,
          1.2407651,
          5.4443583,
          -13.523355,
          -1.132798,
          3.1737697,
          -3.891983,
          -0.5817427,
          -2.1614573,
          7.7755966,
          -0.7300823,
          3.9299567,
          -8.1967945,
          -12.940007,
          4.818248,
          -0.56171376,
          -10.649734,
          -1.472104,
          11.589292,
          -1.89916,
          -2.8011408,
          -8.808704,
          -0.3184686,
          -1.3186487,
          -5.555347,
          0.32966965,
          5.460679,
          7.4417143,
          11.93854,
          -14.218321,
          1.3985289,
          15.624119,
          -0.20156628,
          -0.023846151,
          -8.142196,
          8.83718,
          -0.96751446,
          -2.266191,
          4.149673,
          4.766227,
          1.4644397,
          1.7193753,
          -0.9277523,
          5.483067,
          1.2653079,
          2.2989645,
          18.580778,
          9.626971,
          0.49117517,
          3.5289977,
          0.74619275,
          -16.69869,
          -4.8533034,
          5.4159155,
          -0.7389647,
          20.50626,
          -15.531669,
          1.3739412,
          2.644819,
          -0.80103135,
          -3.5941172,
          -2.1705744,
          7.722986,
          -10.79272,
          -14.313225,
          7.8814025,
          -3.9289997,
          -9.108946,
          -5.9133987,
          8.27747,
          -1.4738799,
          -14.677582,
          -13.730938,
          4.2262673,
          4.6062465,
          -3.8799207,
          2.163788,
          -1.5072334,
          11.890587,
          11.825732,
          2.5009744,
          2.5296032,
          9.763655,
          5.1798615,
          -14.322821,
          14.625494,
          -2.6152074,
          -0.24333031,
          0.8487313,
          18.43106,
          -0.2378237,
          -4.587624,
          -2.2990599,
          22.095015,
          6.581758,
          -11.61527,
          8.611873,
          -11.087767,
          -10.91542,
          9.34156,
          -1.9566209,
          -13.118078,
          -17.610294,
          16.13835,
          6.3219957,
          7.6234846,
          -5.5392795,
          -10.034072,
          7.729454,
          -2.6281679,
          -10.620681,
          1.0821218,
          1.3617051,
          2.8277872,
          0.9302287,
          7.4730387,
          1.2359805,
          5.566937,
          -4.703294,
          0.48683882,
          1.7878462,
          8.360386,
          5.6698,
          -9.001755,
          13.338329,
          -2.3768616,
          -7.4120526,
          -10.697101,
          4.292106,
          -20.790674,
          -12.07635,
          -11.632327,
          -1.1892223,
          9.981393,
          -13.926561,
          8.710133,
          1.9284486,
          -15.191306,
          14.234552,
          0.59808,
          -17.00648,
          6.1268563,
          9.551742,
          -0.98964983,
          8.81282,
          13.589602,
          19.923653,
          -0.89238846,
          -7.507896,
          -3.502414,
          -17.45733,
          2.1762156,
          9.537215,
          5.3812876,
          -8.25534,
          -4.23013,
          5.171076,
          15.551515,
          0.6945962,
          12.999899,
          -2.9877112,
          7.307662,
          2.2046573,
          -9.118554,
          6.379919,
          3.6601942,
          5.303328,
          -8.17395,
          -4.3875623,
          10.855287,
          -7.615044,
          -4.8631825,
          2.3727503,
          -1.47243,
          -6.1434746,
          -0.069151044,
          5.685115,
          5.730329,
          -16.986,
          -7.384931,
          15.772922,
          -8.62923,
          -1.3597049,
          2.0402594,
          10.94729,
          -11.355093,
          18.29601,
          -12.839503,
          8.191541,
          9.983186,
          -3.9935734,
          2.516259,
          -1.9813162,
          3.665779,
          -10.6106,
          1.7872263,
          13.082993,
          5.2964673,
          -2.8302803,
          8.510866,
          -15.419536,
          -1.0771511,
          -11.7140045,
          -3.6763177,
          5.6576157,
          14.45906,
          -15.369791,
          -11.533455,
          6.3626666,
          12.811672,
          13.482757,
          8.211024,
          14.120174,
          3.6024308,
          -5.0495787,
          -13.927951,
          -14.420469,
          5.5228453,
          17.422394,
          2.325179,
          -8.687109,
          4.8807964,
          5.5418296,
          -1.8335222,
          0.83057344,
          -3.232319,
          1.1397454,
          2.34619,
          4.687575,
          -10.608177,
          -4.2429533,
          -13.965238,
          -0.48186922,
          8.080819,
          3.1430686,
          10.965637,
          -4.433405,
          14.569478,
          9.7358675,
          9.084347,
          -1.1070569,
          1.8051214,
          -4.3528132,
          9.140053,
          -14.552065,
          -10.621497,
          15.692332,
          7.1153445,
          -11.936138,
          19.0728,
          -0.25604218,
          -13.9349575,
          9.382963,
          19.654991,
          6.1467533,
          -5.03114,
          4.689968,
          10.816066,
          4.096247,
          -11.223463,
          5.8918,
          19.424656,
          3.5512192,
          14.750435,
          -9.349809,
          -1.989187,
          -3.52122,
          -19.816446,
          8.9805,
          -8.763458,
          -10.2260895,
          -0.6454065,
          4.997705,
          7.5142307,
          -2.266873,
          7.5620003,
          -1.6997174,
          13.727591,
          -4.423823,
          17.667706,
          -8.269399,
          16.683512,
          -9.211177,
          -11.289035,
          8.463799,
          1.6800396,
          2.5432386,
          -3.910049,
          11.934114,
          -0.22636841,
          -14.97437,
          25.191706,
          2.9100387,
          15.099279,
          -9.221137,
          5.724181,
          0.93657863,
          0.0113202,
          -6.5940747,
          -2.3999903,
          -14.993274,
          10.930051,
          10.685158,
          13.286708,
          -2.1534326,
          -1.0034847,
          -3.6114752,
          -13.233933,
          9.758201,
          -5.2133865,
          6.5057907,
          -13.879652,
          -1.6569198,
          -11.626155,
          1.7390255,
          -0.22202624,
          -20.897606,
          -1.3814194,
          -4.830944,
          -7.070323,
          1.279991,
          4.9906497,
          -1.9734533,
          -6.5357733,
          11.98478,
          -12.951909,
          2.79881,
          2.189223,
          10.980737,
          -12.117225,
          7.4901466,
          -0.17364545,
          -0.68284684,
          1.2905954,
          2.7483792,
          1.4074552,
          21.923288,
          -0.16419971,
          -9.01372,
          4.931871,
          -4.938782,
          20.699863,
          -13.067161,
          7.9035645,
          -2.820078,
          -16.10251,
          7.598764,
          1.1374857,
          -3.6836681,
          4.813319,
          -5.3333545,
          1.5801966,
          -8.159515,
          -1.0975349,
          2.2810175,
          -11.676462,
          -13.938441,
          3.209054,
          7.722446,
          3.074708,
          2.9646723,
          -4.591029,
          -1.1057885,
          2.2118387,
          13.278729,
          24.495417,
          2.259317,
          1.2837976,
          1.1285915,
          -9.339822,
          20.40789,
          3.8459034,
          3.4173033,
          -0.9091373,
          4.2717357,
          -1.2284554,
          -14.032316,
          2.0967414,
          -7.687939,
          10.517408,
          5.88783,
          -12.6276455,
          -6.8269987,
          8.27467,
          1.1246392,
          -5.288628,
          -4.175531,
          -10.477328,
          -1.2011683,
          -8.761029,
          1.406959,
          -4.491933,
          -8.372871,
          6.4495754,
          -9.191224,
          9.2039,
          -15.357674,
          -13.059225,
          5.1149297,
          -1.1369106,
          -2.8607197,
          -10.157074,
          4.6893306,
          9.038344,
          6.1001062,
          9.226704,
          -4.143424,
          8.805798,
          -10.045941,
          3.1280284,
          -12.055987,
          7.2880497,
          -12.1898,
          5.175823,
          2.7086592,
          -9.636947,
          5.6062527,
          -2.859307,
          -2.073879,
          -0.62262934,
          -17.75894,
          -9.820171,
          8.455964,
          -13.555438,
          5.4584103,
          5.7955165,
          4.800211,
          2.4912634,
          2.288109,
          10.418532,
          1.2538934,
          2.44215,
          -11.591282,
          -11.169973,
          -19.678875,
          -8.621805,
          5.4514494,
          -11.068865,
          16.596016,
          2.2872014,
          7.1645722,
          0.8702867,
          6.5292645,
          -9.085677,
          -5.833784,
          8.346929,
          1.6021149,
          -18.563969,
          7.107882,
          11.34109,
          -13.792631,
          -0.40442863,
          14.9233055,
          2.543031,
          4.317401,
          7.7611165,
          5.3731074,
          5.6523066,
          -5.4325433,
          13.292164,
          21.329266,
          -10.880685,
          -0.20430002,
          -3.9386284,
          19.206413,
          -16.440037,
          6.7467694,
          -14.145393,
          6.6057906,
          -9.095341,
          1.6523418,
          -6.10676,
          -0.18324263,
          18.603138,
          15.649651,
          -15.029753,
          -12.552181,
          4.9313498,
          -2.7497473,
          -1.6261256,
          6.0701604,
          0.8410989,
          -0.3082841,
          2.2764294,
          -4.4266777,
          -13.98327,
          7.0836244,
          -6.984123,
          -6.148731,
          6.155773,
          -1.8800573,
          -15.758249,
          12.6175375,
          2.3244264,
          -7.310774,
          -12.541503,
          0.49226803,
          9.005672,
          -23.596754,
          -8.481688,
          8.938999,
          11.215148,
          -7.2956896,
          15.774843,
          -5.0948176,
          14.781248,
          -2.4101174,
          5.1763787,
          -9.8307295,
          7.7309237,
          5.2139454,
          1.5378318,
          7.974655,
          17.790262,
          -19.835464,
          1.2751541,
          9.101696,
          -17.079145,
          0.46298814,
          -8.55266,
          3.7549424,
          -1.5411956,
          3.3746674,
          0.8428767,
          -1.9101429,
          10.493057,
          -10.923033,
          -9.991314,
          -1.929549,
          -3.300394,
          -14.057527,
          -7.431434,
          -5.1933026,
          12.166934,
          5.675475,
          12.107761,
          -6.680959,
          1.8136387,
          -8.674763,
          -1.4139984,
          8.573721,
          -3.494019,
          19.44665,
          2.7155123,
          2.9207804,
          0.21419068,
          -6.0755334,
          5.9381056,
          5.3307624,
          8.6914215,
          -15.4797945,
          4.27778,
          1.5983548,
          24.78651,
          1.1552281,
          10.307991,
          -3.3933003,
          6.3813767,
          2.0426702,
          14.537914,
          -5.933794,
          3.01844,
          -10.157447,
          12.450841,
          5.957937,
          4.3325806,
          -0.29554033,
          -17.368042,
          3.4571996,
          -0.39275253,
          0.9127071,
          -11.946183,
          10.1619835,
          1.2345792,
          8.416268,
          -9.219664,
          -2.3784308,
          -2.939996,
          -13.475169,
          17.304176,
          -10.401269,
          1.3634318,
          -11.751798,
          -3.7122478,
          7.3552475,
          -13.438294,
          6.906894,
          20.746346,
          -5.2747097,
          3.0159323,
          -6.370888,
          -14.72492,
          -7.831233,
          2.2763457,
          2.1322544,
          -10.703855,
          16.963627,
          0.8859704,
          -10.524135,
          -6.0463057,
          -0.733113,
          -2.2171493,
          -7.6728745,
          -3.8771994,
          10.127385,
          -20.677717,
          6.1441503,
          -3.9763515,
          1.5769163,
          4.199088,
          -10.371843,
          7.7305546,
          12.133371,
          -5.7097898,
          -12.439756,
          -9.483667,
          6.256299,
          -0.8870053,
          9.084556,
          -9.984652,
          -18.419298,
          3.23575,
          0.29694363,
          17.366182,
          3.4069703,
          -4.3461657,
          -3.809759,
          1.0690356,
          3.7270634,
          8.428585,
          -8.612115,
          2.5908978,
          -4.527708,
          -0.08511467,
          -5.992248,
          -9.857669,
          -1.9310576,
          14.681578,
          9.4498,
          9.828185,
          19.941813,
          0.17942788,
          -0.84376407,
          0.6610213,
          -2.065214,
          15.468301,
          4.063136,
          -6.5568266,
          -4.5403557,
          15.185315,
          20.01186,
          17.10095,
          -1.2532486,
          0.9759595,
          11.714667,
          9.900389,
          9.783031,
          -15.978861,
          14.544994,
          -11.373906,
          6.8171124,
          5.1398325,
          -1.4223629,
          -6.8197856,
          -8.056625,
          12.476721,
          0.41613886,
          -8.13893,
          5.992913,
          -15.01402,
          -9.91292,
          -2.9147272,
          -12.930462,
          -11.493864,
          1.6717812,
          -11.666771,
          -0.8532453,
          -1.312411,
          9.717595,
          5.3312087,
          5.1550455,
          -2.5971766,
          -0.99204147,
          -12.996296,
          7.4657397,
          -3.088731,
          -7.403896,
          -15.562946,
          -9.378593,
          7.860998,
          6.139218,
          -8.259473,
          8.0905485,
          -11.349838,
          -2.3563921,
          1.233645,
          10.628132,
          3.0745604,
          14.171102,
          -2.700346,
          2.3600018,
          9.962705,
          15.834331,
          -2.1271443,
          -14.447961,
          8.500107,
          17.99891,
          -0.060813412,
          7.5471473,
          -0.5875845,
          -1.3103601,
          8.912726,
          3.72407,
          2.9552608,
          9.053581,
          -13.794704,
          12.034437,
          1.0633374,
          -1.7370883,
          -7.877432,
          0.05241977,
          10.32484,
          -14.429413,
          -3.8092277,
          10.379553,
          13.408386,
          -2.8159711,
          -2.018648,
          8.447272,
          -6.0692377,
          -2.3971372,
          4.6852083,
          -5.0035105,
          -4.602097,
          3.3701973,
          9.198476,
          23.205807,
          -9.724799,
          -10.862853,
          9.808582,
          16.730848,
          8.072763,
          13.347978,
          6.72178,
          -0.3873269,
          -7.9314966,
          -11.31492,
          -0.62799346,
          -3.2024107,
          19.25377,
          -11.662235,
          17.924957,
          1.5996754,
          -0.14063549,
          6.6555967,
          11.603353,
          1.9516687,
          13.75804,
          -16.185406,
          17.922163,
          -8.657294,
          -1.2584838,
          -10.661809,
          -9.477863,
          2.6568491,
          6.25524,
          5.019418,
          -1.99038,
          6.2476892,
          -6.975005,
          -11.913959,
          8.089387,
          4.0158606,
          12.363979,
          0.15998608,
          12.353454,
          6.5757236,
          12.576162,
          3.3312945,
          5.0349092,
          2.7502167,
          4.9619102,
          1.1635767,
          1.6990727,
          10.0041485,
          -8.312414,
          2.2209642,
          3.3611698,
          0.15646252,
          1.3067415,
          5.7979503,
          9.802708,
          2.3211844,
          4.7991424,
          8.400907,
          -0.43751946,
          6.075216,
          16.576073,
          -14.449365,
          -11.655786,
          10.888861,
          -6.46362,
          6.6842566,
          1.4721562,
          5.3640757,
          -13.030897,
          10.0145035,
          6.413725,
          -18.51613,
          0.053345073,
          13.675941,
          -10.507184,
          -0.27672845,
          3.3253536,
          -0.15009375,
          13.384211,
          -21.784374,
          8.800696,
          8.383354,
          1.7544017,
          -10.043056,
          -16.36046,
          -2.647022,
          -2.0248766,
          6.008406,
          7.381301,
          13.866139,
          3.211102,
          1.0561367,
          -13.405827,
          3.7483532,
          4.3774166,
          -6.9197893,
          4.1770434,
          5.1369677,
          -0.17518516,
          7.0233603,
          -0.8354724,
          10.054956,
          4.440766,
          -14.7693205,
          -18.401722,
          14.2047825,
          5.237638,
          -1.348072,
          -13.448768,
          7.414155,
          4.8382516,
          -19.164152,
          9.556765,
          7.3756423,
          -1.8581532,
          5.791045,
          0.45301652,
          -13.161713,
          13.579562,
          0.9805511,
          -9.916827,
          20.389849,
          -3.0287952,
          20.253674,
          6.350211,
          -7.090271,
          0.2572596,
          -19.212093,
          11.596204,
          6.9423923,
          15.3613,
          -2.045182,
          -19.71746,
          -3.241182,
          12.47109,
          10.291234,
          0.8215481,
          -1.3836334,
          3.367958,
          -6.2544546,
          -5.9069357,
          -4.5739655,
          3.6621284,
          0.17334019,
          4.536842,
          -11.457527,
          -14.235703,
          -8.111508,
          2.71373,
          4.918989,
          2.0542078,
          -3.8286326,
          10.935611,
          2.5751884,
          14.695939,
          -7.553282,
          0.59764373,
          -13.923331,
          -11.34222,
          -11.457623,
          -3.7217019,
          -0.525916,
          -11.018926,
          3.9804204,
          0.6019131,
          3.4042397,
          0.22796212,
          -0.23613195,
          1.2419882,
          16.792873,
          -3.481317,
          8.054723,
          -11.267529,
          -7.215335,
          1.3560461,
          5.1310067,
          10.679861,
          -6.814465,
          3.8362641,
          -11.289727,
          0.26669368,
          -19.375694,
          0.8304533,
          17.530727,
          -9.528008,
          2.217618,
          3.0561612,
          0.62175435,
          5.832148,
          14.624548,
          5.3423967,
          -12.880988,
          -4.1695695,
          -2.1684604,
          -11.9071045,
          1.6608824,
          12.807183,
          7.9347053,
          20.002605,
          -0.20106229,
          9.917195,
          0.81190044,
          24.724188,
          6.3086867
         ],
         "yaxis": "y"
        },
        {
         "hovertemplate": "label=seborrheic_keratosis<br>pc1=%{x}<br>pc2=%{y}<extra></extra>",
         "legendgroup": "seborrheic_keratosis",
         "marker": {
          "color": "#00cc96",
          "opacity": 0.8,
          "symbol": "circle"
         },
         "mode": "markers",
         "name": "seborrheic_keratosis",
         "showlegend": true,
         "type": "scattergl",
         "x": [
          8.167216,
          8.038165,
          2.2231545,
          15.903718,
          -1.8281213,
          -4.982855,
          -0.7565044,
          1.2114204,
          -15.734076,
          -7.71919,
          -0.022333616,
          1.4140908,
          -4.403878,
          10.997551,
          5.143972,
          -4.0830154,
          -1.3720913,
          16.124067,
          -13.512509,
          16.201569,
          7.8493686,
          -16.93455,
          -12.8654995,
          -13.732735,
          27.259651,
          0.6516887,
          -5.6919184,
          11.7379465,
          10.551591,
          -1.8743645,
          0.16754138,
          -5.8891315,
          -8.264598,
          -5.543777,
          -13.540396,
          -3.5639038,
          8.33444,
          14.832452,
          10.390151,
          22.936659,
          10.484747,
          12.431096,
          8.706161,
          11.019764,
          -3.9662437,
          -2.6294549,
          -5.1915007,
          -7.330033,
          -2.2477124,
          2.2132201,
          11.788165,
          6.288612,
          20.535126,
          -3.4030635,
          -8.229986,
          -8.982411,
          13.518373,
          1.7568456,
          10.8432045,
          1.8972574,
          19.162386,
          -7.1613946,
          0.44351456,
          0.17794068,
          20.140219,
          0.5725768,
          31.580719,
          8.940897,
          28.371296,
          2.5573642,
          11.431783,
          3.4059129,
          -0.26517433,
          -0.110351056,
          8.56071,
          19.70014,
          9.175212,
          13.885604,
          23.852278,
          9.227133,
          7.2797885,
          -0.1522976,
          14.230641,
          14.852852,
          -1.5471253,
          -3.0333452,
          10.85449,
          -3.9145453,
          6.4959326,
          7.821993,
          11.393698,
          20.663538,
          -0.10912071,
          13.347605,
          -4.480664,
          -2.8667514,
          17.12473,
          -9.520738,
          18.334581,
          8.392579,
          -7.1218834,
          -3.6969984,
          -9.732258,
          -8.089686,
          -7.6113167,
          10.091803,
          8.892265,
          -4.905565,
          5.7437363,
          4.069288,
          -12.748913,
          -9.305479,
          15.27327,
          5.134894,
          5.275573,
          13.144037,
          9.9240675,
          -6.089548,
          -8.474778,
          9.498556,
          -6.731902,
          -13.30583,
          1.5745326,
          -0.16626377,
          -4.13454,
          -1.7749081,
          12.042901,
          10.579493,
          -1.9904284,
          9.3689375,
          -8.80858,
          8.309447,
          6.2331505,
          -14.255144,
          1.166874,
          9.546153,
          12.906251,
          -5.9280486,
          6.188005,
          -0.29397282,
          -5.2365813,
          9.663402,
          -1.1444005,
          -10.311623,
          11.199813,
          -7.2093406,
          7.941861,
          -4.5530353,
          23.449123,
          -10.06242,
          -6.6022243,
          3.3920932,
          8.938511,
          -6.33334,
          7.479548,
          12.252827,
          10.948243,
          13.197841,
          22.755886,
          1.9479725,
          -1.9259139,
          6.7146792,
          7.7800417,
          3.7104921,
          1.7022088,
          21.101498,
          18.313465,
          7.2549872,
          16.59829,
          7.9690065,
          2.343241,
          10.494965,
          -11.239974,
          19.842007,
          1.6661978,
          18.916555,
          3.7080545,
          -0.4963189,
          -5.2806664,
          -2.4401202,
          -0.1768194,
          -5.775368,
          2.6828773,
          -0.19433878,
          7.4353175,
          -13.606156,
          -7.6961718,
          12.677365,
          13.05345,
          -0.6349121,
          -12.419774,
          26.157988,
          12.595901,
          18.347126,
          -7.6804175,
          16.543547,
          6.430681,
          -9.259325,
          20.240887,
          3.926057,
          -2.2589972,
          -0.45673722,
          -7.9724703,
          12.789328,
          6.8865137,
          0.5396374,
          4.6097407,
          7.582655,
          2.7446766,
          4.077904,
          -3.4024787,
          1.6016464,
          0.9745994,
          2.638091,
          4.816458,
          -2.5346391,
          8.442858,
          16.824795,
          9.842339,
          -3.6157174,
          -3.2448666,
          1.1760738,
          3.5845191,
          4.679201,
          0.42015997,
          -4.1388154,
          12.121426,
          -3.163381,
          3.2040377,
          14.579624,
          -0.23491098,
          -1.3918437,
          -3.0436006,
          -5.2721105,
          26.392431,
          5.5550046,
          -1.4697889,
          11.308224,
          -5.8505974,
          6.759877,
          8.868732,
          2.235517,
          8.265168,
          10.799186,
          3.4728677,
          5.5998187,
          -3.60159,
          10.490006,
          -8.995856,
          8.901565,
          25.730095,
          13.397177,
          -2.069222,
          -0.50064117
         ],
         "xaxis": "x",
         "y": [
          -9.196067,
          -9.382149,
          -7.0356283,
          -5.334832,
          3.6574092,
          10.208025,
          -11.68202,
          6.8187623,
          -4.0645795,
          -10.869849,
          -10.999799,
          12.822757,
          -14.42167,
          4.862692,
          -9.758564,
          -8.092618,
          -12.189208,
          -12.330704,
          -0.9294026,
          -1.7352018,
          -8.832143,
          -3.7370658,
          3.5410588,
          5.2313695,
          -4.058348,
          6.062656,
          -4.03648,
          -3.4576225,
          -12.681152,
          -3.7082303,
          -7.960122,
          -14.68693,
          -9.522303,
          -1.6295402,
          3.4951837,
          5.122327,
          -15.297515,
          -1.5315455,
          -8.261474,
          -1.7516662,
          -4.0335135,
          1.5012126,
          -6.536494,
          -9.664022,
          -10.966995,
          -8.971085,
          -9.518777,
          -2.5957868,
          -15.60839,
          -15.4573555,
          -12.272759,
          -11.457287,
          -4.213172,
          -11.824269,
          -13.121871,
          -5.792399,
          -15.92905,
          14.125764,
          10.13457,
          -10.94718,
          1.4642068,
          -8.206004,
          -6.791777,
          -4.089976,
          4.146219,
          11.420712,
          8.641291,
          -4.6905217,
          12.442901,
          -16.506844,
          -8.018962,
          -16.820389,
          -16.346209,
          -13.293012,
          -0.23191218,
          11.276473,
          -3.268914,
          -11.421724,
          5.711668,
          -14.0987015,
          -12.28527,
          3.87945,
          -1.1994286,
          7.0948114,
          -12.068015,
          10.148737,
          6.500106,
          -11.515624,
          -4.0982666,
          -15.70588,
          6.5232544,
          0.3416066,
          4.458821,
          -7.972848,
          -4.3001842,
          -14.897848,
          6.1325946,
          -0.9159977,
          -5.4709635,
          -18.206812,
          -12.67383,
          -7.2536135,
          -5.197791,
          6.8882957,
          -3.7166288,
          -13.754894,
          -12.406367,
          6.1678205,
          -18.275658,
          -5.5383935,
          -7.9006124,
          -11.245645,
          -12.185167,
          -16.793486,
          6.2961917,
          -1.3707235,
          19.45375,
          -13.74997,
          -2.2236164,
          -12.688465,
          -4.3931003,
          -0.08873145,
          1.5862451,
          -3.3751829,
          -7.364618,
          -16.322535,
          -2.64011,
          -14.220013,
          -13.077271,
          3.7640865,
          -5.586121,
          -2.815159,
          -2.445308,
          -3.9488103,
          -9.557946,
          -20.62762,
          -5.2931213,
          -1.7661746,
          -15.228943,
          -14.107572,
          -7.6016893,
          -7.392874,
          -11.603855,
          -3.200163,
          -6.8952284,
          -13.637149,
          -3.9398632,
          -13.688085,
          10.790902,
          4.632269,
          -14.543526,
          -4.5778713,
          2.2769408,
          -2.191728,
          -2.948805,
          -5.3869834,
          15.770447,
          3.6713037,
          1.4266809,
          -15.076878,
          -11.046535,
          -4.2985396,
          -5.002608,
          1.6440779,
          3.8142793,
          1.6926442,
          -3.0568404,
          -6.5619674,
          -2.254552,
          -3.9991028,
          12.434441,
          3.2594419,
          3.0728672,
          5.553633,
          -2.681563,
          -1.3021296,
          -12.547615,
          -11.2250185,
          -9.567669,
          -15.839565,
          -5.1196465,
          -13.629173,
          -3.5949852,
          -8.250586,
          -11.239489,
          -4.4152036,
          7.2241726,
          -6.545135,
          19.103365,
          -13.50123,
          -0.030686881,
          1.084718,
          -0.8507641,
          -13.472752,
          -11.455906,
          -0.24224123,
          -4.359127,
          -11.996876,
          12.105192,
          -8.3972,
          -18.535223,
          -13.632103,
          -5.8189487,
          -8.940182,
          17.74381,
          -12.683318,
          -6.1270385,
          -9.953677,
          -9.22575,
          -12.7495775,
          -3.917587,
          -14.253108,
          -9.470179,
          -4.269438,
          -15.118167,
          -4.291981,
          8.749858,
          0.541473,
          -8.452492,
          -5.887875,
          -9.870092,
          -8.36905,
          -13.740076,
          3.681323,
          -10.25581,
          -15.760149,
          -10.7847,
          -4.5776906,
          10.5724125,
          -6.454723,
          -8.596101,
          -7.9939165,
          -0.43024248,
          5.5220575,
          -0.13916919,
          -1.6947277,
          -4.188717,
          -17.03897,
          -10.7625675,
          -4.7519064,
          -0.6096922,
          -16.30942,
          -0.44628173,
          -5.5672326,
          -7.299064,
          -4.0343227,
          -10.85244,
          -13.179413,
          -6.552409,
          -5.8956637,
          9.3725395,
          -11.405504,
          -1.2957072,
          -8.436306
         ],
         "yaxis": "y"
        }
       ],
       "layout": {
        "legend": {
         "title": {
          "text": "label"
         },
         "tracegroupgap": 0
        },
        "template": {
         "data": {
          "bar": [
           {
            "error_x": {
             "color": "#2a3f5f"
            },
            "error_y": {
             "color": "#2a3f5f"
            },
            "marker": {
             "line": {
              "color": "#E5ECF6",
              "width": 0.5
             },
             "pattern": {
              "fillmode": "overlay",
              "size": 10,
              "solidity": 0.2
             }
            },
            "type": "bar"
           }
          ],
          "barpolar": [
           {
            "marker": {
             "line": {
              "color": "#E5ECF6",
              "width": 0.5
             },
             "pattern": {
              "fillmode": "overlay",
              "size": 10,
              "solidity": 0.2
             }
            },
            "type": "barpolar"
           }
          ],
          "carpet": [
           {
            "aaxis": {
             "endlinecolor": "#2a3f5f",
             "gridcolor": "white",
             "linecolor": "white",
             "minorgridcolor": "white",
             "startlinecolor": "#2a3f5f"
            },
            "baxis": {
             "endlinecolor": "#2a3f5f",
             "gridcolor": "white",
             "linecolor": "white",
             "minorgridcolor": "white",
             "startlinecolor": "#2a3f5f"
            },
            "type": "carpet"
           }
          ],
          "choropleth": [
           {
            "colorbar": {
             "outlinewidth": 0,
             "ticks": ""
            },
            "type": "choropleth"
           }
          ],
          "contour": [
           {
            "colorbar": {
             "outlinewidth": 0,
             "ticks": ""
            },
            "colorscale": [
             [
              0,
              "#0d0887"
             ],
             [
              0.1111111111111111,
              "#46039f"
             ],
             [
              0.2222222222222222,
              "#7201a8"
             ],
             [
              0.3333333333333333,
              "#9c179e"
             ],
             [
              0.4444444444444444,
              "#bd3786"
             ],
             [
              0.5555555555555556,
              "#d8576b"
             ],
             [
              0.6666666666666666,
              "#ed7953"
             ],
             [
              0.7777777777777778,
              "#fb9f3a"
             ],
             [
              0.8888888888888888,
              "#fdca26"
             ],
             [
              1,
              "#f0f921"
             ]
            ],
            "type": "contour"
           }
          ],
          "contourcarpet": [
           {
            "colorbar": {
             "outlinewidth": 0,
             "ticks": ""
            },
            "type": "contourcarpet"
           }
          ],
          "heatmap": [
           {
            "colorbar": {
             "outlinewidth": 0,
             "ticks": ""
            },
            "colorscale": [
             [
              0,
              "#0d0887"
             ],
             [
              0.1111111111111111,
              "#46039f"
             ],
             [
              0.2222222222222222,
              "#7201a8"
             ],
             [
              0.3333333333333333,
              "#9c179e"
             ],
             [
              0.4444444444444444,
              "#bd3786"
             ],
             [
              0.5555555555555556,
              "#d8576b"
             ],
             [
              0.6666666666666666,
              "#ed7953"
             ],
             [
              0.7777777777777778,
              "#fb9f3a"
             ],
             [
              0.8888888888888888,
              "#fdca26"
             ],
             [
              1,
              "#f0f921"
             ]
            ],
            "type": "heatmap"
           }
          ],
          "heatmapgl": [
           {
            "colorbar": {
             "outlinewidth": 0,
             "ticks": ""
            },
            "colorscale": [
             [
              0,
              "#0d0887"
             ],
             [
              0.1111111111111111,
              "#46039f"
             ],
             [
              0.2222222222222222,
              "#7201a8"
             ],
             [
              0.3333333333333333,
              "#9c179e"
             ],
             [
              0.4444444444444444,
              "#bd3786"
             ],
             [
              0.5555555555555556,
              "#d8576b"
             ],
             [
              0.6666666666666666,
              "#ed7953"
             ],
             [
              0.7777777777777778,
              "#fb9f3a"
             ],
             [
              0.8888888888888888,
              "#fdca26"
             ],
             [
              1,
              "#f0f921"
             ]
            ],
            "type": "heatmapgl"
           }
          ],
          "histogram": [
           {
            "marker": {
             "pattern": {
              "fillmode": "overlay",
              "size": 10,
              "solidity": 0.2
             }
            },
            "type": "histogram"
           }
          ],
          "histogram2d": [
           {
            "colorbar": {
             "outlinewidth": 0,
             "ticks": ""
            },
            "colorscale": [
             [
              0,
              "#0d0887"
             ],
             [
              0.1111111111111111,
              "#46039f"
             ],
             [
              0.2222222222222222,
              "#7201a8"
             ],
             [
              0.3333333333333333,
              "#9c179e"
             ],
             [
              0.4444444444444444,
              "#bd3786"
             ],
             [
              0.5555555555555556,
              "#d8576b"
             ],
             [
              0.6666666666666666,
              "#ed7953"
             ],
             [
              0.7777777777777778,
              "#fb9f3a"
             ],
             [
              0.8888888888888888,
              "#fdca26"
             ],
             [
              1,
              "#f0f921"
             ]
            ],
            "type": "histogram2d"
           }
          ],
          "histogram2dcontour": [
           {
            "colorbar": {
             "outlinewidth": 0,
             "ticks": ""
            },
            "colorscale": [
             [
              0,
              "#0d0887"
             ],
             [
              0.1111111111111111,
              "#46039f"
             ],
             [
              0.2222222222222222,
              "#7201a8"
             ],
             [
              0.3333333333333333,
              "#9c179e"
             ],
             [
              0.4444444444444444,
              "#bd3786"
             ],
             [
              0.5555555555555556,
              "#d8576b"
             ],
             [
              0.6666666666666666,
              "#ed7953"
             ],
             [
              0.7777777777777778,
              "#fb9f3a"
             ],
             [
              0.8888888888888888,
              "#fdca26"
             ],
             [
              1,
              "#f0f921"
             ]
            ],
            "type": "histogram2dcontour"
           }
          ],
          "mesh3d": [
           {
            "colorbar": {
             "outlinewidth": 0,
             "ticks": ""
            },
            "type": "mesh3d"
           }
          ],
          "parcoords": [
           {
            "line": {
             "colorbar": {
              "outlinewidth": 0,
              "ticks": ""
             }
            },
            "type": "parcoords"
           }
          ],
          "pie": [
           {
            "automargin": true,
            "type": "pie"
           }
          ],
          "scatter": [
           {
            "fillpattern": {
             "fillmode": "overlay",
             "size": 10,
             "solidity": 0.2
            },
            "type": "scatter"
           }
          ],
          "scatter3d": [
           {
            "line": {
             "colorbar": {
              "outlinewidth": 0,
              "ticks": ""
             }
            },
            "marker": {
             "colorbar": {
              "outlinewidth": 0,
              "ticks": ""
             }
            },
            "type": "scatter3d"
           }
          ],
          "scattercarpet": [
           {
            "marker": {
             "colorbar": {
              "outlinewidth": 0,
              "ticks": ""
             }
            },
            "type": "scattercarpet"
           }
          ],
          "scattergeo": [
           {
            "marker": {
             "colorbar": {
              "outlinewidth": 0,
              "ticks": ""
             }
            },
            "type": "scattergeo"
           }
          ],
          "scattergl": [
           {
            "marker": {
             "colorbar": {
              "outlinewidth": 0,
              "ticks": ""
             }
            },
            "type": "scattergl"
           }
          ],
          "scattermapbox": [
           {
            "marker": {
             "colorbar": {
              "outlinewidth": 0,
              "ticks": ""
             }
            },
            "type": "scattermapbox"
           }
          ],
          "scatterpolar": [
           {
            "marker": {
             "colorbar": {
              "outlinewidth": 0,
              "ticks": ""
             }
            },
            "type": "scatterpolar"
           }
          ],
          "scatterpolargl": [
           {
            "marker": {
             "colorbar": {
              "outlinewidth": 0,
              "ticks": ""
             }
            },
            "type": "scatterpolargl"
           }
          ],
          "scatterternary": [
           {
            "marker": {
             "colorbar": {
              "outlinewidth": 0,
              "ticks": ""
             }
            },
            "type": "scatterternary"
           }
          ],
          "surface": [
           {
            "colorbar": {
             "outlinewidth": 0,
             "ticks": ""
            },
            "colorscale": [
             [
              0,
              "#0d0887"
             ],
             [
              0.1111111111111111,
              "#46039f"
             ],
             [
              0.2222222222222222,
              "#7201a8"
             ],
             [
              0.3333333333333333,
              "#9c179e"
             ],
             [
              0.4444444444444444,
              "#bd3786"
             ],
             [
              0.5555555555555556,
              "#d8576b"
             ],
             [
              0.6666666666666666,
              "#ed7953"
             ],
             [
              0.7777777777777778,
              "#fb9f3a"
             ],
             [
              0.8888888888888888,
              "#fdca26"
             ],
             [
              1,
              "#f0f921"
             ]
            ],
            "type": "surface"
           }
          ],
          "table": [
           {
            "cells": {
             "fill": {
              "color": "#EBF0F8"
             },
             "line": {
              "color": "white"
             }
            },
            "header": {
             "fill": {
              "color": "#C8D4E3"
             },
             "line": {
              "color": "white"
             }
            },
            "type": "table"
           }
          ]
         },
         "layout": {
          "annotationdefaults": {
           "arrowcolor": "#2a3f5f",
           "arrowhead": 0,
           "arrowwidth": 1
          },
          "autotypenumbers": "strict",
          "coloraxis": {
           "colorbar": {
            "outlinewidth": 0,
            "ticks": ""
           }
          },
          "colorscale": {
           "diverging": [
            [
             0,
             "#8e0152"
            ],
            [
             0.1,
             "#c51b7d"
            ],
            [
             0.2,
             "#de77ae"
            ],
            [
             0.3,
             "#f1b6da"
            ],
            [
             0.4,
             "#fde0ef"
            ],
            [
             0.5,
             "#f7f7f7"
            ],
            [
             0.6,
             "#e6f5d0"
            ],
            [
             0.7,
             "#b8e186"
            ],
            [
             0.8,
             "#7fbc41"
            ],
            [
             0.9,
             "#4d9221"
            ],
            [
             1,
             "#276419"
            ]
           ],
           "sequential": [
            [
             0,
             "#0d0887"
            ],
            [
             0.1111111111111111,
             "#46039f"
            ],
            [
             0.2222222222222222,
             "#7201a8"
            ],
            [
             0.3333333333333333,
             "#9c179e"
            ],
            [
             0.4444444444444444,
             "#bd3786"
            ],
            [
             0.5555555555555556,
             "#d8576b"
            ],
            [
             0.6666666666666666,
             "#ed7953"
            ],
            [
             0.7777777777777778,
             "#fb9f3a"
            ],
            [
             0.8888888888888888,
             "#fdca26"
            ],
            [
             1,
             "#f0f921"
            ]
           ],
           "sequentialminus": [
            [
             0,
             "#0d0887"
            ],
            [
             0.1111111111111111,
             "#46039f"
            ],
            [
             0.2222222222222222,
             "#7201a8"
            ],
            [
             0.3333333333333333,
             "#9c179e"
            ],
            [
             0.4444444444444444,
             "#bd3786"
            ],
            [
             0.5555555555555556,
             "#d8576b"
            ],
            [
             0.6666666666666666,
             "#ed7953"
            ],
            [
             0.7777777777777778,
             "#fb9f3a"
            ],
            [
             0.8888888888888888,
             "#fdca26"
            ],
            [
             1,
             "#f0f921"
            ]
           ]
          },
          "colorway": [
           "#636efa",
           "#EF553B",
           "#00cc96",
           "#ab63fa",
           "#FFA15A",
           "#19d3f3",
           "#FF6692",
           "#B6E880",
           "#FF97FF",
           "#FECB52"
          ],
          "font": {
           "color": "#2a3f5f"
          },
          "geo": {
           "bgcolor": "white",
           "lakecolor": "white",
           "landcolor": "#E5ECF6",
           "showlakes": true,
           "showland": true,
           "subunitcolor": "white"
          },
          "hoverlabel": {
           "align": "left"
          },
          "hovermode": "closest",
          "mapbox": {
           "style": "light"
          },
          "paper_bgcolor": "white",
          "plot_bgcolor": "#E5ECF6",
          "polar": {
           "angularaxis": {
            "gridcolor": "white",
            "linecolor": "white",
            "ticks": ""
           },
           "bgcolor": "#E5ECF6",
           "radialaxis": {
            "gridcolor": "white",
            "linecolor": "white",
            "ticks": ""
           }
          },
          "scene": {
           "xaxis": {
            "backgroundcolor": "#E5ECF6",
            "gridcolor": "white",
            "gridwidth": 2,
            "linecolor": "white",
            "showbackground": true,
            "ticks": "",
            "zerolinecolor": "white"
           },
           "yaxis": {
            "backgroundcolor": "#E5ECF6",
            "gridcolor": "white",
            "gridwidth": 2,
            "linecolor": "white",
            "showbackground": true,
            "ticks": "",
            "zerolinecolor": "white"
           },
           "zaxis": {
            "backgroundcolor": "#E5ECF6",
            "gridcolor": "white",
            "gridwidth": 2,
            "linecolor": "white",
            "showbackground": true,
            "ticks": "",
            "zerolinecolor": "white"
           }
          },
          "shapedefaults": {
           "line": {
            "color": "#2a3f5f"
           }
          },
          "ternary": {
           "aaxis": {
            "gridcolor": "white",
            "linecolor": "white",
            "ticks": ""
           },
           "baxis": {
            "gridcolor": "white",
            "linecolor": "white",
            "ticks": ""
           },
           "bgcolor": "#E5ECF6",
           "caxis": {
            "gridcolor": "white",
            "linecolor": "white",
            "ticks": ""
           }
          },
          "title": {
           "x": 0.05
          },
          "xaxis": {
           "automargin": true,
           "gridcolor": "white",
           "linecolor": "white",
           "ticks": "",
           "title": {
            "standoff": 15
           },
           "zerolinecolor": "white",
           "zerolinewidth": 2
          },
          "yaxis": {
           "automargin": true,
           "gridcolor": "white",
           "linecolor": "white",
           "ticks": "",
           "title": {
            "standoff": 15
           },
           "zerolinecolor": "white",
           "zerolinewidth": 2
          }
         }
        },
        "title": {
         "text": "PCA of CNN Embeddings — Train (sampled)"
        },
        "xaxis": {
         "anchor": "y",
         "domain": [
          0,
          1
         ],
         "title": {
          "text": "PC1"
         }
        },
        "yaxis": {
         "anchor": "x",
         "domain": [
          0,
          1
         ],
         "title": {
          "text": "PC2"
         }
        }
       }
      }
     },
     "metadata": {},
     "output_type": "display_data"
    }
   ],
   "source": [
    "plot_class_distribution(df_train_cnn, \"Class Distribution — Train (CNN features)\")\n",
    "plot_class_distribution(df_valid_cnn, \"Class Distribution — Valid (CNN features)\")\n",
    "plot_class_distribution(df_test_cnn,  \"Class Distribution — Test (CNN features)\")\n",
    "\n",
    "plot_pca(df_train_cnn, \"PCA of CNN Embeddings — Train (sampled)\")"
   ]
  },
  {
   "cell_type": "code",
   "execution_count": 25,
   "id": "8fdefb0b",
   "metadata": {},
   "outputs": [
    {
     "data": {
      "text/html": [
       "<div>\n",
       "<style scoped>\n",
       "    .dataframe tbody tr th:only-of-type {\n",
       "        vertical-align: middle;\n",
       "    }\n",
       "\n",
       "    .dataframe tbody tr th {\n",
       "        vertical-align: top;\n",
       "    }\n",
       "\n",
       "    .dataframe thead th {\n",
       "        text-align: right;\n",
       "    }\n",
       "</style>\n",
       "<table border=\"1\" class=\"dataframe\">\n",
       "  <thead>\n",
       "    <tr style=\"text-align: right;\">\n",
       "      <th></th>\n",
       "      <th>precision</th>\n",
       "      <th>recall</th>\n",
       "      <th>f1-score</th>\n",
       "      <th>support</th>\n",
       "    </tr>\n",
       "  </thead>\n",
       "  <tbody>\n",
       "    <tr>\n",
       "      <th>melanoma</th>\n",
       "      <td>0.519</td>\n",
       "      <td>0.467</td>\n",
       "      <td>0.491</td>\n",
       "      <td>30.000</td>\n",
       "    </tr>\n",
       "    <tr>\n",
       "      <th>nevus</th>\n",
       "      <td>0.708</td>\n",
       "      <td>0.808</td>\n",
       "      <td>0.754</td>\n",
       "      <td>78.000</td>\n",
       "    </tr>\n",
       "    <tr>\n",
       "      <th>seborrheic_keratosis</th>\n",
       "      <td>0.676</td>\n",
       "      <td>0.548</td>\n",
       "      <td>0.605</td>\n",
       "      <td>42.000</td>\n",
       "    </tr>\n",
       "    <tr>\n",
       "      <th>accuracy</th>\n",
       "      <td>0.667</td>\n",
       "      <td>0.667</td>\n",
       "      <td>0.667</td>\n",
       "      <td>0.667</td>\n",
       "    </tr>\n",
       "    <tr>\n",
       "      <th>macro avg</th>\n",
       "      <td>0.634</td>\n",
       "      <td>0.607</td>\n",
       "      <td>0.617</td>\n",
       "      <td>150.000</td>\n",
       "    </tr>\n",
       "    <tr>\n",
       "      <th>weighted avg</th>\n",
       "      <td>0.661</td>\n",
       "      <td>0.667</td>\n",
       "      <td>0.660</td>\n",
       "      <td>150.000</td>\n",
       "    </tr>\n",
       "  </tbody>\n",
       "</table>\n",
       "</div>"
      ],
      "text/plain": [
       "                      precision  recall  f1-score  support\n",
       "melanoma                  0.519   0.467     0.491   30.000\n",
       "nevus                     0.708   0.808     0.754   78.000\n",
       "seborrheic_keratosis      0.676   0.548     0.605   42.000\n",
       "accuracy                  0.667   0.667     0.667    0.667\n",
       "macro avg                 0.634   0.607     0.617  150.000\n",
       "weighted avg              0.661   0.667     0.660  150.000"
      ]
     },
     "execution_count": 25,
     "metadata": {},
     "output_type": "execute_result"
    }
   ],
   "source": [
    "clf_cnn, scaler_cnn, report_cnn, cm_cnn, classes_cnn = train_evaluate_baseline(df_train_cnn, df_valid_cnn)\n",
    "pd.DataFrame(report_cnn).transpose().round(3)"
   ]
  },
  {
   "cell_type": "code",
   "execution_count": 26,
   "id": "6aa6e1b4",
   "metadata": {},
   "outputs": [
    {
     "data": {
      "application/vnd.plotly.v1+json": {
       "config": {
        "plotlyServerURL": "https://plot.ly"
       },
       "data": [
        {
         "colorscale": [
          [
           0,
           "#440154"
          ],
          [
           0.1111111111111111,
           "#482878"
          ],
          [
           0.2222222222222222,
           "#3e4989"
          ],
          [
           0.3333333333333333,
           "#31688e"
          ],
          [
           0.4444444444444444,
           "#26828e"
          ],
          [
           0.5555555555555556,
           "#1f9e89"
          ],
          [
           0.6666666666666666,
           "#35b779"
          ],
          [
           0.7777777777777778,
           "#6ece58"
          ],
          [
           0.8888888888888888,
           "#b5de2b"
          ],
          [
           1,
           "#fde725"
          ]
         ],
         "hovertemplate": "Pred: %{x}<br>True: %{y}<br>Count: %{z}<extra></extra>",
         "type": "heatmap",
         "x": [
          "melanoma",
          "nevus",
          "seborrheic_keratosis"
         ],
         "y": [
          "melanoma",
          "nevus",
          "seborrheic_keratosis"
         ],
         "z": [
          [
           14,
           12,
           4
          ],
          [
           8,
           63,
           7
          ],
          [
           5,
           14,
           23
          ]
         ]
        }
       ],
       "layout": {
        "template": {
         "data": {
          "bar": [
           {
            "error_x": {
             "color": "#2a3f5f"
            },
            "error_y": {
             "color": "#2a3f5f"
            },
            "marker": {
             "line": {
              "color": "#E5ECF6",
              "width": 0.5
             },
             "pattern": {
              "fillmode": "overlay",
              "size": 10,
              "solidity": 0.2
             }
            },
            "type": "bar"
           }
          ],
          "barpolar": [
           {
            "marker": {
             "line": {
              "color": "#E5ECF6",
              "width": 0.5
             },
             "pattern": {
              "fillmode": "overlay",
              "size": 10,
              "solidity": 0.2
             }
            },
            "type": "barpolar"
           }
          ],
          "carpet": [
           {
            "aaxis": {
             "endlinecolor": "#2a3f5f",
             "gridcolor": "white",
             "linecolor": "white",
             "minorgridcolor": "white",
             "startlinecolor": "#2a3f5f"
            },
            "baxis": {
             "endlinecolor": "#2a3f5f",
             "gridcolor": "white",
             "linecolor": "white",
             "minorgridcolor": "white",
             "startlinecolor": "#2a3f5f"
            },
            "type": "carpet"
           }
          ],
          "choropleth": [
           {
            "colorbar": {
             "outlinewidth": 0,
             "ticks": ""
            },
            "type": "choropleth"
           }
          ],
          "contour": [
           {
            "colorbar": {
             "outlinewidth": 0,
             "ticks": ""
            },
            "colorscale": [
             [
              0,
              "#0d0887"
             ],
             [
              0.1111111111111111,
              "#46039f"
             ],
             [
              0.2222222222222222,
              "#7201a8"
             ],
             [
              0.3333333333333333,
              "#9c179e"
             ],
             [
              0.4444444444444444,
              "#bd3786"
             ],
             [
              0.5555555555555556,
              "#d8576b"
             ],
             [
              0.6666666666666666,
              "#ed7953"
             ],
             [
              0.7777777777777778,
              "#fb9f3a"
             ],
             [
              0.8888888888888888,
              "#fdca26"
             ],
             [
              1,
              "#f0f921"
             ]
            ],
            "type": "contour"
           }
          ],
          "contourcarpet": [
           {
            "colorbar": {
             "outlinewidth": 0,
             "ticks": ""
            },
            "type": "contourcarpet"
           }
          ],
          "heatmap": [
           {
            "colorbar": {
             "outlinewidth": 0,
             "ticks": ""
            },
            "colorscale": [
             [
              0,
              "#0d0887"
             ],
             [
              0.1111111111111111,
              "#46039f"
             ],
             [
              0.2222222222222222,
              "#7201a8"
             ],
             [
              0.3333333333333333,
              "#9c179e"
             ],
             [
              0.4444444444444444,
              "#bd3786"
             ],
             [
              0.5555555555555556,
              "#d8576b"
             ],
             [
              0.6666666666666666,
              "#ed7953"
             ],
             [
              0.7777777777777778,
              "#fb9f3a"
             ],
             [
              0.8888888888888888,
              "#fdca26"
             ],
             [
              1,
              "#f0f921"
             ]
            ],
            "type": "heatmap"
           }
          ],
          "heatmapgl": [
           {
            "colorbar": {
             "outlinewidth": 0,
             "ticks": ""
            },
            "colorscale": [
             [
              0,
              "#0d0887"
             ],
             [
              0.1111111111111111,
              "#46039f"
             ],
             [
              0.2222222222222222,
              "#7201a8"
             ],
             [
              0.3333333333333333,
              "#9c179e"
             ],
             [
              0.4444444444444444,
              "#bd3786"
             ],
             [
              0.5555555555555556,
              "#d8576b"
             ],
             [
              0.6666666666666666,
              "#ed7953"
             ],
             [
              0.7777777777777778,
              "#fb9f3a"
             ],
             [
              0.8888888888888888,
              "#fdca26"
             ],
             [
              1,
              "#f0f921"
             ]
            ],
            "type": "heatmapgl"
           }
          ],
          "histogram": [
           {
            "marker": {
             "pattern": {
              "fillmode": "overlay",
              "size": 10,
              "solidity": 0.2
             }
            },
            "type": "histogram"
           }
          ],
          "histogram2d": [
           {
            "colorbar": {
             "outlinewidth": 0,
             "ticks": ""
            },
            "colorscale": [
             [
              0,
              "#0d0887"
             ],
             [
              0.1111111111111111,
              "#46039f"
             ],
             [
              0.2222222222222222,
              "#7201a8"
             ],
             [
              0.3333333333333333,
              "#9c179e"
             ],
             [
              0.4444444444444444,
              "#bd3786"
             ],
             [
              0.5555555555555556,
              "#d8576b"
             ],
             [
              0.6666666666666666,
              "#ed7953"
             ],
             [
              0.7777777777777778,
              "#fb9f3a"
             ],
             [
              0.8888888888888888,
              "#fdca26"
             ],
             [
              1,
              "#f0f921"
             ]
            ],
            "type": "histogram2d"
           }
          ],
          "histogram2dcontour": [
           {
            "colorbar": {
             "outlinewidth": 0,
             "ticks": ""
            },
            "colorscale": [
             [
              0,
              "#0d0887"
             ],
             [
              0.1111111111111111,
              "#46039f"
             ],
             [
              0.2222222222222222,
              "#7201a8"
             ],
             [
              0.3333333333333333,
              "#9c179e"
             ],
             [
              0.4444444444444444,
              "#bd3786"
             ],
             [
              0.5555555555555556,
              "#d8576b"
             ],
             [
              0.6666666666666666,
              "#ed7953"
             ],
             [
              0.7777777777777778,
              "#fb9f3a"
             ],
             [
              0.8888888888888888,
              "#fdca26"
             ],
             [
              1,
              "#f0f921"
             ]
            ],
            "type": "histogram2dcontour"
           }
          ],
          "mesh3d": [
           {
            "colorbar": {
             "outlinewidth": 0,
             "ticks": ""
            },
            "type": "mesh3d"
           }
          ],
          "parcoords": [
           {
            "line": {
             "colorbar": {
              "outlinewidth": 0,
              "ticks": ""
             }
            },
            "type": "parcoords"
           }
          ],
          "pie": [
           {
            "automargin": true,
            "type": "pie"
           }
          ],
          "scatter": [
           {
            "fillpattern": {
             "fillmode": "overlay",
             "size": 10,
             "solidity": 0.2
            },
            "type": "scatter"
           }
          ],
          "scatter3d": [
           {
            "line": {
             "colorbar": {
              "outlinewidth": 0,
              "ticks": ""
             }
            },
            "marker": {
             "colorbar": {
              "outlinewidth": 0,
              "ticks": ""
             }
            },
            "type": "scatter3d"
           }
          ],
          "scattercarpet": [
           {
            "marker": {
             "colorbar": {
              "outlinewidth": 0,
              "ticks": ""
             }
            },
            "type": "scattercarpet"
           }
          ],
          "scattergeo": [
           {
            "marker": {
             "colorbar": {
              "outlinewidth": 0,
              "ticks": ""
             }
            },
            "type": "scattergeo"
           }
          ],
          "scattergl": [
           {
            "marker": {
             "colorbar": {
              "outlinewidth": 0,
              "ticks": ""
             }
            },
            "type": "scattergl"
           }
          ],
          "scattermapbox": [
           {
            "marker": {
             "colorbar": {
              "outlinewidth": 0,
              "ticks": ""
             }
            },
            "type": "scattermapbox"
           }
          ],
          "scatterpolar": [
           {
            "marker": {
             "colorbar": {
              "outlinewidth": 0,
              "ticks": ""
             }
            },
            "type": "scatterpolar"
           }
          ],
          "scatterpolargl": [
           {
            "marker": {
             "colorbar": {
              "outlinewidth": 0,
              "ticks": ""
             }
            },
            "type": "scatterpolargl"
           }
          ],
          "scatterternary": [
           {
            "marker": {
             "colorbar": {
              "outlinewidth": 0,
              "ticks": ""
             }
            },
            "type": "scatterternary"
           }
          ],
          "surface": [
           {
            "colorbar": {
             "outlinewidth": 0,
             "ticks": ""
            },
            "colorscale": [
             [
              0,
              "#0d0887"
             ],
             [
              0.1111111111111111,
              "#46039f"
             ],
             [
              0.2222222222222222,
              "#7201a8"
             ],
             [
              0.3333333333333333,
              "#9c179e"
             ],
             [
              0.4444444444444444,
              "#bd3786"
             ],
             [
              0.5555555555555556,
              "#d8576b"
             ],
             [
              0.6666666666666666,
              "#ed7953"
             ],
             [
              0.7777777777777778,
              "#fb9f3a"
             ],
             [
              0.8888888888888888,
              "#fdca26"
             ],
             [
              1,
              "#f0f921"
             ]
            ],
            "type": "surface"
           }
          ],
          "table": [
           {
            "cells": {
             "fill": {
              "color": "#EBF0F8"
             },
             "line": {
              "color": "white"
             }
            },
            "header": {
             "fill": {
              "color": "#C8D4E3"
             },
             "line": {
              "color": "white"
             }
            },
            "type": "table"
           }
          ]
         },
         "layout": {
          "annotationdefaults": {
           "arrowcolor": "#2a3f5f",
           "arrowhead": 0,
           "arrowwidth": 1
          },
          "autotypenumbers": "strict",
          "coloraxis": {
           "colorbar": {
            "outlinewidth": 0,
            "ticks": ""
           }
          },
          "colorscale": {
           "diverging": [
            [
             0,
             "#8e0152"
            ],
            [
             0.1,
             "#c51b7d"
            ],
            [
             0.2,
             "#de77ae"
            ],
            [
             0.3,
             "#f1b6da"
            ],
            [
             0.4,
             "#fde0ef"
            ],
            [
             0.5,
             "#f7f7f7"
            ],
            [
             0.6,
             "#e6f5d0"
            ],
            [
             0.7,
             "#b8e186"
            ],
            [
             0.8,
             "#7fbc41"
            ],
            [
             0.9,
             "#4d9221"
            ],
            [
             1,
             "#276419"
            ]
           ],
           "sequential": [
            [
             0,
             "#0d0887"
            ],
            [
             0.1111111111111111,
             "#46039f"
            ],
            [
             0.2222222222222222,
             "#7201a8"
            ],
            [
             0.3333333333333333,
             "#9c179e"
            ],
            [
             0.4444444444444444,
             "#bd3786"
            ],
            [
             0.5555555555555556,
             "#d8576b"
            ],
            [
             0.6666666666666666,
             "#ed7953"
            ],
            [
             0.7777777777777778,
             "#fb9f3a"
            ],
            [
             0.8888888888888888,
             "#fdca26"
            ],
            [
             1,
             "#f0f921"
            ]
           ],
           "sequentialminus": [
            [
             0,
             "#0d0887"
            ],
            [
             0.1111111111111111,
             "#46039f"
            ],
            [
             0.2222222222222222,
             "#7201a8"
            ],
            [
             0.3333333333333333,
             "#9c179e"
            ],
            [
             0.4444444444444444,
             "#bd3786"
            ],
            [
             0.5555555555555556,
             "#d8576b"
            ],
            [
             0.6666666666666666,
             "#ed7953"
            ],
            [
             0.7777777777777778,
             "#fb9f3a"
            ],
            [
             0.8888888888888888,
             "#fdca26"
            ],
            [
             1,
             "#f0f921"
            ]
           ]
          },
          "colorway": [
           "#636efa",
           "#EF553B",
           "#00cc96",
           "#ab63fa",
           "#FFA15A",
           "#19d3f3",
           "#FF6692",
           "#B6E880",
           "#FF97FF",
           "#FECB52"
          ],
          "font": {
           "color": "#2a3f5f"
          },
          "geo": {
           "bgcolor": "white",
           "lakecolor": "white",
           "landcolor": "#E5ECF6",
           "showlakes": true,
           "showland": true,
           "subunitcolor": "white"
          },
          "hoverlabel": {
           "align": "left"
          },
          "hovermode": "closest",
          "mapbox": {
           "style": "light"
          },
          "paper_bgcolor": "white",
          "plot_bgcolor": "#E5ECF6",
          "polar": {
           "angularaxis": {
            "gridcolor": "white",
            "linecolor": "white",
            "ticks": ""
           },
           "bgcolor": "#E5ECF6",
           "radialaxis": {
            "gridcolor": "white",
            "linecolor": "white",
            "ticks": ""
           }
          },
          "scene": {
           "xaxis": {
            "backgroundcolor": "#E5ECF6",
            "gridcolor": "white",
            "gridwidth": 2,
            "linecolor": "white",
            "showbackground": true,
            "ticks": "",
            "zerolinecolor": "white"
           },
           "yaxis": {
            "backgroundcolor": "#E5ECF6",
            "gridcolor": "white",
            "gridwidth": 2,
            "linecolor": "white",
            "showbackground": true,
            "ticks": "",
            "zerolinecolor": "white"
           },
           "zaxis": {
            "backgroundcolor": "#E5ECF6",
            "gridcolor": "white",
            "gridwidth": 2,
            "linecolor": "white",
            "showbackground": true,
            "ticks": "",
            "zerolinecolor": "white"
           }
          },
          "shapedefaults": {
           "line": {
            "color": "#2a3f5f"
           }
          },
          "ternary": {
           "aaxis": {
            "gridcolor": "white",
            "linecolor": "white",
            "ticks": ""
           },
           "baxis": {
            "gridcolor": "white",
            "linecolor": "white",
            "ticks": ""
           },
           "bgcolor": "#E5ECF6",
           "caxis": {
            "gridcolor": "white",
            "linecolor": "white",
            "ticks": ""
           }
          },
          "title": {
           "x": 0.05
          },
          "xaxis": {
           "automargin": true,
           "gridcolor": "white",
           "linecolor": "white",
           "ticks": "",
           "title": {
            "standoff": 15
           },
           "zerolinecolor": "white",
           "zerolinewidth": 2
          },
          "yaxis": {
           "automargin": true,
           "gridcolor": "white",
           "linecolor": "white",
           "ticks": "",
           "title": {
            "standoff": 15
           },
           "zerolinecolor": "white",
           "zerolinewidth": 2
          }
         }
        },
        "title": {
         "text": "Confusion Matrix — Logistic Regression on CNN Embeddings (Valid)"
        },
        "xaxis": {
         "title": {
          "text": "Predicted"
         }
        },
        "yaxis": {
         "title": {
          "text": "True"
         }
        }
       }
      }
     },
     "metadata": {},
     "output_type": "display_data"
    }
   ],
   "source": [
    "plot_confusion_matrix(cm_cnn, list(classes_cnn), \"Confusion Matrix — Logistic Regression on CNN Embeddings (Valid)\")"
   ]
  },
  {
   "cell_type": "code",
   "execution_count": 28,
   "id": "9c868bbd",
   "metadata": {},
   "outputs": [
    {
     "data": {
      "text/html": [
       "<div>\n",
       "<style scoped>\n",
       "    .dataframe tbody tr th:only-of-type {\n",
       "        vertical-align: middle;\n",
       "    }\n",
       "\n",
       "    .dataframe tbody tr th {\n",
       "        vertical-align: top;\n",
       "    }\n",
       "\n",
       "    .dataframe thead th {\n",
       "        text-align: right;\n",
       "    }\n",
       "</style>\n",
       "<table border=\"1\" class=\"dataframe\">\n",
       "  <thead>\n",
       "    <tr style=\"text-align: right;\">\n",
       "      <th></th>\n",
       "      <th>precision</th>\n",
       "      <th>recall</th>\n",
       "      <th>f1-score</th>\n",
       "      <th>support</th>\n",
       "    </tr>\n",
       "  </thead>\n",
       "  <tbody>\n",
       "    <tr>\n",
       "      <th>melanoma</th>\n",
       "      <td>0.348</td>\n",
       "      <td>0.393</td>\n",
       "      <td>0.369</td>\n",
       "      <td>117.00</td>\n",
       "    </tr>\n",
       "    <tr>\n",
       "      <th>nevus</th>\n",
       "      <td>0.777</td>\n",
       "      <td>0.728</td>\n",
       "      <td>0.752</td>\n",
       "      <td>393.00</td>\n",
       "    </tr>\n",
       "    <tr>\n",
       "      <th>seborrheic_keratosis</th>\n",
       "      <td>0.400</td>\n",
       "      <td>0.444</td>\n",
       "      <td>0.421</td>\n",
       "      <td>90.00</td>\n",
       "    </tr>\n",
       "    <tr>\n",
       "      <th>accuracy</th>\n",
       "      <td>0.620</td>\n",
       "      <td>0.620</td>\n",
       "      <td>0.620</td>\n",
       "      <td>0.62</td>\n",
       "    </tr>\n",
       "    <tr>\n",
       "      <th>macro avg</th>\n",
       "      <td>0.509</td>\n",
       "      <td>0.522</td>\n",
       "      <td>0.514</td>\n",
       "      <td>600.00</td>\n",
       "    </tr>\n",
       "    <tr>\n",
       "      <th>weighted avg</th>\n",
       "      <td>0.637</td>\n",
       "      <td>0.620</td>\n",
       "      <td>0.628</td>\n",
       "      <td>600.00</td>\n",
       "    </tr>\n",
       "  </tbody>\n",
       "</table>\n",
       "</div>"
      ],
      "text/plain": [
       "                      precision  recall  f1-score  support\n",
       "melanoma                  0.348   0.393     0.369   117.00\n",
       "nevus                     0.777   0.728     0.752   393.00\n",
       "seborrheic_keratosis      0.400   0.444     0.421    90.00\n",
       "accuracy                  0.620   0.620     0.620     0.62\n",
       "macro avg                 0.509   0.522     0.514   600.00\n",
       "weighted avg              0.637   0.620     0.628   600.00"
      ]
     },
     "execution_count": 28,
     "metadata": {},
     "output_type": "execute_result"
    }
   ],
   "source": [
    "rep_test_cnn, cm_test_cnn = evaluate_on_test(df_test_cnn, clf_cnn, scaler_cnn)\n",
    "pd.DataFrame(rep_test_cnn).transpose().round(3)"
   ]
  },
  {
   "cell_type": "markdown",
   "id": "df1c1b7e",
   "metadata": {},
   "source": [
    "### Fine-tuned MobileNetV model"
   ]
  },
  {
   "cell_type": "code",
   "execution_count": 29,
   "id": "1b933204",
   "metadata": {},
   "outputs": [
    {
     "data": {
      "text/plain": [
       "array([1.7825311 , 0.48590866, 2.624672  ], dtype=float32)"
      ]
     },
     "execution_count": 29,
     "metadata": {},
     "output_type": "execute_result"
    }
   ],
   "source": [
    "import pandas as pd\n",
    "from collections import Counter\n",
    "import numpy as np\n",
    "\n",
    "def files_to_df(pairs):\n",
    "    return pd.DataFrame({\"path\": [str(p) for p,_ in pairs], \"label\": [lbl for _,lbl in pairs]})\n",
    "\n",
    "df_tr_paths = files_to_df(train_files)\n",
    "df_va_paths = files_to_df(valid_files)\n",
    "df_te_paths = files_to_df(test_files)\n",
    "\n",
    "label_to_idx = {c:i for i,c in enumerate(CLASSES)}\n",
    "y_tr_indices = np.array([label_to_idx[l] for l in df_tr_paths[\"label\"]])\n",
    "\n",
    "counts = Counter(y_tr_indices)\n",
    "num_classes = len(CLASSES)\n",
    "class_counts = np.array([counts[i] for i in range(num_classes)], dtype=np.float32)\n",
    "class_weights = (class_counts.sum() / (num_classes * class_counts))\n",
    "class_weights"
   ]
  },
  {
   "cell_type": "code",
   "execution_count": null,
   "id": "f349d20e",
   "metadata": {},
   "outputs": [
    {
     "data": {
      "text/plain": [
       "(2000, 150, 600)"
      ]
     },
     "execution_count": 32,
     "metadata": {},
     "output_type": "execute_result"
    }
   ],
   "source": [
    "\n",
    "\n",
    "import os, warnings\n",
    "import numpy as np\n",
    "import torch\n",
    "from torch.utils.data import Dataset, DataLoader, WeightedRandomSampler\n",
    "from PIL import Image, ImageFile\n",
    "from torchvision import transforms\n",
    "\n",
    "\n",
    "ImageFile.LOAD_TRUNCATED_IMAGES = True\n",
    "\n",
    "\n",
    "try:\n",
    "    import torch.multiprocessing as mp\n",
    "    mp.set_start_method(\"spawn\", force=False)  \n",
    "except RuntimeError:\n",
    "    pass  \n",
    "\n",
    "\n",
    "train_tfms = transforms.Compose([\n",
    "    transforms.Resize(320),\n",
    "    transforms.RandomResizedCrop(288, scale=(0.8, 1.0), ratio=(0.9, 1.1)),\n",
    "    transforms.RandomHorizontalFlip(p=0.5),\n",
    "    transforms.ColorJitter(brightness=0.15, contrast=0.15, saturation=0.10, hue=0.02),\n",
    "    transforms.ToTensor(),\n",
    "    transforms.Normalize(mean=[0.485,0.456,0.406], std=[0.229,0.224,0.225]),\n",
    "])\n",
    "\n",
    "eval_tfms = transforms.Compose([\n",
    "    transforms.Resize(320),\n",
    "    transforms.CenterCrop(288),\n",
    "    transforms.ToTensor(),\n",
    "    transforms.Normalize(mean=[0.485,0.456,0.406], std=[0.229,0.224,0.225]),\n",
    "])\n",
    "\n",
    "\n",
    "class LesionDatasetSafe(Dataset):\n",
    "    def __init__(self, df, tfms, label_to_idx, skip_corrupt=True):\n",
    "        self.df = df.reset_index(drop=True)\n",
    "        self.tfms = tfms\n",
    "        self.label_to_idx = label_to_idx\n",
    "        self.skip_corrupt = skip_corrupt\n",
    "\n",
    "    def __len__(self): \n",
    "        return len(self.df)\n",
    "\n",
    "    def __getitem__(self, i):\n",
    "        path = self.df.loc[i, \"path\"]\n",
    "        label = self.df.loc[i, \"label\"]\n",
    "        try:\n",
    "            with Image.open(path) as im:\n",
    "                im = im.convert(\"RGB\")\n",
    "            x = self.tfms(im)\n",
    "            y = self.label_to_idx[label]\n",
    "            return x, y\n",
    "        except Exception as e:\n",
    "            if self.skip_corrupt:\n",
    "                \n",
    "                return None\n",
    "            else:\n",
    "                raise\n",
    "\n",
    "\n",
    "def drop_none_collate(batch):\n",
    "    batch = [b for b in batch if b is not None]\n",
    "    if len(batch) == 0:\n",
    "        \n",
    "        return None\n",
    "    xs, ys = zip(*batch)\n",
    "    return torch.stack(xs, 0), torch.tensor(ys, dtype=torch.long)\n",
    "\n",
    "\n",
    "ds_tr = LesionDatasetSafe(df_tr_paths, train_tfms, label_to_idx, skip_corrupt=True)\n",
    "ds_va = LesionDatasetSafe(df_va_paths, eval_tfms,  label_to_idx, skip_corrupt=True)\n",
    "ds_te = LesionDatasetSafe(df_te_paths, eval_tfms,  label_to_idx, skip_corrupt=True)\n",
    "\n",
    "\n",
    "sample_weights = np.array([class_weights[label_to_idx[l]] for l in df_tr_paths[\"label\"]], dtype=np.float32)\n",
    "sampler = WeightedRandomSampler(\n",
    "    weights=torch.tensor(sample_weights), \n",
    "    num_samples=len(sample_weights), \n",
    "    replacement=True\n",
    ")\n",
    "\n",
    "\n",
    "BATCH_SIZE = 32\n",
    "NUM_WORKERS = 0 \n",
    "PIN_MEMORY = torch.cuda.is_available()\n",
    "\n",
    "dl_tr = DataLoader(\n",
    "    ds_tr, batch_size=BATCH_SIZE, sampler=sampler, \n",
    "    num_workers=NUM_WORKERS, pin_memory=PIN_MEMORY,\n",
    "    persistent_workers=False, prefetch_factor=None,  \n",
    "    collate_fn=drop_none_collate\n",
    ")\n",
    "\n",
    "dl_va = DataLoader(\n",
    "    ds_va, batch_size=BATCH_SIZE, shuffle=False, \n",
    "    num_workers=NUM_WORKERS, pin_memory=PIN_MEMORY,\n",
    "    persistent_workers=False, prefetch_factor=None,\n",
    "    collate_fn=drop_none_collate\n",
    ")\n",
    "\n",
    "dl_te = DataLoader(\n",
    "    ds_te, batch_size=BATCH_SIZE, shuffle=False, \n",
    "    num_workers=NUM_WORKERS, pin_memory=PIN_MEMORY,\n",
    "    persistent_workers=False, prefetch_factor=None,\n",
    "    collate_fn=drop_none_collate\n",
    ")\n",
    "\n",
    "len(ds_tr), len(ds_va), len(ds_te)\n"
   ]
  },
  {
   "cell_type": "code",
   "execution_count": null,
   "id": "73a294c3",
   "metadata": {},
   "outputs": [
    {
     "name": "stdout",
     "output_type": "stream",
     "text": [
      "Using device: cpu\n",
      "Trainable params: 14\n"
     ]
    }
   ],
   "source": [
    "\n",
    "from torchvision import models\n",
    "from torch import nn\n",
    "import torch\n",
    "\n",
    "device = torch.device(\"cuda\" if torch.cuda.is_available() else \"cpu\")\n",
    "print(\"Using device:\", device)\n",
    "\n",
    "m = models.mobilenet_v2(weights=models.MobileNet_V2_Weights.IMAGENET1K_V1)\n",
    "in_feats = m.classifier[1].in_features\n",
    "m.classifier[1] = nn.Linear(in_feats, len(CLASSES))\n",
    "\n",
    "\n",
    "for p in m.features.parameters():\n",
    "    p.requires_grad = False\n",
    "for p in m.features[-2:].parameters():\n",
    "    p.requires_grad = True\n",
    "\n",
    "m = m.to(device)\n",
    "print(\"Trainable params:\", sum(p.requires_grad for p in m.parameters()))\n"
   ]
  },
  {
   "cell_type": "code",
   "execution_count": null,
   "id": "8d7a56ec",
   "metadata": {},
   "outputs": [],
   "source": [
    "\n",
    "from torch.optim import AdamW\n",
    "from torch.optim.lr_scheduler import CosineAnnealingLR\n",
    "import torch.nn as nn\n",
    "import numpy as np\n",
    "import torch\n",
    "\n",
    "use_focal = False  \n",
    "\n",
    "class WeightedFocalLoss(nn.Module):\n",
    "    def __init__(self, alpha, gamma=2.0, reduction=\"mean\"):\n",
    "        super().__init__()\n",
    "        self.alpha = torch.tensor(alpha, dtype=torch.float32)\n",
    "        self.gamma = gamma\n",
    "        self.reduction = reduction\n",
    "    def forward(self, logits, targets):\n",
    "        ce = nn.functional.cross_entropy(\n",
    "            logits, targets, weight=self.alpha.to(logits.device), reduction=\"none\"\n",
    "        )\n",
    "        pt = torch.exp(-ce)\n",
    "        loss = ((1-pt)**self.gamma) * ce\n",
    "        return loss.mean() if self.reduction == \"mean\" else loss.sum()\n",
    "\n",
    "alpha = class_weights  \n",
    "criterion = (WeightedFocalLoss(alpha=alpha, gamma=2.0)\n",
    "             if use_focal\n",
    "             else nn.CrossEntropyLoss(weight=torch.tensor(alpha, dtype=torch.float32).to(device)))\n",
    "\n",
    "optimizer = AdamW(filter(lambda p: p.requires_grad, m.parameters()), lr=3e-4, weight_decay=1e-4)\n",
    "scheduler = CosineAnnealingLR(optimizer, T_max=10)\n"
   ]
  },
  {
   "cell_type": "code",
   "execution_count": null,
   "id": "43c17250",
   "metadata": {},
   "outputs": [
    {
     "name": "stdout",
     "output_type": "stream",
     "text": [
      "Epoch 01 | train loss 0.5678 | val acc 0.520 | val AUROC 0.816\n",
      "Epoch 02 | train loss 0.4359 | val acc 0.487 | val AUROC 0.829\n",
      "Epoch 03 | train loss 0.3344 | val acc 0.567 | val AUROC 0.832\n",
      "Epoch 04 | train loss 0.2958 | val acc 0.680 | val AUROC 0.860\n",
      "Epoch 05 | train loss 0.2658 | val acc 0.667 | val AUROC 0.843\n",
      "Epoch 06 | train loss 0.2297 | val acc 0.653 | val AUROC 0.863\n",
      "Epoch 07 | train loss 0.1973 | val acc 0.687 | val AUROC 0.867\n",
      "Epoch 08 | train loss 0.1940 | val acc 0.687 | val AUROC 0.868\n",
      "Epoch 09 | train loss 0.1849 | val acc 0.713 | val AUROC 0.876\n",
      "Epoch 10 | train loss 0.1578 | val acc 0.713 | val AUROC 0.874\n",
      "Epoch 11 | train loss 0.1841 | val acc 0.693 | val AUROC 0.877\n",
      "Epoch 12 | train loss 0.1684 | val acc 0.707 | val AUROC 0.871\n",
      "Epoch 13 | train loss 0.1658 | val acc 0.707 | val AUROC 0.877\n",
      "Epoch 14 | train loss 0.1835 | val acc 0.740 | val AUROC 0.881\n",
      "Epoch 15 | train loss 0.1724 | val acc 0.673 | val AUROC 0.864\n"
     ]
    }
   ],
   "source": [
    "\n",
    "from sklearn.metrics import roc_auc_score\n",
    "import numpy as np\n",
    "import torch\n",
    "\n",
    "def evaluate(model, dl):\n",
    "    model.eval()\n",
    "    all_logits, all_targets = [], []\n",
    "    with torch.no_grad():\n",
    "        for batch in dl:\n",
    "            if batch is None:  \n",
    "                continue\n",
    "            xb, yb = batch\n",
    "            xb, yb = xb.to(device), yb.to(device)\n",
    "            logits = model(xb)\n",
    "            all_logits.append(logits.cpu().numpy())\n",
    "            all_targets.append(yb.cpu().numpy())\n",
    "    if not all_logits:  \n",
    "        return np.nan, np.nan, np.array([]), np.array([]), np.array([[]])\n",
    "\n",
    "    logits = np.concatenate(all_logits, axis=0)\n",
    "    targets = np.concatenate(all_targets, axis=0)\n",
    "    probs = torch.softmax(torch.tensor(logits), dim=1).numpy()\n",
    "    try:\n",
    "        auroc = roc_auc_score(targets, probs, multi_class=\"ovr\", average=\"macro\")\n",
    "    except ValueError:\n",
    "        auroc = np.nan\n",
    "    preds = probs.argmax(1)\n",
    "    acc = (preds == targets).mean() if len(targets) else np.nan\n",
    "    return acc, auroc, preds, targets, probs\n",
    "\n",
    "best_auroc, best_state = -1, None\n",
    "EPOCHS = 15\n",
    "patience, bad = 5, 0\n",
    "\n",
    "for epoch in range(1, EPOCHS+1):\n",
    "    m.train()\n",
    "    running = 0.0\n",
    "    seen = 0\n",
    "    for batch in dl_tr:\n",
    "        if batch is None:\n",
    "            continue\n",
    "        xb, yb = batch\n",
    "        xb, yb = xb.to(device), yb.to(device)\n",
    "        optimizer.zero_grad()\n",
    "        logits = m(xb)\n",
    "        loss = criterion(logits, yb)\n",
    "        loss.backward()\n",
    "        optimizer.step()\n",
    "        running += loss.item() * xb.size(0)\n",
    "        seen += xb.size(0)\n",
    "\n",
    "    scheduler.step()\n",
    "    tr_loss = running / max(seen, 1)\n",
    "\n",
    "    va_acc, va_auroc, _, _, _ = evaluate(m, dl_va)\n",
    "    print(f\"Epoch {epoch:02d} | train loss {tr_loss:.4f} | val acc {va_acc:.3f} | val AUROC {va_auroc:.3f}\")\n",
    "\n",
    "    if np.isnan(va_auroc):\n",
    "        continue\n",
    "    if va_auroc > best_auroc:\n",
    "        best_auroc = va_auroc\n",
    "        best_state = {k: v.cpu() for k, v in m.state_dict().items()}\n",
    "        bad = 0\n",
    "    else:\n",
    "        bad += 1\n",
    "        if bad >= patience:\n",
    "            print(\"Early stopping.\")\n",
    "            break\n",
    "\n",
    "if best_state is not None:\n",
    "    m.load_state_dict({k: v.to(device) for k, v in best_state.items()})\n"
   ]
  },
  {
   "cell_type": "code",
   "execution_count": 36,
   "id": "39e81172",
   "metadata": {},
   "outputs": [
    {
     "name": "stdout",
     "output_type": "stream",
     "text": [
      "Validation ACC: 0.673 | AUROC (macro): 0.864\n",
      "                      precision  recall  f1-score  support\n",
      "melanoma                  0.500   0.600     0.545   30.000\n",
      "nevus                     0.917   0.564     0.698   78.000\n",
      "seborrheic_keratosis      0.591   0.929     0.722   42.000\n",
      "accuracy                  0.673   0.673     0.673    0.673\n",
      "macro avg                 0.669   0.698     0.655  150.000\n",
      "weighted avg              0.742   0.673     0.674  150.000\n"
     ]
    },
    {
     "data": {
      "application/vnd.plotly.v1+json": {
       "config": {
        "plotlyServerURL": "https://plot.ly"
       },
       "data": [
        {
         "colorscale": [
          [
           0,
           "#440154"
          ],
          [
           0.1111111111111111,
           "#482878"
          ],
          [
           0.2222222222222222,
           "#3e4989"
          ],
          [
           0.3333333333333333,
           "#31688e"
          ],
          [
           0.4444444444444444,
           "#26828e"
          ],
          [
           0.5555555555555556,
           "#1f9e89"
          ],
          [
           0.6666666666666666,
           "#35b779"
          ],
          [
           0.7777777777777778,
           "#6ece58"
          ],
          [
           0.8888888888888888,
           "#b5de2b"
          ],
          [
           1,
           "#fde725"
          ]
         ],
         "hovertemplate": "Pred: %{x}<br>True: %{y}<br>Count: %{z}<extra></extra>",
         "type": "heatmap",
         "x": [
          "melanoma",
          "nevus",
          "seborrheic_keratosis"
         ],
         "y": [
          "melanoma",
          "nevus",
          "seborrheic_keratosis"
         ],
         "z": [
          [
           18,
           3,
           9
          ],
          [
           16,
           44,
           18
          ],
          [
           2,
           1,
           39
          ]
         ]
        }
       ],
       "layout": {
        "template": {
         "data": {
          "bar": [
           {
            "error_x": {
             "color": "#2a3f5f"
            },
            "error_y": {
             "color": "#2a3f5f"
            },
            "marker": {
             "line": {
              "color": "#E5ECF6",
              "width": 0.5
             },
             "pattern": {
              "fillmode": "overlay",
              "size": 10,
              "solidity": 0.2
             }
            },
            "type": "bar"
           }
          ],
          "barpolar": [
           {
            "marker": {
             "line": {
              "color": "#E5ECF6",
              "width": 0.5
             },
             "pattern": {
              "fillmode": "overlay",
              "size": 10,
              "solidity": 0.2
             }
            },
            "type": "barpolar"
           }
          ],
          "carpet": [
           {
            "aaxis": {
             "endlinecolor": "#2a3f5f",
             "gridcolor": "white",
             "linecolor": "white",
             "minorgridcolor": "white",
             "startlinecolor": "#2a3f5f"
            },
            "baxis": {
             "endlinecolor": "#2a3f5f",
             "gridcolor": "white",
             "linecolor": "white",
             "minorgridcolor": "white",
             "startlinecolor": "#2a3f5f"
            },
            "type": "carpet"
           }
          ],
          "choropleth": [
           {
            "colorbar": {
             "outlinewidth": 0,
             "ticks": ""
            },
            "type": "choropleth"
           }
          ],
          "contour": [
           {
            "colorbar": {
             "outlinewidth": 0,
             "ticks": ""
            },
            "colorscale": [
             [
              0,
              "#0d0887"
             ],
             [
              0.1111111111111111,
              "#46039f"
             ],
             [
              0.2222222222222222,
              "#7201a8"
             ],
             [
              0.3333333333333333,
              "#9c179e"
             ],
             [
              0.4444444444444444,
              "#bd3786"
             ],
             [
              0.5555555555555556,
              "#d8576b"
             ],
             [
              0.6666666666666666,
              "#ed7953"
             ],
             [
              0.7777777777777778,
              "#fb9f3a"
             ],
             [
              0.8888888888888888,
              "#fdca26"
             ],
             [
              1,
              "#f0f921"
             ]
            ],
            "type": "contour"
           }
          ],
          "contourcarpet": [
           {
            "colorbar": {
             "outlinewidth": 0,
             "ticks": ""
            },
            "type": "contourcarpet"
           }
          ],
          "heatmap": [
           {
            "colorbar": {
             "outlinewidth": 0,
             "ticks": ""
            },
            "colorscale": [
             [
              0,
              "#0d0887"
             ],
             [
              0.1111111111111111,
              "#46039f"
             ],
             [
              0.2222222222222222,
              "#7201a8"
             ],
             [
              0.3333333333333333,
              "#9c179e"
             ],
             [
              0.4444444444444444,
              "#bd3786"
             ],
             [
              0.5555555555555556,
              "#d8576b"
             ],
             [
              0.6666666666666666,
              "#ed7953"
             ],
             [
              0.7777777777777778,
              "#fb9f3a"
             ],
             [
              0.8888888888888888,
              "#fdca26"
             ],
             [
              1,
              "#f0f921"
             ]
            ],
            "type": "heatmap"
           }
          ],
          "heatmapgl": [
           {
            "colorbar": {
             "outlinewidth": 0,
             "ticks": ""
            },
            "colorscale": [
             [
              0,
              "#0d0887"
             ],
             [
              0.1111111111111111,
              "#46039f"
             ],
             [
              0.2222222222222222,
              "#7201a8"
             ],
             [
              0.3333333333333333,
              "#9c179e"
             ],
             [
              0.4444444444444444,
              "#bd3786"
             ],
             [
              0.5555555555555556,
              "#d8576b"
             ],
             [
              0.6666666666666666,
              "#ed7953"
             ],
             [
              0.7777777777777778,
              "#fb9f3a"
             ],
             [
              0.8888888888888888,
              "#fdca26"
             ],
             [
              1,
              "#f0f921"
             ]
            ],
            "type": "heatmapgl"
           }
          ],
          "histogram": [
           {
            "marker": {
             "pattern": {
              "fillmode": "overlay",
              "size": 10,
              "solidity": 0.2
             }
            },
            "type": "histogram"
           }
          ],
          "histogram2d": [
           {
            "colorbar": {
             "outlinewidth": 0,
             "ticks": ""
            },
            "colorscale": [
             [
              0,
              "#0d0887"
             ],
             [
              0.1111111111111111,
              "#46039f"
             ],
             [
              0.2222222222222222,
              "#7201a8"
             ],
             [
              0.3333333333333333,
              "#9c179e"
             ],
             [
              0.4444444444444444,
              "#bd3786"
             ],
             [
              0.5555555555555556,
              "#d8576b"
             ],
             [
              0.6666666666666666,
              "#ed7953"
             ],
             [
              0.7777777777777778,
              "#fb9f3a"
             ],
             [
              0.8888888888888888,
              "#fdca26"
             ],
             [
              1,
              "#f0f921"
             ]
            ],
            "type": "histogram2d"
           }
          ],
          "histogram2dcontour": [
           {
            "colorbar": {
             "outlinewidth": 0,
             "ticks": ""
            },
            "colorscale": [
             [
              0,
              "#0d0887"
             ],
             [
              0.1111111111111111,
              "#46039f"
             ],
             [
              0.2222222222222222,
              "#7201a8"
             ],
             [
              0.3333333333333333,
              "#9c179e"
             ],
             [
              0.4444444444444444,
              "#bd3786"
             ],
             [
              0.5555555555555556,
              "#d8576b"
             ],
             [
              0.6666666666666666,
              "#ed7953"
             ],
             [
              0.7777777777777778,
              "#fb9f3a"
             ],
             [
              0.8888888888888888,
              "#fdca26"
             ],
             [
              1,
              "#f0f921"
             ]
            ],
            "type": "histogram2dcontour"
           }
          ],
          "mesh3d": [
           {
            "colorbar": {
             "outlinewidth": 0,
             "ticks": ""
            },
            "type": "mesh3d"
           }
          ],
          "parcoords": [
           {
            "line": {
             "colorbar": {
              "outlinewidth": 0,
              "ticks": ""
             }
            },
            "type": "parcoords"
           }
          ],
          "pie": [
           {
            "automargin": true,
            "type": "pie"
           }
          ],
          "scatter": [
           {
            "fillpattern": {
             "fillmode": "overlay",
             "size": 10,
             "solidity": 0.2
            },
            "type": "scatter"
           }
          ],
          "scatter3d": [
           {
            "line": {
             "colorbar": {
              "outlinewidth": 0,
              "ticks": ""
             }
            },
            "marker": {
             "colorbar": {
              "outlinewidth": 0,
              "ticks": ""
             }
            },
            "type": "scatter3d"
           }
          ],
          "scattercarpet": [
           {
            "marker": {
             "colorbar": {
              "outlinewidth": 0,
              "ticks": ""
             }
            },
            "type": "scattercarpet"
           }
          ],
          "scattergeo": [
           {
            "marker": {
             "colorbar": {
              "outlinewidth": 0,
              "ticks": ""
             }
            },
            "type": "scattergeo"
           }
          ],
          "scattergl": [
           {
            "marker": {
             "colorbar": {
              "outlinewidth": 0,
              "ticks": ""
             }
            },
            "type": "scattergl"
           }
          ],
          "scattermapbox": [
           {
            "marker": {
             "colorbar": {
              "outlinewidth": 0,
              "ticks": ""
             }
            },
            "type": "scattermapbox"
           }
          ],
          "scatterpolar": [
           {
            "marker": {
             "colorbar": {
              "outlinewidth": 0,
              "ticks": ""
             }
            },
            "type": "scatterpolar"
           }
          ],
          "scatterpolargl": [
           {
            "marker": {
             "colorbar": {
              "outlinewidth": 0,
              "ticks": ""
             }
            },
            "type": "scatterpolargl"
           }
          ],
          "scatterternary": [
           {
            "marker": {
             "colorbar": {
              "outlinewidth": 0,
              "ticks": ""
             }
            },
            "type": "scatterternary"
           }
          ],
          "surface": [
           {
            "colorbar": {
             "outlinewidth": 0,
             "ticks": ""
            },
            "colorscale": [
             [
              0,
              "#0d0887"
             ],
             [
              0.1111111111111111,
              "#46039f"
             ],
             [
              0.2222222222222222,
              "#7201a8"
             ],
             [
              0.3333333333333333,
              "#9c179e"
             ],
             [
              0.4444444444444444,
              "#bd3786"
             ],
             [
              0.5555555555555556,
              "#d8576b"
             ],
             [
              0.6666666666666666,
              "#ed7953"
             ],
             [
              0.7777777777777778,
              "#fb9f3a"
             ],
             [
              0.8888888888888888,
              "#fdca26"
             ],
             [
              1,
              "#f0f921"
             ]
            ],
            "type": "surface"
           }
          ],
          "table": [
           {
            "cells": {
             "fill": {
              "color": "#EBF0F8"
             },
             "line": {
              "color": "white"
             }
            },
            "header": {
             "fill": {
              "color": "#C8D4E3"
             },
             "line": {
              "color": "white"
             }
            },
            "type": "table"
           }
          ]
         },
         "layout": {
          "annotationdefaults": {
           "arrowcolor": "#2a3f5f",
           "arrowhead": 0,
           "arrowwidth": 1
          },
          "autotypenumbers": "strict",
          "coloraxis": {
           "colorbar": {
            "outlinewidth": 0,
            "ticks": ""
           }
          },
          "colorscale": {
           "diverging": [
            [
             0,
             "#8e0152"
            ],
            [
             0.1,
             "#c51b7d"
            ],
            [
             0.2,
             "#de77ae"
            ],
            [
             0.3,
             "#f1b6da"
            ],
            [
             0.4,
             "#fde0ef"
            ],
            [
             0.5,
             "#f7f7f7"
            ],
            [
             0.6,
             "#e6f5d0"
            ],
            [
             0.7,
             "#b8e186"
            ],
            [
             0.8,
             "#7fbc41"
            ],
            [
             0.9,
             "#4d9221"
            ],
            [
             1,
             "#276419"
            ]
           ],
           "sequential": [
            [
             0,
             "#0d0887"
            ],
            [
             0.1111111111111111,
             "#46039f"
            ],
            [
             0.2222222222222222,
             "#7201a8"
            ],
            [
             0.3333333333333333,
             "#9c179e"
            ],
            [
             0.4444444444444444,
             "#bd3786"
            ],
            [
             0.5555555555555556,
             "#d8576b"
            ],
            [
             0.6666666666666666,
             "#ed7953"
            ],
            [
             0.7777777777777778,
             "#fb9f3a"
            ],
            [
             0.8888888888888888,
             "#fdca26"
            ],
            [
             1,
             "#f0f921"
            ]
           ],
           "sequentialminus": [
            [
             0,
             "#0d0887"
            ],
            [
             0.1111111111111111,
             "#46039f"
            ],
            [
             0.2222222222222222,
             "#7201a8"
            ],
            [
             0.3333333333333333,
             "#9c179e"
            ],
            [
             0.4444444444444444,
             "#bd3786"
            ],
            [
             0.5555555555555556,
             "#d8576b"
            ],
            [
             0.6666666666666666,
             "#ed7953"
            ],
            [
             0.7777777777777778,
             "#fb9f3a"
            ],
            [
             0.8888888888888888,
             "#fdca26"
            ],
            [
             1,
             "#f0f921"
            ]
           ]
          },
          "colorway": [
           "#636efa",
           "#EF553B",
           "#00cc96",
           "#ab63fa",
           "#FFA15A",
           "#19d3f3",
           "#FF6692",
           "#B6E880",
           "#FF97FF",
           "#FECB52"
          ],
          "font": {
           "color": "#2a3f5f"
          },
          "geo": {
           "bgcolor": "white",
           "lakecolor": "white",
           "landcolor": "#E5ECF6",
           "showlakes": true,
           "showland": true,
           "subunitcolor": "white"
          },
          "hoverlabel": {
           "align": "left"
          },
          "hovermode": "closest",
          "mapbox": {
           "style": "light"
          },
          "paper_bgcolor": "white",
          "plot_bgcolor": "#E5ECF6",
          "polar": {
           "angularaxis": {
            "gridcolor": "white",
            "linecolor": "white",
            "ticks": ""
           },
           "bgcolor": "#E5ECF6",
           "radialaxis": {
            "gridcolor": "white",
            "linecolor": "white",
            "ticks": ""
           }
          },
          "scene": {
           "xaxis": {
            "backgroundcolor": "#E5ECF6",
            "gridcolor": "white",
            "gridwidth": 2,
            "linecolor": "white",
            "showbackground": true,
            "ticks": "",
            "zerolinecolor": "white"
           },
           "yaxis": {
            "backgroundcolor": "#E5ECF6",
            "gridcolor": "white",
            "gridwidth": 2,
            "linecolor": "white",
            "showbackground": true,
            "ticks": "",
            "zerolinecolor": "white"
           },
           "zaxis": {
            "backgroundcolor": "#E5ECF6",
            "gridcolor": "white",
            "gridwidth": 2,
            "linecolor": "white",
            "showbackground": true,
            "ticks": "",
            "zerolinecolor": "white"
           }
          },
          "shapedefaults": {
           "line": {
            "color": "#2a3f5f"
           }
          },
          "ternary": {
           "aaxis": {
            "gridcolor": "white",
            "linecolor": "white",
            "ticks": ""
           },
           "baxis": {
            "gridcolor": "white",
            "linecolor": "white",
            "ticks": ""
           },
           "bgcolor": "#E5ECF6",
           "caxis": {
            "gridcolor": "white",
            "linecolor": "white",
            "ticks": ""
           }
          },
          "title": {
           "x": 0.05
          },
          "xaxis": {
           "automargin": true,
           "gridcolor": "white",
           "linecolor": "white",
           "ticks": "",
           "title": {
            "standoff": 15
           },
           "zerolinecolor": "white",
           "zerolinewidth": 2
          },
          "yaxis": {
           "automargin": true,
           "gridcolor": "white",
           "linecolor": "white",
           "ticks": "",
           "title": {
            "standoff": 15
           },
           "zerolinecolor": "white",
           "zerolinewidth": 2
          }
         }
        },
        "title": {
         "text": "Confusion Matrix — Fine-tuned MobileNetV2 (Valid)"
        },
        "xaxis": {
         "title": {
          "text": "Predicted"
         }
        },
        "yaxis": {
         "title": {
          "text": "True"
         }
        }
       }
      }
     },
     "metadata": {},
     "output_type": "display_data"
    }
   ],
   "source": [
    "from sklearn.metrics import classification_report, confusion_matrix\n",
    "import pandas as pd\n",
    "\n",
    "va_acc, va_auroc, va_preds, va_targets, va_probs = evaluate(m, dl_va)\n",
    "print(f\"Validation ACC: {va_acc:.3f} | AUROC (macro): {va_auroc:.3f}\")\n",
    "if va_preds.size > 0:\n",
    "    print(pd.DataFrame(classification_report(va_targets, va_preds, target_names=CLASSES, output_dict=True)).transpose().round(3))\n",
    "    cm_va = confusion_matrix(va_targets, va_preds, labels=list(range(len(CLASSES))))\n",
    "    plot_confusion_matrix(cm_va, CLASSES, \"Confusion Matrix — Fine-tuned MobileNetV2 (Valid)\")\n",
    "else:\n",
    "    print(\"No validation predictions available (all batches may have been dropped).\")\n"
   ]
  },
  {
   "cell_type": "code",
   "execution_count": 40,
   "id": "95f9daa7",
   "metadata": {},
   "outputs": [
    {
     "name": "stdout",
     "output_type": "stream",
     "text": [
      "Test ACC: 0.528 | AUROC (macro): 0.819\n",
      "                      precision  recall  f1-score  support\n",
      "melanoma                  0.406   0.590     0.481  117.000\n",
      "nevus                     0.933   0.427     0.586  393.000\n",
      "seborrheic_keratosis      0.320   0.889     0.471   90.000\n",
      "accuracy                  0.528   0.528     0.528    0.528\n",
      "macro avg                 0.553   0.635     0.513  600.000\n",
      "weighted avg              0.738   0.528     0.548  600.000\n"
     ]
    },
    {
     "data": {
      "application/vnd.plotly.v1+json": {
       "config": {
        "plotlyServerURL": "https://plot.ly"
       },
       "data": [
        {
         "colorscale": [
          [
           0,
           "#440154"
          ],
          [
           0.1111111111111111,
           "#482878"
          ],
          [
           0.2222222222222222,
           "#3e4989"
          ],
          [
           0.3333333333333333,
           "#31688e"
          ],
          [
           0.4444444444444444,
           "#26828e"
          ],
          [
           0.5555555555555556,
           "#1f9e89"
          ],
          [
           0.6666666666666666,
           "#35b779"
          ],
          [
           0.7777777777777778,
           "#6ece58"
          ],
          [
           0.8888888888888888,
           "#b5de2b"
          ],
          [
           1,
           "#fde725"
          ]
         ],
         "hovertemplate": "Pred: %{x}<br>True: %{y}<br>Count: %{z}<extra></extra>",
         "type": "heatmap",
         "x": [
          "melanoma",
          "nevus",
          "seborrheic_keratosis"
         ],
         "y": [
          "melanoma",
          "nevus",
          "seborrheic_keratosis"
         ],
         "z": [
          [
           69,
           7,
           41
          ],
          [
           96,
           168,
           129
          ],
          [
           5,
           5,
           80
          ]
         ]
        }
       ],
       "layout": {
        "template": {
         "data": {
          "bar": [
           {
            "error_x": {
             "color": "#2a3f5f"
            },
            "error_y": {
             "color": "#2a3f5f"
            },
            "marker": {
             "line": {
              "color": "#E5ECF6",
              "width": 0.5
             },
             "pattern": {
              "fillmode": "overlay",
              "size": 10,
              "solidity": 0.2
             }
            },
            "type": "bar"
           }
          ],
          "barpolar": [
           {
            "marker": {
             "line": {
              "color": "#E5ECF6",
              "width": 0.5
             },
             "pattern": {
              "fillmode": "overlay",
              "size": 10,
              "solidity": 0.2
             }
            },
            "type": "barpolar"
           }
          ],
          "carpet": [
           {
            "aaxis": {
             "endlinecolor": "#2a3f5f",
             "gridcolor": "white",
             "linecolor": "white",
             "minorgridcolor": "white",
             "startlinecolor": "#2a3f5f"
            },
            "baxis": {
             "endlinecolor": "#2a3f5f",
             "gridcolor": "white",
             "linecolor": "white",
             "minorgridcolor": "white",
             "startlinecolor": "#2a3f5f"
            },
            "type": "carpet"
           }
          ],
          "choropleth": [
           {
            "colorbar": {
             "outlinewidth": 0,
             "ticks": ""
            },
            "type": "choropleth"
           }
          ],
          "contour": [
           {
            "colorbar": {
             "outlinewidth": 0,
             "ticks": ""
            },
            "colorscale": [
             [
              0,
              "#0d0887"
             ],
             [
              0.1111111111111111,
              "#46039f"
             ],
             [
              0.2222222222222222,
              "#7201a8"
             ],
             [
              0.3333333333333333,
              "#9c179e"
             ],
             [
              0.4444444444444444,
              "#bd3786"
             ],
             [
              0.5555555555555556,
              "#d8576b"
             ],
             [
              0.6666666666666666,
              "#ed7953"
             ],
             [
              0.7777777777777778,
              "#fb9f3a"
             ],
             [
              0.8888888888888888,
              "#fdca26"
             ],
             [
              1,
              "#f0f921"
             ]
            ],
            "type": "contour"
           }
          ],
          "contourcarpet": [
           {
            "colorbar": {
             "outlinewidth": 0,
             "ticks": ""
            },
            "type": "contourcarpet"
           }
          ],
          "heatmap": [
           {
            "colorbar": {
             "outlinewidth": 0,
             "ticks": ""
            },
            "colorscale": [
             [
              0,
              "#0d0887"
             ],
             [
              0.1111111111111111,
              "#46039f"
             ],
             [
              0.2222222222222222,
              "#7201a8"
             ],
             [
              0.3333333333333333,
              "#9c179e"
             ],
             [
              0.4444444444444444,
              "#bd3786"
             ],
             [
              0.5555555555555556,
              "#d8576b"
             ],
             [
              0.6666666666666666,
              "#ed7953"
             ],
             [
              0.7777777777777778,
              "#fb9f3a"
             ],
             [
              0.8888888888888888,
              "#fdca26"
             ],
             [
              1,
              "#f0f921"
             ]
            ],
            "type": "heatmap"
           }
          ],
          "heatmapgl": [
           {
            "colorbar": {
             "outlinewidth": 0,
             "ticks": ""
            },
            "colorscale": [
             [
              0,
              "#0d0887"
             ],
             [
              0.1111111111111111,
              "#46039f"
             ],
             [
              0.2222222222222222,
              "#7201a8"
             ],
             [
              0.3333333333333333,
              "#9c179e"
             ],
             [
              0.4444444444444444,
              "#bd3786"
             ],
             [
              0.5555555555555556,
              "#d8576b"
             ],
             [
              0.6666666666666666,
              "#ed7953"
             ],
             [
              0.7777777777777778,
              "#fb9f3a"
             ],
             [
              0.8888888888888888,
              "#fdca26"
             ],
             [
              1,
              "#f0f921"
             ]
            ],
            "type": "heatmapgl"
           }
          ],
          "histogram": [
           {
            "marker": {
             "pattern": {
              "fillmode": "overlay",
              "size": 10,
              "solidity": 0.2
             }
            },
            "type": "histogram"
           }
          ],
          "histogram2d": [
           {
            "colorbar": {
             "outlinewidth": 0,
             "ticks": ""
            },
            "colorscale": [
             [
              0,
              "#0d0887"
             ],
             [
              0.1111111111111111,
              "#46039f"
             ],
             [
              0.2222222222222222,
              "#7201a8"
             ],
             [
              0.3333333333333333,
              "#9c179e"
             ],
             [
              0.4444444444444444,
              "#bd3786"
             ],
             [
              0.5555555555555556,
              "#d8576b"
             ],
             [
              0.6666666666666666,
              "#ed7953"
             ],
             [
              0.7777777777777778,
              "#fb9f3a"
             ],
             [
              0.8888888888888888,
              "#fdca26"
             ],
             [
              1,
              "#f0f921"
             ]
            ],
            "type": "histogram2d"
           }
          ],
          "histogram2dcontour": [
           {
            "colorbar": {
             "outlinewidth": 0,
             "ticks": ""
            },
            "colorscale": [
             [
              0,
              "#0d0887"
             ],
             [
              0.1111111111111111,
              "#46039f"
             ],
             [
              0.2222222222222222,
              "#7201a8"
             ],
             [
              0.3333333333333333,
              "#9c179e"
             ],
             [
              0.4444444444444444,
              "#bd3786"
             ],
             [
              0.5555555555555556,
              "#d8576b"
             ],
             [
              0.6666666666666666,
              "#ed7953"
             ],
             [
              0.7777777777777778,
              "#fb9f3a"
             ],
             [
              0.8888888888888888,
              "#fdca26"
             ],
             [
              1,
              "#f0f921"
             ]
            ],
            "type": "histogram2dcontour"
           }
          ],
          "mesh3d": [
           {
            "colorbar": {
             "outlinewidth": 0,
             "ticks": ""
            },
            "type": "mesh3d"
           }
          ],
          "parcoords": [
           {
            "line": {
             "colorbar": {
              "outlinewidth": 0,
              "ticks": ""
             }
            },
            "type": "parcoords"
           }
          ],
          "pie": [
           {
            "automargin": true,
            "type": "pie"
           }
          ],
          "scatter": [
           {
            "fillpattern": {
             "fillmode": "overlay",
             "size": 10,
             "solidity": 0.2
            },
            "type": "scatter"
           }
          ],
          "scatter3d": [
           {
            "line": {
             "colorbar": {
              "outlinewidth": 0,
              "ticks": ""
             }
            },
            "marker": {
             "colorbar": {
              "outlinewidth": 0,
              "ticks": ""
             }
            },
            "type": "scatter3d"
           }
          ],
          "scattercarpet": [
           {
            "marker": {
             "colorbar": {
              "outlinewidth": 0,
              "ticks": ""
             }
            },
            "type": "scattercarpet"
           }
          ],
          "scattergeo": [
           {
            "marker": {
             "colorbar": {
              "outlinewidth": 0,
              "ticks": ""
             }
            },
            "type": "scattergeo"
           }
          ],
          "scattergl": [
           {
            "marker": {
             "colorbar": {
              "outlinewidth": 0,
              "ticks": ""
             }
            },
            "type": "scattergl"
           }
          ],
          "scattermapbox": [
           {
            "marker": {
             "colorbar": {
              "outlinewidth": 0,
              "ticks": ""
             }
            },
            "type": "scattermapbox"
           }
          ],
          "scatterpolar": [
           {
            "marker": {
             "colorbar": {
              "outlinewidth": 0,
              "ticks": ""
             }
            },
            "type": "scatterpolar"
           }
          ],
          "scatterpolargl": [
           {
            "marker": {
             "colorbar": {
              "outlinewidth": 0,
              "ticks": ""
             }
            },
            "type": "scatterpolargl"
           }
          ],
          "scatterternary": [
           {
            "marker": {
             "colorbar": {
              "outlinewidth": 0,
              "ticks": ""
             }
            },
            "type": "scatterternary"
           }
          ],
          "surface": [
           {
            "colorbar": {
             "outlinewidth": 0,
             "ticks": ""
            },
            "colorscale": [
             [
              0,
              "#0d0887"
             ],
             [
              0.1111111111111111,
              "#46039f"
             ],
             [
              0.2222222222222222,
              "#7201a8"
             ],
             [
              0.3333333333333333,
              "#9c179e"
             ],
             [
              0.4444444444444444,
              "#bd3786"
             ],
             [
              0.5555555555555556,
              "#d8576b"
             ],
             [
              0.6666666666666666,
              "#ed7953"
             ],
             [
              0.7777777777777778,
              "#fb9f3a"
             ],
             [
              0.8888888888888888,
              "#fdca26"
             ],
             [
              1,
              "#f0f921"
             ]
            ],
            "type": "surface"
           }
          ],
          "table": [
           {
            "cells": {
             "fill": {
              "color": "#EBF0F8"
             },
             "line": {
              "color": "white"
             }
            },
            "header": {
             "fill": {
              "color": "#C8D4E3"
             },
             "line": {
              "color": "white"
             }
            },
            "type": "table"
           }
          ]
         },
         "layout": {
          "annotationdefaults": {
           "arrowcolor": "#2a3f5f",
           "arrowhead": 0,
           "arrowwidth": 1
          },
          "autotypenumbers": "strict",
          "coloraxis": {
           "colorbar": {
            "outlinewidth": 0,
            "ticks": ""
           }
          },
          "colorscale": {
           "diverging": [
            [
             0,
             "#8e0152"
            ],
            [
             0.1,
             "#c51b7d"
            ],
            [
             0.2,
             "#de77ae"
            ],
            [
             0.3,
             "#f1b6da"
            ],
            [
             0.4,
             "#fde0ef"
            ],
            [
             0.5,
             "#f7f7f7"
            ],
            [
             0.6,
             "#e6f5d0"
            ],
            [
             0.7,
             "#b8e186"
            ],
            [
             0.8,
             "#7fbc41"
            ],
            [
             0.9,
             "#4d9221"
            ],
            [
             1,
             "#276419"
            ]
           ],
           "sequential": [
            [
             0,
             "#0d0887"
            ],
            [
             0.1111111111111111,
             "#46039f"
            ],
            [
             0.2222222222222222,
             "#7201a8"
            ],
            [
             0.3333333333333333,
             "#9c179e"
            ],
            [
             0.4444444444444444,
             "#bd3786"
            ],
            [
             0.5555555555555556,
             "#d8576b"
            ],
            [
             0.6666666666666666,
             "#ed7953"
            ],
            [
             0.7777777777777778,
             "#fb9f3a"
            ],
            [
             0.8888888888888888,
             "#fdca26"
            ],
            [
             1,
             "#f0f921"
            ]
           ],
           "sequentialminus": [
            [
             0,
             "#0d0887"
            ],
            [
             0.1111111111111111,
             "#46039f"
            ],
            [
             0.2222222222222222,
             "#7201a8"
            ],
            [
             0.3333333333333333,
             "#9c179e"
            ],
            [
             0.4444444444444444,
             "#bd3786"
            ],
            [
             0.5555555555555556,
             "#d8576b"
            ],
            [
             0.6666666666666666,
             "#ed7953"
            ],
            [
             0.7777777777777778,
             "#fb9f3a"
            ],
            [
             0.8888888888888888,
             "#fdca26"
            ],
            [
             1,
             "#f0f921"
            ]
           ]
          },
          "colorway": [
           "#636efa",
           "#EF553B",
           "#00cc96",
           "#ab63fa",
           "#FFA15A",
           "#19d3f3",
           "#FF6692",
           "#B6E880",
           "#FF97FF",
           "#FECB52"
          ],
          "font": {
           "color": "#2a3f5f"
          },
          "geo": {
           "bgcolor": "white",
           "lakecolor": "white",
           "landcolor": "#E5ECF6",
           "showlakes": true,
           "showland": true,
           "subunitcolor": "white"
          },
          "hoverlabel": {
           "align": "left"
          },
          "hovermode": "closest",
          "mapbox": {
           "style": "light"
          },
          "paper_bgcolor": "white",
          "plot_bgcolor": "#E5ECF6",
          "polar": {
           "angularaxis": {
            "gridcolor": "white",
            "linecolor": "white",
            "ticks": ""
           },
           "bgcolor": "#E5ECF6",
           "radialaxis": {
            "gridcolor": "white",
            "linecolor": "white",
            "ticks": ""
           }
          },
          "scene": {
           "xaxis": {
            "backgroundcolor": "#E5ECF6",
            "gridcolor": "white",
            "gridwidth": 2,
            "linecolor": "white",
            "showbackground": true,
            "ticks": "",
            "zerolinecolor": "white"
           },
           "yaxis": {
            "backgroundcolor": "#E5ECF6",
            "gridcolor": "white",
            "gridwidth": 2,
            "linecolor": "white",
            "showbackground": true,
            "ticks": "",
            "zerolinecolor": "white"
           },
           "zaxis": {
            "backgroundcolor": "#E5ECF6",
            "gridcolor": "white",
            "gridwidth": 2,
            "linecolor": "white",
            "showbackground": true,
            "ticks": "",
            "zerolinecolor": "white"
           }
          },
          "shapedefaults": {
           "line": {
            "color": "#2a3f5f"
           }
          },
          "ternary": {
           "aaxis": {
            "gridcolor": "white",
            "linecolor": "white",
            "ticks": ""
           },
           "baxis": {
            "gridcolor": "white",
            "linecolor": "white",
            "ticks": ""
           },
           "bgcolor": "#E5ECF6",
           "caxis": {
            "gridcolor": "white",
            "linecolor": "white",
            "ticks": ""
           }
          },
          "title": {
           "x": 0.05
          },
          "xaxis": {
           "automargin": true,
           "gridcolor": "white",
           "linecolor": "white",
           "ticks": "",
           "title": {
            "standoff": 15
           },
           "zerolinecolor": "white",
           "zerolinewidth": 2
          },
          "yaxis": {
           "automargin": true,
           "gridcolor": "white",
           "linecolor": "white",
           "ticks": "",
           "title": {
            "standoff": 15
           },
           "zerolinecolor": "white",
           "zerolinewidth": 2
          }
         }
        },
        "title": {
         "text": "Confusion Matrix — Fine-tuned MobileNetV2 (Test)"
        },
        "xaxis": {
         "title": {
          "text": "Predicted"
         }
        },
        "yaxis": {
         "title": {
          "text": "True"
         }
        }
       }
      }
     },
     "metadata": {},
     "output_type": "display_data"
    },
    {
     "name": "stdout",
     "output_type": "stream",
     "text": [
      "\n",
      "Binary melanoma sensitivity @ thr=0.35:\n",
      "              precision    recall  f1-score   support\n",
      "\n",
      "     non-mel      0.895     0.741     0.811       483\n",
      "         mel      0.375     0.641     0.473       117\n",
      "\n",
      "    accuracy                          0.722       600\n",
      "   macro avg      0.635     0.691     0.642       600\n",
      "weighted avg      0.794     0.722     0.745       600\n",
      "\n"
     ]
    }
   ],
   "source": [
    "\n",
    "from sklearn.metrics import classification_report\n",
    "import numpy as np\n",
    "\n",
    "te_acc, te_auroc, te_preds, te_targets, te_probs = evaluate(m, dl_te)\n",
    "print(f\"Test ACC: {te_acc:.3f} | AUROC (macro): {te_auroc:.3f}\")\n",
    "if te_preds.size > 0:\n",
    "    print(pd.DataFrame(classification_report(te_targets, te_preds, target_names=CLASSES, output_dict=True)).transpose().round(3))\n",
    "    cm_te = confusion_matrix(te_targets, te_preds, labels=list(range(len(CLASSES))))\n",
    "    plot_confusion_matrix(cm_te, CLASSES, \"Confusion Matrix — Fine-tuned MobileNetV2 (Test)\")\n",
    "\n",
    "   \n",
    "    if \"melanoma\" in CLASSES:\n",
    "        mel_idx = CLASSES.index(\"melanoma\")\n",
    "        thr = 0.35 \n",
    "        te_preds_thr = (te_probs[:, mel_idx] > thr).astype(int)\n",
    "        y_true_mel = (np.array(te_targets) == mel_idx).astype(int)\n",
    "        print(\"\\nBinary melanoma sensitivity @ thr=0.35:\")\n",
    "        print(classification_report(y_true_mel, te_preds_thr, target_names=[\"non-mel\", \"mel\"], digits=3))\n",
    "else:\n",
    "    print(\"No test predictions available (all batches may have been dropped).\")\n"
   ]
  },
  {
   "cell_type": "code",
   "execution_count": null,
   "id": "48b7443a",
   "metadata": {},
   "outputs": [
    {
     "name": "stdout",
     "output_type": "stream",
     "text": [
      "                      precision  recall  f1-score  support\n",
      "melanoma                  0.410   0.607     0.490  117.000\n",
      "nevus                     0.946   0.445     0.606  393.000\n",
      "seborrheic_keratosis      0.331   0.889     0.482   90.000\n",
      "accuracy                  0.543   0.543     0.543    0.543\n",
      "macro avg                 0.562   0.647     0.526  600.000\n",
      "weighted avg              0.749   0.543     0.564  600.000\n"
     ]
    }
   ],
   "source": [
    "\n",
    "import numpy as np\n",
    "import torch\n",
    "\n",
    "def tta_predict(model, dl, n=4):\n",
    "    model.eval()\n",
    "    all_logits, all_targets = [], []\n",
    "    with torch.no_grad():\n",
    "        for batch in dl:\n",
    "            if batch is None:\n",
    "                continue\n",
    "            xb, yb = batch\n",
    "            xb, yb = xb.to(device), yb.to(device)\n",
    "            logits_sum = 0\n",
    "            for _ in range(n):\n",
    "                \n",
    "                xb_aug = torch.flip(xb, dims=[3]) if np.random.rand() < 0.5 else xb\n",
    "                logits_sum += model(xb_aug)\n",
    "            all_logits.append((logits_sum / n).cpu().numpy())\n",
    "            all_targets.append(yb.cpu().numpy())\n",
    "    if not all_logits:\n",
    "        return np.array([[]]), np.array([])\n",
    "    return np.concatenate(all_logits), np.concatenate(all_targets)\n",
    "\n",
    "logits_tta, tgt_tta = tta_predict(m, dl_te, n=4)\n",
    "if logits_tta.size:\n",
    "    probs_tta = torch.softmax(torch.tensor(logits_tta), dim=1).numpy()\n",
    "    preds_tta = probs_tta.argmax(1)\n",
    "    print(pd.DataFrame(classification_report(tgt_tta, preds_tta, target_names=CLASSES, output_dict=True)).transpose().round(3))\n",
    "else:\n",
    "    print(\"TTA produced no outputs (all test batches dropped).\")\n"
   ]
  }
 ],
 "metadata": {
  "kernelspec": {
   "display_name": "base",
   "language": "python",
   "name": "python3"
  },
  "language_info": {
   "codemirror_mode": {
    "name": "ipython",
    "version": 3
   },
   "file_extension": ".py",
   "mimetype": "text/x-python",
   "name": "python",
   "nbconvert_exporter": "python",
   "pygments_lexer": "ipython3",
   "version": "3.12.7"
  }
 },
 "nbformat": 4,
 "nbformat_minor": 5
}
